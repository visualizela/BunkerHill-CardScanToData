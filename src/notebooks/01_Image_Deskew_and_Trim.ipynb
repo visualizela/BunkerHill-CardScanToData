{
 "cells": [
  {
   "cell_type": "code",
   "execution_count": 1,
   "id": "0495c78c",
   "metadata": {},
   "outputs": [],
   "source": [
    "import os\n",
    "import time\n",
    "from concurrent.futures import ProcessPoolExecutor\n",
    "\n",
    "from tqdm import tqdm\n",
    "\n",
    "from src.utils import find_images\n",
    "from src.constants import DATA_DIR, PROJECT_ROOT_PATH\n",
    "from src.image_preprocessing import (\n",
    "    deskew_image,\n",
    "    edgecut,\n",
    "    ProcessImageArgs,\n",
    "    MatchAndCropArgs,\n",
    "    match_and_crop_image\n",
    ")\n",
    "\n"
   ]
  },
  {
   "cell_type": "code",
   "execution_count": 2,
   "id": "059de248",
   "metadata": {},
   "outputs": [
    {
     "name": "stderr",
     "output_type": "stream",
     "text": [
      "100%|██████████| 2252/2252 [01:48<00:00, 20.69it/s]\n"
     ]
    }
   ],
   "source": [
    "in_folder = DATA_DIR / \"01_RawData\"\n",
    "out_folder = DATA_DIR / \"02_Deskewed\"\n",
    "os.makedirs(out_folder, exist_ok=True)\n",
    "image_list = find_images(in_folder)\n",
    "\n",
    "args_list = [ProcessImageArgs(inpath=im, outfolder=out_folder) for i, im in enumerate(image_list)]\n",
    "\n",
    "with ProcessPoolExecutor() as executor:\n",
    "    list(tqdm(executor.map(deskew_image, args_list), total=len(args_list)))\n"
   ]
  },
  {
   "cell_type": "code",
   "execution_count": 3,
   "id": "2dc00623",
   "metadata": {},
   "outputs": [
    {
     "name": "stderr",
     "output_type": "stream",
     "text": [
      "  0%|          | 0/2265 [00:00<?, ?it/s]"
     ]
    },
    {
     "name": "stdout",
     "output_type": "stream",
     "text": [
      "reverted big fuzz black trim: /Users/xieewenz/BunkerHill-CardScanToData/data/02_Deskewed/p15799coll8_12631.jpeg\n",
      "reverted big fuzz white trim: /Users/xieewenz/BunkerHill-CardScanToData/data/02_Deskewed/p15799coll8_12616.jpg\n"
     ]
    },
    {
     "name": "stderr",
     "output_type": "stream",
     "text": [
      "  1%|          | 16/2265 [00:36<1:01:25,  1.64s/it]"
     ]
    },
    {
     "name": "stdout",
     "output_type": "stream",
     "text": [
      "reverted big fuzz white trim: /Users/xieewenz/BunkerHill-CardScanToData/data/02_Deskewed/p15799coll8_12903.jpeg\n",
      "reverted big fuzz white trim: /Users/xieewenz/BunkerHill-CardScanToData/data/02_Deskewed/p15799coll8_12900.jpeg\n"
     ]
    },
    {
     "name": "stderr",
     "output_type": "stream",
     "text": [
      "  1%|          | 16/2265 [00:50<1:01:25,  1.64s/it]"
     ]
    },
    {
     "name": "stdout",
     "output_type": "stream",
     "text": [
      "reverted big fuzz white trim: /Users/xieewenz/BunkerHill-CardScanToData/data/02_Deskewed/p15799coll8_12642.jpeg\n",
      "reverted big fuzz white trim: /Users/xieewenz/BunkerHill-CardScanToData/data/02_Deskewed/p15799coll8_12615.jpeg\n"
     ]
    },
    {
     "name": "stderr",
     "output_type": "stream",
     "text": [
      "  1%|          | 17/2265 [00:54<1:51:55,  2.99s/it]"
     ]
    },
    {
     "name": "stdout",
     "output_type": "stream",
     "text": [
      "reverted big fuzz white trim: /Users/xieewenz/BunkerHill-CardScanToData/data/02_Deskewed/p15799coll8_12635.jpeg\n",
      "reverted big fuzz white trim: /Users/xieewenz/BunkerHill-CardScanToData/data/02_Deskewed/p15799coll8_12646.jpeg\n",
      "reverted big fuzz black trim: /Users/xieewenz/BunkerHill-CardScanToData/data/02_Deskewed/p15799coll8_12635.jpeg\n",
      "reverted big fuzz black trim: /Users/xieewenz/BunkerHill-CardScanToData/data/02_Deskewed/p15799coll8_12900.jpeg\n",
      "reverted big fuzz white trim: /Users/xieewenz/BunkerHill-CardScanToData/data/02_Deskewed/p15799coll8_12634.jpeg\n",
      "reverted big fuzz white trim: /Users/xieewenz/BunkerHill-CardScanToData/data/02_Deskewed/p15799coll8_12913.jpeg\n",
      "reverted big fuzz white trim: /Users/xieewenz/BunkerHill-CardScanToData/data/02_Deskewed/p15799coll8_12918.jpeg\n",
      "reverted big fuzz white trim: /Users/xieewenz/BunkerHill-CardScanToData/data/02_Deskewed/p15799coll8_12906.jpeg\n"
     ]
    },
    {
     "name": "stderr",
     "output_type": "stream",
     "text": [
      "  1%|          | 20/2265 [01:53<4:38:10,  7.43s/it]"
     ]
    },
    {
     "name": "stdout",
     "output_type": "stream",
     "text": [
      "reverted big fuzz black trim: /Users/xieewenz/BunkerHill-CardScanToData/data/02_Deskewed/p15799coll8_12634.jpeg\n",
      "reverted big fuzz white trim: /Users/xieewenz/BunkerHill-CardScanToData/data/02_Deskewed/p15799coll8_12932.jpeg\n",
      "reverted big fuzz white trim: /Users/xieewenz/BunkerHill-CardScanToData/data/02_Deskewed/p15799coll8_12922.jpeg\n",
      "reverted big fuzz white trim: /Users/xieewenz/BunkerHill-CardScanToData/data/02_Deskewed/p15799coll8_12910.jpeg\n",
      "reverted big fuzz white trim: /Users/xieewenz/BunkerHill-CardScanToData/data/02_Deskewed/p15799coll8_12928.jpeg\n",
      "reverted big fuzz white trim: /Users/xieewenz/BunkerHill-CardScanToData/data/02_Deskewed/p15799coll8_12930.jpeg\n",
      "reverted big fuzz black trim: /Users/xieewenz/BunkerHill-CardScanToData/data/02_Deskewed/p15799coll8_12930.jpeg\n"
     ]
    },
    {
     "name": "stderr",
     "output_type": "stream",
     "text": [
      "  1%|          | 27/2265 [02:15<3:20:36,  5.38s/it]"
     ]
    },
    {
     "name": "stdout",
     "output_type": "stream",
     "text": [
      "reverted small fuzz white trim: /Users/xieewenz/BunkerHill-CardScanToData/data/02_Deskewed/p15799coll8_12906.jpeg\n",
      "reverted big fuzz white trim: /Users/xieewenz/BunkerHill-CardScanToData/data/02_Deskewed/p15799coll8_12934.jpeg\n",
      "reverted big fuzz white trim: /Users/xieewenz/BunkerHill-CardScanToData/data/02_Deskewed/p15799coll8_12941.jpeg\n",
      "reverted big fuzz white trim: /Users/xieewenz/BunkerHill-CardScanToData/data/02_Deskewed/p15799coll8_12947.jpeg\n",
      "reverted big fuzz black trim: /Users/xieewenz/BunkerHill-CardScanToData/data/02_Deskewed/p15799coll8_12951.jpeg\n",
      "reverted big fuzz white trim: /Users/xieewenz/BunkerHill-CardScanToData/data/02_Deskewed/p15799coll8_12936.jpeg\n",
      "reverted big fuzz white trim: /Users/xieewenz/BunkerHill-CardScanToData/data/02_Deskewed/p15799coll8_12938.jpeg\n",
      "reverted big fuzz white trim: /Users/xieewenz/BunkerHill-CardScanToData/data/02_Deskewed/p15799coll8_12943.jpeg\n",
      "reverted big fuzz black trim: /Users/xieewenz/BunkerHill-CardScanToData/data/02_Deskewed/p15799coll8_12947.jpeg\n",
      "reverted big fuzz black trim: /Users/xieewenz/BunkerHill-CardScanToData/data/02_Deskewed/p15799coll8_12910.jpeg\n",
      "reverted big fuzz black trim: /Users/xieewenz/BunkerHill-CardScanToData/data/02_Deskewed/p15799coll8_12949.jpeg\n"
     ]
    },
    {
     "name": "stderr",
     "output_type": "stream",
     "text": [
      "  1%|          | 28/2265 [02:57<5:21:48,  8.63s/it]"
     ]
    },
    {
     "name": "stdout",
     "output_type": "stream",
     "text": [
      "reverted big fuzz black trim: /Users/xieewenz/BunkerHill-CardScanToData/data/02_Deskewed/p15799coll8_12960.jpeg\n"
     ]
    },
    {
     "name": "stderr",
     "output_type": "stream",
     "text": [
      "  2%|▏         | 39/2265 [03:02<2:24:51,  3.90s/it]"
     ]
    },
    {
     "name": "stdout",
     "output_type": "stream",
     "text": [
      "reverted big fuzz black trim: /Users/xieewenz/BunkerHill-CardScanToData/data/02_Deskewed/p15799coll8_12974.jpeg\n",
      "reverted big fuzz black trim: /Users/xieewenz/BunkerHill-CardScanToData/data/02_Deskewed/p15799coll8_12989.jpeg\n"
     ]
    },
    {
     "name": "stderr",
     "output_type": "stream",
     "text": [
      "  2%|▏         | 39/2265 [03:20<2:24:51,  3.90s/it]"
     ]
    },
    {
     "name": "stdout",
     "output_type": "stream",
     "text": [
      "reverted big fuzz black trim: /Users/xieewenz/BunkerHill-CardScanToData/data/02_Deskewed/p15799coll8_12983.jpeg\n",
      "reverted big fuzz black trim: /Users/xieewenz/BunkerHill-CardScanToData/data/02_Deskewed/p15799coll8_12969.jpeg\n",
      "reverted big fuzz white trim: /Users/xieewenz/BunkerHill-CardScanToData/data/02_Deskewed/p15799coll8_12996.jpeg\n",
      "reverted big fuzz black trim: /Users/xieewenz/BunkerHill-CardScanToData/data/02_Deskewed/p15799coll8_12996.jpeg\n",
      "reverted big fuzz black trim: /Users/xieewenz/BunkerHill-CardScanToData/data/02_Deskewed/p15799coll8_12991.jpeg\n",
      "reverted big fuzz black trim: /Users/xieewenz/BunkerHill-CardScanToData/data/02_Deskewed/p15799coll8_12986.jpeg\n"
     ]
    },
    {
     "name": "stderr",
     "output_type": "stream",
     "text": [
      "  2%|▏         | 43/2265 [03:56<3:46:45,  6.12s/it]"
     ]
    },
    {
     "name": "stdout",
     "output_type": "stream",
     "text": [
      "reverted big fuzz black trim: /Users/xieewenz/BunkerHill-CardScanToData/data/02_Deskewed/p15799coll8_12954.jpeg\n",
      "reverted big fuzz white trim: /Users/xieewenz/BunkerHill-CardScanToData/data/02_Deskewed/p15799coll8_13011.jpeg\n",
      "reverted big fuzz black trim: /Users/xieewenz/BunkerHill-CardScanToData/data/02_Deskewed/p15799coll8_12994.jpeg\n",
      "reverted big fuzz white trim: /Users/xieewenz/BunkerHill-CardScanToData/data/02_Deskewed/p15799coll8_13005.jpeg\n",
      "reverted big fuzz black trim: /Users/xieewenz/BunkerHill-CardScanToData/data/02_Deskewed/p15799coll8_12999.jpeg\n",
      "reverted big fuzz white trim: /Users/xieewenz/BunkerHill-CardScanToData/data/02_Deskewed/p15799coll8_13015.jpeg\n",
      "reverted big fuzz white trim: /Users/xieewenz/BunkerHill-CardScanToData/data/02_Deskewed/p15799coll8_13020.jpeg\n",
      "reverted big fuzz white trim: /Users/xieewenz/BunkerHill-CardScanToData/data/02_Deskewed/p15799coll8_13008.jpeg\n",
      "reverted big fuzz white trim: /Users/xieewenz/BunkerHill-CardScanToData/data/02_Deskewed/p15799coll8_13001.jpeg\n",
      "reverted big fuzz white trim: /Users/xieewenz/BunkerHill-CardScanToData/data/02_Deskewed/p15799coll8_13025.jpeg\n",
      "reverted big fuzz black trim: /Users/xieewenz/BunkerHill-CardScanToData/data/02_Deskewed/p15799coll8_12965.jpeg\n"
     ]
    },
    {
     "name": "stderr",
     "output_type": "stream",
     "text": [
      "  2%|▏         | 45/2265 [04:27<4:34:27,  7.42s/it]"
     ]
    },
    {
     "name": "stdout",
     "output_type": "stream",
     "text": [
      "reverted big fuzz black trim: /Users/xieewenz/BunkerHill-CardScanToData/data/02_Deskewed/p15799coll8_13015.jpeg\n",
      "reverted big fuzz black trim: /Users/xieewenz/BunkerHill-CardScanToData/data/02_Deskewed/p15799coll8_13008.jpeg\n",
      "reverted big fuzz white trim: /Users/xieewenz/BunkerHill-CardScanToData/data/02_Deskewed/p15799coll8_13043.jpeg\n",
      "reverted big fuzz white trim: /Users/xieewenz/BunkerHill-CardScanToData/data/02_Deskewed/p15799coll8_13028.jpeg\n"
     ]
    },
    {
     "name": "stderr",
     "output_type": "stream",
     "text": [
      "  2%|▏         | 56/2265 [04:40<2:31:40,  4.12s/it]"
     ]
    },
    {
     "name": "stdout",
     "output_type": "stream",
     "text": [
      "reverted big fuzz black trim: /Users/xieewenz/BunkerHill-CardScanToData/data/02_Deskewed/p15799coll8_13020.jpeg\n",
      "reverted big fuzz black trim: /Users/xieewenz/BunkerHill-CardScanToData/data/02_Deskewed/p15799coll8_13025.jpeg\n",
      "reverted big fuzz black trim: /Users/xieewenz/BunkerHill-CardScanToData/data/02_Deskewed/p15799coll8_13028.jpeg\n",
      "reverted big fuzz white trim: /Users/xieewenz/BunkerHill-CardScanToData/data/02_Deskewed/p15799coll8_13035.jpeg\n",
      "reverted big fuzz black trim: /Users/xieewenz/BunkerHill-CardScanToData/data/02_Deskewed/p15799coll8_13007.jpeg\n",
      "reverted big fuzz black trim: /Users/xieewenz/BunkerHill-CardScanToData/data/02_Deskewed/p15799coll8_13011.jpeg\n",
      "reverted big fuzz white trim: /Users/xieewenz/BunkerHill-CardScanToData/data/02_Deskewed/p15799coll8_13084.jpeg\n"
     ]
    },
    {
     "name": "stderr",
     "output_type": "stream",
     "text": [
      "  3%|▎         | 57/2265 [05:12<3:37:42,  5.92s/it]"
     ]
    },
    {
     "name": "stdout",
     "output_type": "stream",
     "text": [
      "reverted big fuzz white trim: /Users/xieewenz/BunkerHill-CardScanToData/data/02_Deskewed/p15799coll8_13067.jpeg\n",
      "reverted big fuzz white trim: /Users/xieewenz/BunkerHill-CardScanToData/data/02_Deskewed/p15799coll8_13088.jpeg\n",
      "reverted big fuzz white trim: /Users/xieewenz/BunkerHill-CardScanToData/data/02_Deskewed/p15799coll8_13081.jpeg\n",
      "reverted big fuzz white trim: /Users/xieewenz/BunkerHill-CardScanToData/data/02_Deskewed/p15799coll8_13052.jpeg\n",
      "reverted big fuzz black trim: /Users/xieewenz/BunkerHill-CardScanToData/data/02_Deskewed/p15799coll8_13067.jpeg\n",
      "reverted big fuzz black trim: /Users/xieewenz/BunkerHill-CardScanToData/data/02_Deskewed/p15799coll8_13084.jpeg\n",
      "reverted big fuzz black trim: /Users/xieewenz/BunkerHill-CardScanToData/data/02_Deskewed/p15799coll8_13081.jpeg\n",
      "reverted big fuzz white trim: /Users/xieewenz/BunkerHill-CardScanToData/data/02_Deskewed/p15799coll8_13098.jpeg\n",
      "reverted big fuzz black trim: /Users/xieewenz/BunkerHill-CardScanToData/data/02_Deskewed/p15799coll8_13098.jpeg\n",
      "reverted big fuzz white trim: /Users/xieewenz/BunkerHill-CardScanToData/data/02_Deskewed/p15799coll8_13093.jpeg\n",
      "reverted big fuzz black trim: /Users/xieewenz/BunkerHill-CardScanToData/data/02_Deskewed/p15799coll8_13052.jpeg\n",
      "reverted big fuzz white trim: /Users/xieewenz/BunkerHill-CardScanToData/data/02_Deskewed/p15799coll8_13075.jpeg\n",
      "reverted big fuzz white trim: /Users/xieewenz/BunkerHill-CardScanToData/data/02_Deskewed/p15799coll8_13070.jpeg\n",
      "reverted big fuzz white trim: /Users/xieewenz/BunkerHill-CardScanToData/data/02_Deskewed/p15799coll8_13101.jpeg\n",
      "reverted big fuzz white trim: /Users/xieewenz/BunkerHill-CardScanToData/data/02_Deskewed/p15799coll8_13064.jpeg\n",
      "reverted big fuzz black trim: /Users/xieewenz/BunkerHill-CardScanToData/data/02_Deskewed/p15799coll8_13064.jpeg\n"
     ]
    },
    {
     "name": "stderr",
     "output_type": "stream",
     "text": [
      "  3%|▎         | 66/2265 [06:22<4:07:48,  6.76s/it]"
     ]
    },
    {
     "name": "stdout",
     "output_type": "stream",
     "text": [
      "reverted big fuzz white trim: /Users/xieewenz/BunkerHill-CardScanToData/data/02_Deskewed/p15799coll8_13092.jpeg\n",
      "reverted big fuzz black trim: /Users/xieewenz/BunkerHill-CardScanToData/data/02_Deskewed/p15799coll8_13092.jpeg\n",
      "reverted big fuzz white trim: /Users/xieewenz/BunkerHill-CardScanToData/data/02_Deskewed/p15799coll8_13099.jpeg\n"
     ]
    },
    {
     "name": "stderr",
     "output_type": "stream",
     "text": [
      "  3%|▎         | 68/2265 [06:39<4:15:47,  6.99s/it]"
     ]
    },
    {
     "name": "stdout",
     "output_type": "stream",
     "text": [
      "reverted big fuzz white trim: /Users/xieewenz/BunkerHill-CardScanToData/data/02_Deskewed/p15799coll8_13105.jpeg\n",
      "reverted big fuzz black trim: /Users/xieewenz/BunkerHill-CardScanToData/data/02_Deskewed/p15799coll8_13101.jpeg\n",
      "reverted big fuzz white trim: /Users/xieewenz/BunkerHill-CardScanToData/data/02_Deskewed/p15799coll8_13095.jpeg\n",
      "reverted big fuzz black trim: /Users/xieewenz/BunkerHill-CardScanToData/data/02_Deskewed/p15799coll8_13099.jpeg\n"
     ]
    },
    {
     "name": "stderr",
     "output_type": "stream",
     "text": [
      "  3%|▎         | 70/2265 [07:10<5:03:29,  8.30s/it]"
     ]
    },
    {
     "name": "stdout",
     "output_type": "stream",
     "text": [
      "reverted big fuzz black trim: /Users/xieewenz/BunkerHill-CardScanToData/data/02_Deskewed/p15799coll8_13070.jpeg\n",
      "reverted big fuzz white trim: /Users/xieewenz/BunkerHill-CardScanToData/data/02_Deskewed/p15799coll8_13102.jpeg\n",
      "reverted big fuzz white trim: /Users/xieewenz/BunkerHill-CardScanToData/data/02_Deskewed/p15799coll8_13108.jpeg\n",
      "reverted big fuzz white trim: /Users/xieewenz/BunkerHill-CardScanToData/data/02_Deskewed/p15799coll8_13110.jpeg\n",
      "reverted big fuzz black trim: /Users/xieewenz/BunkerHill-CardScanToData/data/02_Deskewed/p15799coll8_13093.jpeg\n",
      "reverted big fuzz white trim: /Users/xieewenz/BunkerHill-CardScanToData/data/02_Deskewed/p15799coll8_13116.jpeg\n"
     ]
    },
    {
     "name": "stderr",
     "output_type": "stream",
     "text": [
      "  3%|▎         | 76/2265 [07:52<4:42:50,  7.75s/it]"
     ]
    },
    {
     "name": "stdout",
     "output_type": "stream",
     "text": [
      "reverted big fuzz white trim: /Users/xieewenz/BunkerHill-CardScanToData/data/02_Deskewed/p15799coll8_13112.jpeg\n",
      "reverted big fuzz black trim: /Users/xieewenz/BunkerHill-CardScanToData/data/02_Deskewed/p15799coll8_13108.jpeg\n",
      "reverted big fuzz black trim: /Users/xieewenz/BunkerHill-CardScanToData/data/02_Deskewed/p15799coll8_13116.jpeg\n",
      "reverted big fuzz white trim: /Users/xieewenz/BunkerHill-CardScanToData/data/02_Deskewed/p15799coll8_13119.jpeg\n",
      "reverted big fuzz black trim: /Users/xieewenz/BunkerHill-CardScanToData/data/02_Deskewed/p15799coll8_13110.jpeg\n",
      "reverted big fuzz white trim: /Users/xieewenz/BunkerHill-CardScanToData/data/02_Deskewed/p15799coll8_13126.jpeg\n",
      "reverted big fuzz white trim: /Users/xieewenz/BunkerHill-CardScanToData/data/02_Deskewed/p15799coll8_13114.jpeg\n"
     ]
    },
    {
     "name": "stderr",
     "output_type": "stream",
     "text": [
      "  4%|▎         | 83/2265 [08:24<3:55:44,  6.48s/it]"
     ]
    },
    {
     "name": "stdout",
     "output_type": "stream",
     "text": [
      "reverted big fuzz white trim: /Users/xieewenz/BunkerHill-CardScanToData/data/02_Deskewed/p15799coll8_13131.jpeg\n",
      "reverted big fuzz black trim: /Users/xieewenz/BunkerHill-CardScanToData/data/02_Deskewed/p15799coll8_13114.jpeg\n",
      "reverted big fuzz white trim: /Users/xieewenz/BunkerHill-CardScanToData/data/02_Deskewed/p15799coll8_13118.jpeg\n",
      "reverted big fuzz white trim: /Users/xieewenz/BunkerHill-CardScanToData/data/02_Deskewed/p15799coll8_13133.jpeg\n",
      "reverted big fuzz black trim: /Users/xieewenz/BunkerHill-CardScanToData/data/02_Deskewed/p15799coll8_13133.jpeg\n",
      "reverted big fuzz white trim: /Users/xieewenz/BunkerHill-CardScanToData/data/02_Deskewed/p15799coll8_13113.jpeg\n",
      "reverted big fuzz white trim: /Users/xieewenz/BunkerHill-CardScanToData/data/02_Deskewed/p15799coll8_13123.jpeg\n",
      "reverted big fuzz black trim: /Users/xieewenz/BunkerHill-CardScanToData/data/02_Deskewed/p15799coll8_13120.jpeg\n",
      "reverted big fuzz white trim: /Users/xieewenz/BunkerHill-CardScanToData/data/02_Deskewed/p15799coll8_13136.jpeg\n",
      "reverted big fuzz black trim: /Users/xieewenz/BunkerHill-CardScanToData/data/02_Deskewed/p15799coll8_13113.jpeg\n"
     ]
    },
    {
     "name": "stderr",
     "output_type": "stream",
     "text": [
      "  4%|▍         | 86/2265 [08:48<4:06:47,  6.80s/it]"
     ]
    },
    {
     "name": "stdout",
     "output_type": "stream",
     "text": [
      "reverted big fuzz white trim: /Users/xieewenz/BunkerHill-CardScanToData/data/02_Deskewed/p15799coll8_13140.jpeg\n",
      "reverted big fuzz black trim: /Users/xieewenz/BunkerHill-CardScanToData/data/02_Deskewed/p15799coll8_13119.jpeg\n",
      "reverted big fuzz white trim: /Users/xieewenz/BunkerHill-CardScanToData/data/02_Deskewed/p15799coll8_13139.jpeg\n"
     ]
    },
    {
     "name": "stderr",
     "output_type": "stream",
     "text": [
      "  4%|▍         | 87/2265 [08:59<4:20:25,  7.17s/it]"
     ]
    },
    {
     "name": "stdout",
     "output_type": "stream",
     "text": [
      "reverted big fuzz black trim: /Users/xieewenz/BunkerHill-CardScanToData/data/02_Deskewed/p15799coll8_13139.jpeg\n",
      "reverted big fuzz white trim: /Users/xieewenz/BunkerHill-CardScanToData/data/02_Deskewed/p15799coll8_13137.jpeg\n",
      "reverted big fuzz black trim: /Users/xieewenz/BunkerHill-CardScanToData/data/02_Deskewed/p15799coll8_13136.jpeg\n",
      "reverted big fuzz white trim: /Users/xieewenz/BunkerHill-CardScanToData/data/02_Deskewed/p15799coll8_13156.jpeg\n",
      "reverted big fuzz white trim: /Users/xieewenz/BunkerHill-CardScanToData/data/02_Deskewed/p15799coll8_13149.jpeg\n",
      "reverted big fuzz black trim: /Users/xieewenz/BunkerHill-CardScanToData/data/02_Deskewed/p15799coll8_13156.jpeg\n",
      "reverted big fuzz black trim: /Users/xieewenz/BunkerHill-CardScanToData/data/02_Deskewed/p15799coll8_13140.jpeg\n",
      "reverted big fuzz black trim: /Users/xieewenz/BunkerHill-CardScanToData/data/02_Deskewed/p15799coll8_13149.jpeg\n",
      "reverted big fuzz white trim: /Users/xieewenz/BunkerHill-CardScanToData/data/02_Deskewed/p15799coll8_13161.jpeg\n",
      "reverted big fuzz white trim: /Users/xieewenz/BunkerHill-CardScanToData/data/02_Deskewed/p15799coll8_13142.jpeg\n",
      "reverted big fuzz white trim: /Users/xieewenz/BunkerHill-CardScanToData/data/02_Deskewed/p15799coll8_13146.jpeg\n",
      "reverted big fuzz white trim: /Users/xieewenz/BunkerHill-CardScanToData/data/02_Deskewed/p15799coll8_13153.jpeg\n",
      "reverted big fuzz white trim: /Users/xieewenz/BunkerHill-CardScanToData/data/02_Deskewed/p15799coll8_13164.jpeg\n",
      "reverted big fuzz black trim: /Users/xieewenz/BunkerHill-CardScanToData/data/02_Deskewed/p15799coll8_13161.jpeg\n",
      "reverted big fuzz black trim: /Users/xieewenz/BunkerHill-CardScanToData/data/02_Deskewed/p15799coll8_13142.jpeg\n",
      "reverted big fuzz black trim: /Users/xieewenz/BunkerHill-CardScanToData/data/02_Deskewed/p15799coll8_13118.jpeg\n"
     ]
    },
    {
     "name": "stderr",
     "output_type": "stream",
     "text": [
      "  4%|▍         | 89/2265 [09:42<6:01:15,  9.96s/it]"
     ]
    },
    {
     "name": "stdout",
     "output_type": "stream",
     "text": [
      "reverted big fuzz white trim: /Users/xieewenz/BunkerHill-CardScanToData/data/02_Deskewed/p15799coll8_13170.jpeg\n"
     ]
    },
    {
     "name": "stderr",
     "output_type": "stream",
     "text": [
      "  5%|▍         | 103/2265 [09:48<2:08:17,  3.56s/it]"
     ]
    },
    {
     "name": "stdout",
     "output_type": "stream",
     "text": [
      "reverted big fuzz white trim: /Users/xieewenz/BunkerHill-CardScanToData/data/02_Deskewed/p15799coll8_13159.jpeg\n",
      "reverted big fuzz white trim: /Users/xieewenz/BunkerHill-CardScanToData/data/02_Deskewed/p15799coll8_13167.jpeg\n",
      "reverted big fuzz black trim: /Users/xieewenz/BunkerHill-CardScanToData/data/02_Deskewed/p15799coll8_13159.jpeg\n"
     ]
    },
    {
     "name": "stderr",
     "output_type": "stream",
     "text": [
      "  5%|▍         | 107/2265 [09:55<1:48:50,  3.03s/it]"
     ]
    },
    {
     "name": "stdout",
     "output_type": "stream",
     "text": [
      "reverted big fuzz white trim: /Users/xieewenz/BunkerHill-CardScanToData/data/02_Deskewed/p15799coll8_13186.jpeg\n",
      "reverted big fuzz white trim: /Users/xieewenz/BunkerHill-CardScanToData/data/02_Deskewed/p15799coll8_13181.jpeg\n",
      "reverted big fuzz black trim: /Users/xieewenz/BunkerHill-CardScanToData/data/02_Deskewed/p15799coll8_13170.jpeg\n",
      "reverted big fuzz white trim: /Users/xieewenz/BunkerHill-CardScanToData/data/02_Deskewed/p15799coll8_13189.jpeg\n",
      "reverted big fuzz white trim: /Users/xieewenz/BunkerHill-CardScanToData/data/02_Deskewed/p15799coll8_13184.jpeg\n",
      "reverted big fuzz white trim: /Users/xieewenz/BunkerHill-CardScanToData/data/02_Deskewed/p15799coll8_13175.jpeg\n",
      "reverted big fuzz white trim: /Users/xieewenz/BunkerHill-CardScanToData/data/02_Deskewed/p15799coll8_13187.jpeg\n",
      "reverted big fuzz white trim: /Users/xieewenz/BunkerHill-CardScanToData/data/02_Deskewed/p15799coll8_13179.jpeg\n",
      "reverted big fuzz black trim: /Users/xieewenz/BunkerHill-CardScanToData/data/02_Deskewed/p15799coll8_13181.jpeg\n",
      "reverted big fuzz black trim: /Users/xieewenz/BunkerHill-CardScanToData/data/02_Deskewed/p15799coll8_13175.jpeg\n",
      "reverted big fuzz white trim: /Users/xieewenz/BunkerHill-CardScanToData/data/02_Deskewed/p15799coll8_13190.jpeg\n",
      "reverted big fuzz white trim: /Users/xieewenz/BunkerHill-CardScanToData/data/02_Deskewed/p15799coll8_13172.jpeg\n",
      "reverted big fuzz white trim: /Users/xieewenz/BunkerHill-CardScanToData/data/02_Deskewed/p15799coll8_13193.jpeg\n",
      "reverted big fuzz black trim: /Users/xieewenz/BunkerHill-CardScanToData/data/02_Deskewed/p15799coll8_13189.jpeg\n",
      "reverted big fuzz black trim: /Users/xieewenz/BunkerHill-CardScanToData/data/02_Deskewed/p15799coll8_13167.jpeg\n"
     ]
    },
    {
     "name": "stderr",
     "output_type": "stream",
     "text": [
      "  5%|▍         | 108/2265 [10:43<4:51:44,  8.11s/it]"
     ]
    },
    {
     "name": "stdout",
     "output_type": "stream",
     "text": [
      "reverted big fuzz white trim: /Users/xieewenz/BunkerHill-CardScanToData/data/02_Deskewed/p15799coll8_13197.jpeg\n",
      "reverted big fuzz black trim: /Users/xieewenz/BunkerHill-CardScanToData/data/02_Deskewed/p15799coll8_13193.jpeg\n",
      "reverted big fuzz white trim: /Users/xieewenz/BunkerHill-CardScanToData/data/02_Deskewed/p15799coll8_13204.jpeg\n",
      "reverted big fuzz black trim: /Users/xieewenz/BunkerHill-CardScanToData/data/02_Deskewed/p15799coll8_13179.jpeg\n",
      "reverted big fuzz white trim: /Users/xieewenz/BunkerHill-CardScanToData/data/02_Deskewed/p15799coll8_13223.jpeg\n",
      "reverted big fuzz black trim: /Users/xieewenz/BunkerHill-CardScanToData/data/02_Deskewed/p15799coll8_13223.jpeg\n",
      "reverted big fuzz black trim: /Users/xieewenz/BunkerHill-CardScanToData/data/02_Deskewed/p15799coll8_13197.jpeg\n"
     ]
    },
    {
     "name": "stderr",
     "output_type": "stream",
     "text": [
      "  5%|▍         | 112/2265 [11:21<5:13:03,  8.72s/it]"
     ]
    },
    {
     "name": "stdout",
     "output_type": "stream",
     "text": [
      "reverted big fuzz white trim: /Users/xieewenz/BunkerHill-CardScanToData/data/02_Deskewed/p15799coll8_13199.jpeg\n",
      "reverted big fuzz white trim: /Users/xieewenz/BunkerHill-CardScanToData/data/02_Deskewed/p15799coll8_13239.jpeg\n",
      "reverted big fuzz white trim: /Users/xieewenz/BunkerHill-CardScanToData/data/02_Deskewed/p15799coll8_13242.jpeg\n",
      "reverted big fuzz white trim: /Users/xieewenz/BunkerHill-CardScanToData/data/02_Deskewed/p15799coll8_13246.jpeg\n",
      "reverted big fuzz black trim: /Users/xieewenz/BunkerHill-CardScanToData/data/02_Deskewed/p15799coll8_13190.jpeg\n"
     ]
    },
    {
     "name": "stderr",
     "output_type": "stream",
     "text": [
      "  5%|▌         | 118/2265 [11:28<3:07:09,  5.23s/it]"
     ]
    },
    {
     "name": "stdout",
     "output_type": "stream",
     "text": [
      "reverted big fuzz white trim: /Users/xieewenz/BunkerHill-CardScanToData/data/02_Deskewed/p15799coll8_13212.jpeg\n",
      "reverted big fuzz white trim: /Users/xieewenz/BunkerHill-CardScanToData/data/02_Deskewed/p15799coll8_13217.jpeg\n",
      "reverted big fuzz black trim: /Users/xieewenz/BunkerHill-CardScanToData/data/02_Deskewed/p15799coll8_13239.jpeg\n",
      "reverted big fuzz white trim: /Users/xieewenz/BunkerHill-CardScanToData/data/02_Deskewed/p15799coll8_13252.jpeg\n",
      "reverted big fuzz white trim: /Users/xieewenz/BunkerHill-CardScanToData/data/02_Deskewed/p15799coll8_13250.jpeg\n",
      "reverted big fuzz black trim: /Users/xieewenz/BunkerHill-CardScanToData/data/02_Deskewed/p15799coll8_13242.jpeg\n",
      "reverted big fuzz white trim: /Users/xieewenz/BunkerHill-CardScanToData/data/02_Deskewed/p15799coll8_13255.jpeg\n"
     ]
    },
    {
     "name": "stderr",
     "output_type": "stream",
     "text": [
      "  5%|▌         | 124/2265 [11:57<2:59:17,  5.02s/it]"
     ]
    },
    {
     "name": "stdout",
     "output_type": "stream",
     "text": [
      "reverted big fuzz black trim: /Users/xieewenz/BunkerHill-CardScanToData/data/02_Deskewed/p15799coll8_13246.jpeg\n",
      "reverted big fuzz white trim: /Users/xieewenz/BunkerHill-CardScanToData/data/02_Deskewed/p15799coll8_13233.jpeg\n",
      "reverted big fuzz white trim: /Users/xieewenz/BunkerHill-CardScanToData/data/02_Deskewed/p15799coll8_13256.jpeg\n",
      "reverted big fuzz white trim: /Users/xieewenz/BunkerHill-CardScanToData/data/02_Deskewed/p15799coll8_13262.jpeg\n",
      "reverted big fuzz black trim: /Users/xieewenz/BunkerHill-CardScanToData/data/02_Deskewed/p15799coll8_13256.jpeg\n",
      "reverted big fuzz white trim: /Users/xieewenz/BunkerHill-CardScanToData/data/02_Deskewed/p15799coll8_13228.jpeg\n"
     ]
    },
    {
     "name": "stderr",
     "output_type": "stream",
     "text": [
      "  6%|▌         | 126/2265 [12:12<3:18:57,  5.58s/it]"
     ]
    },
    {
     "name": "stdout",
     "output_type": "stream",
     "text": [
      "reverted big fuzz white trim: /Users/xieewenz/BunkerHill-CardScanToData/data/02_Deskewed/p15799coll8_13266.jpeg\n",
      "reverted big fuzz white trim: /Users/xieewenz/BunkerHill-CardScanToData/data/02_Deskewed/p15799coll8_13267.jpeg\n",
      "reverted big fuzz white trim: /Users/xieewenz/BunkerHill-CardScanToData/data/02_Deskewed/p15799coll8_13260.jpeg\n",
      "reverted big fuzz black trim: /Users/xieewenz/BunkerHill-CardScanToData/data/02_Deskewed/p15799coll8_13255.jpeg\n",
      "reverted big fuzz white trim: /Users/xieewenz/BunkerHill-CardScanToData/data/02_Deskewed/p15799coll8_13258.jpeg\n",
      "reverted big fuzz black trim: /Users/xieewenz/BunkerHill-CardScanToData/data/02_Deskewed/p15799coll8_13266.jpeg\n",
      "reverted big fuzz white trim: /Users/xieewenz/BunkerHill-CardScanToData/data/02_Deskewed/p15799coll8_13265.jpeg\n"
     ]
    },
    {
     "name": "stderr",
     "output_type": "stream",
     "text": [
      "  6%|▌         | 133/2265 [12:59<3:37:52,  6.13s/it]"
     ]
    },
    {
     "name": "stdout",
     "output_type": "stream",
     "text": [
      "reverted big fuzz white trim: /Users/xieewenz/BunkerHill-CardScanToData/data/02_Deskewed/p15799coll8_13273.jpeg\n",
      "reverted big fuzz black trim: /Users/xieewenz/BunkerHill-CardScanToData/data/02_Deskewed/p15799coll8_13262.jpeg\n"
     ]
    },
    {
     "name": "stderr",
     "output_type": "stream",
     "text": [
      "  6%|▌         | 137/2265 [13:08<2:57:57,  5.02s/it]"
     ]
    },
    {
     "name": "stdout",
     "output_type": "stream",
     "text": [
      "reverted big fuzz white trim: /Users/xieewenz/BunkerHill-CardScanToData/data/02_Deskewed/p15799coll8_13269.jpeg\n",
      "reverted big fuzz black trim: /Users/xieewenz/BunkerHill-CardScanToData/data/02_Deskewed/p15799coll8_13267.jpeg\n"
     ]
    },
    {
     "name": "stderr",
     "output_type": "stream",
     "text": [
      "  6%|▌         | 140/2265 [13:12<2:26:35,  4.14s/it]"
     ]
    },
    {
     "name": "stdout",
     "output_type": "stream",
     "text": [
      "reverted big fuzz white trim: /Users/xieewenz/BunkerHill-CardScanToData/data/02_Deskewed/p15799coll8_13272.jpeg\n",
      "reverted big fuzz white trim: /Users/xieewenz/BunkerHill-CardScanToData/data/02_Deskewed/p15799coll8_13280.jpeg\n",
      "reverted big fuzz white trim: /Users/xieewenz/BunkerHill-CardScanToData/data/02_Deskewed/p15799coll8_13277.jpeg\n",
      "reverted big fuzz white trim: /Users/xieewenz/BunkerHill-CardScanToData/data/02_Deskewed/p15799coll8_13275.jpeg\n",
      "reverted big fuzz black trim: /Users/xieewenz/BunkerHill-CardScanToData/data/02_Deskewed/p15799coll8_13269.jpeg\n",
      "reverted big fuzz white trim: /Users/xieewenz/BunkerHill-CardScanToData/data/02_Deskewed/p15799coll8_13285.jpeg\n",
      "reverted big fuzz white trim: /Users/xieewenz/BunkerHill-CardScanToData/data/02_Deskewed/p15799coll8_13282.jpeg\n",
      "reverted big fuzz white trim: /Users/xieewenz/BunkerHill-CardScanToData/data/02_Deskewed/p15799coll8_13278.jpeg\n",
      "reverted big fuzz white trim: /Users/xieewenz/BunkerHill-CardScanToData/data/02_Deskewed/p15799coll8_13290.jpeg\n",
      "reverted big fuzz black trim: /Users/xieewenz/BunkerHill-CardScanToData/data/02_Deskewed/p15799coll8_13277.jpeg\n",
      "reverted big fuzz black trim: /Users/xieewenz/BunkerHill-CardScanToData/data/02_Deskewed/p15799coll8_13280.jpeg\n",
      "reverted big fuzz white trim: /Users/xieewenz/BunkerHill-CardScanToData/data/02_Deskewed/p15799coll8_13288.jpeg\n",
      "reverted big fuzz white trim: /Users/xieewenz/BunkerHill-CardScanToData/data/02_Deskewed/p15799coll8_13283.jpeg\n",
      "reverted big fuzz white trim: /Users/xieewenz/BunkerHill-CardScanToData/data/02_Deskewed/p15799coll8_13268.jpeg\n"
     ]
    },
    {
     "name": "stderr",
     "output_type": "stream",
     "text": [
      "  6%|▌         | 141/2265 [14:20<6:16:10, 10.63s/it]"
     ]
    },
    {
     "name": "stdout",
     "output_type": "stream",
     "text": [
      "reverted big fuzz black trim: /Users/xieewenz/BunkerHill-CardScanToData/data/02_Deskewed/p15799coll8_13288.jpeg\n",
      "reverted big fuzz white trim: /Users/xieewenz/BunkerHill-CardScanToData/data/02_Deskewed/p15799coll8_13296.jpeg\n",
      "reverted big fuzz black trim: /Users/xieewenz/BunkerHill-CardScanToData/data/02_Deskewed/p15799coll8_13296.jpeg\n",
      "reverted big fuzz white trim: /Users/xieewenz/BunkerHill-CardScanToData/data/02_Deskewed/p15799coll8_13298.jpegreverted big fuzz white trim: /Users/xieewenz/BunkerHill-CardScanToData/data/02_Deskewed/p15799coll8_13291.jpeg\n",
      "\n",
      "reverted big fuzz black trim: /Users/xieewenz/BunkerHill-CardScanToData/data/02_Deskewed/p15799coll8_13290.jpeg\n",
      "reverted big fuzz white trim: /Users/xieewenz/BunkerHill-CardScanToData/data/02_Deskewed/p15799coll8_13305.jpeg\n",
      "reverted big fuzz white trim: /Users/xieewenz/BunkerHill-CardScanToData/data/02_Deskewed/p15799coll8_13312.jpeg\n",
      "reverted big fuzz white trim: /Users/xieewenz/BunkerHill-CardScanToData/data/02_Deskewed/p15799coll8_13293.jpeg\n",
      "reverted big fuzz white trim: /Users/xieewenz/BunkerHill-CardScanToData/data/02_Deskewed/p15799coll8_13301.jpeg\n",
      "reverted big fuzz white trim: /Users/xieewenz/BunkerHill-CardScanToData/data/02_Deskewed/p15799coll8_13309.jpeg\n",
      "reverted big fuzz black trim: /Users/xieewenz/BunkerHill-CardScanToData/data/02_Deskewed/p15799coll8_13312.jpeg\n",
      "reverted big fuzz white trim: /Users/xieewenz/BunkerHill-CardScanToData/data/02_Deskewed/p15799coll8_13320.jpeg\n",
      "reverted big fuzz black trim: /Users/xieewenz/BunkerHill-CardScanToData/data/02_Deskewed/p15799coll8_13278.jpeg\n",
      "reverted big fuzz black trim: /Users/xieewenz/BunkerHill-CardScanToData/data/02_Deskewed/p15799coll8_13305.jpeg\n",
      "reverted big fuzz black trim: /Users/xieewenz/BunkerHill-CardScanToData/data/02_Deskewed/p15799coll8_13309.jpeg\n",
      "reverted big fuzz white trim: /Users/xieewenz/BunkerHill-CardScanToData/data/02_Deskewed/p15799coll8_13317.jpeg\n",
      "reverted big fuzz white trim: /Users/xieewenz/BunkerHill-CardScanToData/data/02_Deskewed/p15799coll8_13323.jpeg\n",
      "reverted big fuzz white trim: /Users/xieewenz/BunkerHill-CardScanToData/data/02_Deskewed/p15799coll8_13328.jpeg\n"
     ]
    },
    {
     "name": "stderr",
     "output_type": "stream",
     "text": [
      "  6%|▋         | 147/2265 [15:34<6:42:08, 11.39s/it]"
     ]
    },
    {
     "name": "stdout",
     "output_type": "stream",
     "text": [
      "reverted big fuzz white trim: /Users/xieewenz/BunkerHill-CardScanToData/data/02_Deskewed/p15799coll8_13333.jpeg\n"
     ]
    },
    {
     "name": "stderr",
     "output_type": "stream",
     "text": [
      "  7%|▋         | 162/2265 [15:43<2:43:38,  4.67s/it]"
     ]
    },
    {
     "name": "stdout",
     "output_type": "stream",
     "text": [
      "reverted big fuzz white trim: /Users/xieewenz/BunkerHill-CardScanToData/data/02_Deskewed/p15799coll8_13346.jpeg\n",
      "reverted big fuzz white trim: /Users/xieewenz/BunkerHill-CardScanToData/data/02_Deskewed/p15799coll8_13336.jpeg\n",
      "reverted big fuzz white trim: /Users/xieewenz/BunkerHill-CardScanToData/data/02_Deskewed/p15799coll8_13332.jpeg\n",
      "reverted big fuzz black trim: /Users/xieewenz/BunkerHill-CardScanToData/data/02_Deskewed/p15799coll8_13333.jpeg\n",
      "reverted big fuzz white trim: /Users/xieewenz/BunkerHill-CardScanToData/data/02_Deskewed/p15799coll8_13342.jpeg\n",
      "reverted big fuzz black trim: /Users/xieewenz/BunkerHill-CardScanToData/data/02_Deskewed/p15799coll8_13346.jpeg\n",
      "reverted big fuzz black trim: /Users/xieewenz/BunkerHill-CardScanToData/data/02_Deskewed/p15799coll8_13332.jpeg\n",
      "reverted big fuzz white trim: /Users/xieewenz/BunkerHill-CardScanToData/data/02_Deskewed/p15799coll8_13362.jpeg\n",
      "reverted big fuzz white trim: /Users/xieewenz/BunkerHill-CardScanToData/data/02_Deskewed/p15799coll8_13366.jpeg\n",
      "reverted big fuzz white trim: /Users/xieewenz/BunkerHill-CardScanToData/data/02_Deskewed/p15799coll8_13350.jpeg\n",
      "reverted big fuzz white trim: /Users/xieewenz/BunkerHill-CardScanToData/data/02_Deskewed/p15799coll8_13377.jpeg\n",
      "reverted big fuzz white trim: /Users/xieewenz/BunkerHill-CardScanToData/data/02_Deskewed/p15799coll8_13329.jpeg\n",
      "reverted big fuzz white trim: /Users/xieewenz/BunkerHill-CardScanToData/data/02_Deskewed/p15799coll8_13325.jpeg\n",
      "reverted big fuzz black trim: /Users/xieewenz/BunkerHill-CardScanToData/data/02_Deskewed/p15799coll8_13377.jpeg\n",
      "reverted big fuzz white trim: /Users/xieewenz/BunkerHill-CardScanToData/data/02_Deskewed/p15799coll8_13352.jpeg\n",
      "reverted big fuzz white trim: /Users/xieewenz/BunkerHill-CardScanToData/data/02_Deskewed/p15799coll8_13357.jpeg\n",
      "reverted big fuzz black trim: /Users/xieewenz/BunkerHill-CardScanToData/data/02_Deskewed/p15799coll8_13366.jpeg\n"
     ]
    },
    {
     "name": "stderr",
     "output_type": "stream",
     "text": [
      "  7%|▋         | 165/2265 [16:43<4:04:07,  6.97s/it]"
     ]
    },
    {
     "name": "stdout",
     "output_type": "stream",
     "text": [
      "reverted big fuzz white trim: /Users/xieewenz/BunkerHill-CardScanToData/data/02_Deskewed/p15799coll8_13354.jpeg\n",
      "reverted big fuzz white trim: /Users/xieewenz/BunkerHill-CardScanToData/data/02_Deskewed/p15799coll8_13392.jpeg\n",
      "reverted big fuzz white trim: /Users/xieewenz/BunkerHill-CardScanToData/data/02_Deskewed/p15799coll8_13398.jpeg\n"
     ]
    },
    {
     "name": "stderr",
     "output_type": "stream",
     "text": [
      "  7%|▋         | 167/2265 [16:54<3:57:15,  6.79s/it]"
     ]
    },
    {
     "name": "stdout",
     "output_type": "stream",
     "text": [
      "reverted big fuzz white trim: /Users/xieewenz/BunkerHill-CardScanToData/data/02_Deskewed/p15799coll8_13385.jpeg\n",
      "reverted big fuzz white trim: /Users/xieewenz/BunkerHill-CardScanToData/data/02_Deskewed/p15799coll8_13396.jpeg\n"
     ]
    },
    {
     "name": "stderr",
     "output_type": "stream",
     "text": [
      "  8%|▊         | 175/2265 [17:03<2:34:38,  4.44s/it]"
     ]
    },
    {
     "name": "stdout",
     "output_type": "stream",
     "text": [
      "reverted big fuzz white trim: /Users/xieewenz/BunkerHill-CardScanToData/data/02_Deskewed/p15799coll8_13402.jpeg\n"
     ]
    },
    {
     "name": "stderr",
     "output_type": "stream",
     "text": [
      "  8%|▊         | 180/2265 [17:18<2:20:53,  4.05s/it]"
     ]
    },
    {
     "name": "stdout",
     "output_type": "stream",
     "text": [
      "reverted big fuzz white trim: /Users/xieewenz/BunkerHill-CardScanToData/data/02_Deskewed/p15799coll8_13405.jpg\n"
     ]
    },
    {
     "name": "stderr",
     "output_type": "stream",
     "text": [
      "  8%|▊         | 181/2265 [17:27<2:32:23,  4.39s/it]"
     ]
    },
    {
     "name": "stdout",
     "output_type": "stream",
     "text": [
      "reverted big fuzz black trim: /Users/xieewenz/BunkerHill-CardScanToData/data/02_Deskewed/p15799coll8_13398.jpeg\n",
      "reverted big fuzz white trim: /Users/xieewenz/BunkerHill-CardScanToData/data/02_Deskewed/p15799coll8_13408.jpg\n",
      "reverted big fuzz white trim: /Users/xieewenz/BunkerHill-CardScanToData/data/02_Deskewed/p15799coll8_13415.jpg\n",
      "reverted big fuzz white trim: /Users/xieewenz/BunkerHill-CardScanToData/data/02_Deskewed/p15799coll8_13412.jpg\n",
      "reverted big fuzz white trim: /Users/xieewenz/BunkerHill-CardScanToData/data/02_Deskewed/p15799coll8_13428.jpg\n",
      "reverted big fuzz black trim: /Users/xieewenz/BunkerHill-CardScanToData/data/02_Deskewed/p15799coll8_13405.jpg\n",
      "reverted big fuzz white trim: /Users/xieewenz/BunkerHill-CardScanToData/data/02_Deskewed/p15799coll8_13438.jpg\n",
      "reverted big fuzz white trim: /Users/xieewenz/BunkerHill-CardScanToData/data/02_Deskewed/p15799coll8_13425.jpg\n",
      "reverted big fuzz white trim: /Users/xieewenz/BunkerHill-CardScanToData/data/02_Deskewed/p15799coll8_13430.jpg\n",
      "reverted big fuzz white trim: /Users/xieewenz/BunkerHill-CardScanToData/data/02_Deskewed/p15799coll8_13436.jpg\n",
      "reverted big fuzz black trim: /Users/xieewenz/BunkerHill-CardScanToData/data/02_Deskewed/p15799coll8_13396.jpeg\n"
     ]
    },
    {
     "name": "stderr",
     "output_type": "stream",
     "text": [
      "  8%|▊         | 182/2265 [18:07<4:29:12,  7.75s/it]"
     ]
    },
    {
     "name": "stdout",
     "output_type": "stream",
     "text": [
      "reverted big fuzz white trim: /Users/xieewenz/BunkerHill-CardScanToData/data/02_Deskewed/p15799coll8_13445.jpg\n",
      "reverted big fuzz white trim: /Users/xieewenz/BunkerHill-CardScanToData/data/02_Deskewed/p15799coll8_13440.jpg\n",
      "reverted big fuzz white trim: /Users/xieewenz/BunkerHill-CardScanToData/data/02_Deskewed/p15799coll8_13422.jpg\n",
      "reverted big fuzz black trim: /Users/xieewenz/BunkerHill-CardScanToData/data/02_Deskewed/p15799coll8_13438.jpg\n",
      "reverted big fuzz white trim: /Users/xieewenz/BunkerHill-CardScanToData/data/02_Deskewed/p15799coll8_13433.jpg\n",
      "reverted big fuzz white trim: /Users/xieewenz/BunkerHill-CardScanToData/data/02_Deskewed/p15799coll8_13442.jpg\n",
      "reverted big fuzz black trim: /Users/xieewenz/BunkerHill-CardScanToData/data/02_Deskewed/p15799coll8_13445.jpg\n"
     ]
    },
    {
     "name": "stderr",
     "output_type": "stream",
     "text": [
      "  8%|▊         | 189/2265 [18:40<3:35:44,  6.24s/it]"
     ]
    },
    {
     "name": "stdout",
     "output_type": "stream",
     "text": [
      "reverted big fuzz white trim: /Users/xieewenz/BunkerHill-CardScanToData/data/02_Deskewed/p15799coll8_13448.jpg\n",
      "reverted big fuzz white trim: /Users/xieewenz/BunkerHill-CardScanToData/data/02_Deskewed/p15799coll8_13446.jpg\n",
      "reverted big fuzz white trim: /Users/xieewenz/BunkerHill-CardScanToData/data/02_Deskewed/p15799coll8_13451.jpg\n",
      "reverted big fuzz black trim: /Users/xieewenz/BunkerHill-CardScanToData/data/02_Deskewed/p15799coll8_13430.jpg\n",
      "reverted big fuzz white trim: /Users/xieewenz/BunkerHill-CardScanToData/data/02_Deskewed/p15799coll8_13459.jpg\n",
      "reverted big fuzz black trim: /Users/xieewenz/BunkerHill-CardScanToData/data/02_Deskewed/p15799coll8_13446.jpg\n",
      "reverted big fuzz black trim: /Users/xieewenz/BunkerHill-CardScanToData/data/02_Deskewed/p15799coll8_13448.jpg\n",
      "reverted big fuzz white trim: /Users/xieewenz/BunkerHill-CardScanToData/data/02_Deskewed/p15799coll8_13455.jpg\n",
      "reverted big fuzz white trim: /Users/xieewenz/BunkerHill-CardScanToData/data/02_Deskewed/p15799coll8_13457.jpg\n"
     ]
    },
    {
     "name": "stderr",
     "output_type": "stream",
     "text": [
      "  8%|▊         | 192/2265 [19:09<4:03:40,  7.05s/it]"
     ]
    },
    {
     "name": "stdout",
     "output_type": "stream",
     "text": [
      "reverted big fuzz white trim: /Users/xieewenz/BunkerHill-CardScanToData/data/02_Deskewed/p15799coll8_13453.jpg\n"
     ]
    },
    {
     "name": "stderr",
     "output_type": "stream",
     "text": [
      "  9%|▉         | 200/2265 [19:21<2:32:55,  4.44s/it]"
     ]
    },
    {
     "name": "stdout",
     "output_type": "stream",
     "text": [
      "reverted big fuzz black trim: /Users/xieewenz/BunkerHill-CardScanToData/data/02_Deskewed/p15799coll8_13457.jpg\n",
      "reverted big fuzz white trim: /Users/xieewenz/BunkerHill-CardScanToData/data/02_Deskewed/p15799coll8_13463.jpg\n",
      "reverted big fuzz white trim: /Users/xieewenz/BunkerHill-CardScanToData/data/02_Deskewed/p15799coll8_13461.jpg\n",
      "reverted big fuzz black trim: /Users/xieewenz/BunkerHill-CardScanToData/data/02_Deskewed/p15799coll8_13451.jpg\n"
     ]
    },
    {
     "name": "stderr",
     "output_type": "stream",
     "text": [
      "  9%|▉         | 201/2265 [19:46<3:27:55,  6.04s/it]"
     ]
    },
    {
     "name": "stdout",
     "output_type": "stream",
     "text": [
      "reverted big fuzz black trim: /Users/xieewenz/BunkerHill-CardScanToData/data/02_Deskewed/p15799coll8_13453.jpg\n"
     ]
    },
    {
     "name": "stderr",
     "output_type": "stream",
     "text": [
      "  9%|▉         | 202/2265 [19:54<3:34:44,  6.25s/it]"
     ]
    },
    {
     "name": "stdout",
     "output_type": "stream",
     "text": [
      "reverted big fuzz black trim: /Users/xieewenz/BunkerHill-CardScanToData/data/02_Deskewed/p15799coll8_13461.jpg\n"
     ]
    },
    {
     "name": "stderr",
     "output_type": "stream",
     "text": [
      "  9%|▉         | 206/2265 [19:56<2:24:15,  4.20s/it]"
     ]
    },
    {
     "name": "stdout",
     "output_type": "stream",
     "text": [
      "reverted big fuzz white trim: /Users/xieewenz/BunkerHill-CardScanToData/data/02_Deskewed/p15799coll8_13475.jpg\n",
      "reverted big fuzz white trim: /Users/xieewenz/BunkerHill-CardScanToData/data/02_Deskewed/p15799coll8_13467.jpg\n",
      "reverted big fuzz white trim: /Users/xieewenz/BunkerHill-CardScanToData/data/02_Deskewed/p15799coll8_13466.jpg\n",
      "reverted big fuzz white trim: /Users/xieewenz/BunkerHill-CardScanToData/data/02_Deskewed/p15799coll8_13479.jpg\n",
      "reverted big fuzz white trim: /Users/xieewenz/BunkerHill-CardScanToData/data/02_Deskewed/p15799coll8_13791.jpeg\n",
      "reverted big fuzz white trim: /Users/xieewenz/BunkerHill-CardScanToData/data/02_Deskewed/p15799coll8_13487.jpg\n",
      "reverted big fuzz black trim: /Users/xieewenz/BunkerHill-CardScanToData/data/02_Deskewed/p15799coll8_13791.jpeg\n",
      "reverted big fuzz black trim: /Users/xieewenz/BunkerHill-CardScanToData/data/02_Deskewed/p15799coll8_13463.jpg\n",
      "reverted big fuzz black trim: /Users/xieewenz/BunkerHill-CardScanToData/data/02_Deskewed/p15799coll8_13475.jpg\n",
      "reverted big fuzz white trim: /Users/xieewenz/BunkerHill-CardScanToData/data/02_Deskewed/p15799coll8_13483.jpg\n",
      "reverted big fuzz black trim: /Users/xieewenz/BunkerHill-CardScanToData/data/02_Deskewed/p15799coll8_13483.jpg\n",
      "reverted big fuzz white trim: /Users/xieewenz/BunkerHill-CardScanToData/data/02_Deskewed/p15799coll8_13794.jpeg\n",
      "reverted big fuzz black trim: /Users/xieewenz/BunkerHill-CardScanToData/data/02_Deskewed/p15799coll8_13467.jpg\n",
      "reverted big fuzz white trim: /Users/xieewenz/BunkerHill-CardScanToData/data/02_Deskewed/p15799coll8_13792.jpeg\n"
     ]
    },
    {
     "name": "stderr",
     "output_type": "stream",
     "text": [
      "  9%|▉         | 207/2265 [20:52<5:43:24, 10.01s/it]"
     ]
    },
    {
     "name": "stdout",
     "output_type": "stream",
     "text": [
      "reverted big fuzz white trim: /Users/xieewenz/BunkerHill-CardScanToData/data/02_Deskewed/p15799coll8_13797.jpeg\n",
      "reverted big fuzz white trim: /Users/xieewenz/BunkerHill-CardScanToData/data/02_Deskewed/p15799coll8_13798.jpeg\n",
      "reverted big fuzz white trim: /Users/xieewenz/BunkerHill-CardScanToData/data/02_Deskewed/p15799coll8_13799.jpeg\n",
      "reverted big fuzz white trim: /Users/xieewenz/BunkerHill-CardScanToData/data/02_Deskewed/p15799coll8_13802.jpeg\n",
      "reverted big fuzz black trim: /Users/xieewenz/BunkerHill-CardScanToData/data/02_Deskewed/p15799coll8_13802.jpeg\n",
      "reverted big fuzz white trim: /Users/xieewenz/BunkerHill-CardScanToData/data/02_Deskewed/p15799coll8_13795.jpeg\n",
      "reverted big fuzz black trim: /Users/xieewenz/BunkerHill-CardScanToData/data/02_Deskewed/p15799coll8_13795.jpeg\n",
      "reverted big fuzz white trim: /Users/xieewenz/BunkerHill-CardScanToData/data/02_Deskewed/p15799coll8_13806.jpeg\n",
      "reverted big fuzz white trim: /Users/xieewenz/BunkerHill-CardScanToData/data/02_Deskewed/p15799coll8_13819.jpeg\n",
      "reverted big fuzz white trim: /Users/xieewenz/BunkerHill-CardScanToData/data/02_Deskewed/p15799coll8_13810.jpeg\n",
      "reverted big fuzz white trim: /Users/xieewenz/BunkerHill-CardScanToData/data/02_Deskewed/p15799coll8_13825.jpeg\n",
      "reverted big fuzz white trim: /Users/xieewenz/BunkerHill-CardScanToData/data/02_Deskewed/p15799coll8_13814.jpeg\n",
      "reverted big fuzz white trim: /Users/xieewenz/BunkerHill-CardScanToData/data/02_Deskewed/p15799coll8_13804.jpeg\n",
      "reverted big fuzz black trim: /Users/xieewenz/BunkerHill-CardScanToData/data/02_Deskewed/p15799coll8_13799.jpeg\n",
      "reverted big fuzz black trim: /Users/xieewenz/BunkerHill-CardScanToData/data/02_Deskewed/p15799coll8_13487.jpg\n",
      "reverted big fuzz white trim: /Users/xieewenz/BunkerHill-CardScanToData/data/02_Deskewed/p15799coll8_13808.jpeg\n",
      "reverted big fuzz white trim: /Users/xieewenz/BunkerHill-CardScanToData/data/02_Deskewed/p15799coll8_13830.jpeg\n",
      "reverted big fuzz black trim: /Users/xieewenz/BunkerHill-CardScanToData/data/02_Deskewed/p15799coll8_13825.jpeg\n"
     ]
    },
    {
     "name": "stderr",
     "output_type": "stream",
     "text": [
      "  9%|▉         | 213/2265 [22:15<6:47:24, 11.91s/it]"
     ]
    },
    {
     "name": "stdout",
     "output_type": "stream",
     "text": [
      "reverted big fuzz black trim: /Users/xieewenz/BunkerHill-CardScanToData/data/02_Deskewed/p15799coll8_13808.jpeg\n"
     ]
    },
    {
     "name": "stderr",
     "output_type": "stream",
     "text": [
      " 10%|▉         | 224/2265 [22:16<2:58:34,  5.25s/it]"
     ]
    },
    {
     "name": "stdout",
     "output_type": "stream",
     "text": [
      "reverted big fuzz white trim: /Users/xieewenz/BunkerHill-CardScanToData/data/02_Deskewed/p15799coll8_13856.jpeg\n",
      "reverted big fuzz white trim: /Users/xieewenz/BunkerHill-CardScanToData/data/02_Deskewed/p15799coll8_13849.jpeg\n",
      "reverted big fuzz white trim: /Users/xieewenz/BunkerHill-CardScanToData/data/02_Deskewed/p15799coll8_13859.jpeg\n",
      "reverted big fuzz white trim: /Users/xieewenz/BunkerHill-CardScanToData/data/02_Deskewed/p15799coll8_13854.jpeg\n",
      "reverted big fuzz white trim: /Users/xieewenz/BunkerHill-CardScanToData/data/02_Deskewed/p15799coll8_13865.jpeg\n",
      "reverted big fuzz white trim: /Users/xieewenz/BunkerHill-CardScanToData/data/02_Deskewed/p15799coll8_13837.jpeg\n",
      "reverted big fuzz white trim: /Users/xieewenz/BunkerHill-CardScanToData/data/02_Deskewed/p15799coll8_13858.jpeg\n"
     ]
    },
    {
     "name": "stderr",
     "output_type": "stream",
     "text": [
      " 10%|█         | 229/2265 [22:48<3:09:32,  5.59s/it]"
     ]
    },
    {
     "name": "stdout",
     "output_type": "stream",
     "text": [
      "reverted big fuzz black trim: /Users/xieewenz/BunkerHill-CardScanToData/data/02_Deskewed/p15799coll8_13830.jpeg\n",
      "reverted big fuzz black trim: /Users/xieewenz/BunkerHill-CardScanToData/data/02_Deskewed/p15799coll8_13849.jpeg\n",
      "reverted big fuzz black trim: /Users/xieewenz/BunkerHill-CardScanToData/data/02_Deskewed/p15799coll8_13856.jpeg\n",
      "reverted big fuzz white trim: /Users/xieewenz/BunkerHill-CardScanToData/data/02_Deskewed/p15799coll8_13873.jpeg\n",
      "reverted big fuzz white trim: /Users/xieewenz/BunkerHill-CardScanToData/data/02_Deskewed/p15799coll8_13869.jpeg\n",
      "reverted big fuzz white trim: /Users/xieewenz/BunkerHill-CardScanToData/data/02_Deskewed/p15799coll8_13870.jpeg\n",
      "reverted big fuzz black trim: /Users/xieewenz/BunkerHill-CardScanToData/data/02_Deskewed/p15799coll8_13865.jpeg\n",
      "reverted big fuzz white trim: /Users/xieewenz/BunkerHill-CardScanToData/data/02_Deskewed/p15799coll8_13842.jpeg\n",
      "reverted big fuzz white trim: /Users/xieewenz/BunkerHill-CardScanToData/data/02_Deskewed/p15799coll8_13868.jpeg\n"
     ]
    },
    {
     "name": "stderr",
     "output_type": "stream",
     "text": [
      " 10%|█         | 230/2265 [23:25<4:25:02,  7.81s/it]"
     ]
    },
    {
     "name": "stdout",
     "output_type": "stream",
     "text": [
      "reverted big fuzz black trim: /Users/xieewenz/BunkerHill-CardScanToData/data/02_Deskewed/p15799coll8_13869.jpeg\n",
      "reverted big fuzz white trim: /Users/xieewenz/BunkerHill-CardScanToData/data/02_Deskewed/p15799coll8_13882.jpeg\n",
      "reverted big fuzz white trim: /Users/xieewenz/BunkerHill-CardScanToData/data/02_Deskewed/p15799coll8_13862.jpeg\n",
      "reverted big fuzz white trim: /Users/xieewenz/BunkerHill-CardScanToData/data/02_Deskewed/p15799coll8_13884.jpeg\n",
      "reverted big fuzz black trim: /Users/xieewenz/BunkerHill-CardScanToData/data/02_Deskewed/p15799coll8_13842.jpeg\n"
     ]
    },
    {
     "name": "stderr",
     "output_type": "stream",
     "text": [
      " 10%|█         | 231/2265 [23:32<4:22:11,  7.73s/it]"
     ]
    },
    {
     "name": "stdout",
     "output_type": "stream",
     "text": [
      "reverted big fuzz white trim: /Users/xieewenz/BunkerHill-CardScanToData/data/02_Deskewed/p15799coll8_13899.jpeg\n",
      "reverted big fuzz white trim: /Users/xieewenz/BunkerHill-CardScanToData/data/02_Deskewed/p15799coll8_13892.jpeg\n",
      "reverted big fuzz white trim: /Users/xieewenz/BunkerHill-CardScanToData/data/02_Deskewed/p15799coll8_13897.jpeg\n",
      "reverted big fuzz white trim: /Users/xieewenz/BunkerHill-CardScanToData/data/02_Deskewed/p15799coll8_13907.jpeg\n"
     ]
    },
    {
     "name": "stderr",
     "output_type": "stream",
     "text": [
      " 10%|█         | 237/2265 [23:47<3:02:54,  5.41s/it]"
     ]
    },
    {
     "name": "stdout",
     "output_type": "stream",
     "text": [
      "reverted big fuzz white trim: /Users/xieewenz/BunkerHill-CardScanToData/data/02_Deskewed/p15799coll8_13912.jpeg\n",
      "reverted big fuzz white trim: /Users/xieewenz/BunkerHill-CardScanToData/data/02_Deskewed/p15799coll8_13887.jpeg\n",
      "reverted big fuzz white trim: /Users/xieewenz/BunkerHill-CardScanToData/data/02_Deskewed/p15799coll8_13902.jpeg\n",
      "reverted big fuzz white trim: /Users/xieewenz/BunkerHill-CardScanToData/data/02_Deskewed/p15799coll8_13879.jpeg\n",
      "reverted big fuzz white trim: /Users/xieewenz/BunkerHill-CardScanToData/data/02_Deskewed/p15799coll8_13877.jpeg\n"
     ]
    },
    {
     "name": "stderr",
     "output_type": "stream",
     "text": [
      " 11%|█         | 243/2265 [24:07<2:34:52,  4.60s/it]"
     ]
    },
    {
     "name": "stdout",
     "output_type": "stream",
     "text": [
      "reverted big fuzz white trim: /Users/xieewenz/BunkerHill-CardScanToData/data/02_Deskewed/p15799coll8_13919.jpeg\n",
      "reverted big fuzz white trim: /Users/xieewenz/BunkerHill-CardScanToData/data/02_Deskewed/p15799coll8_13918.jpeg\n",
      "reverted big fuzz white trim: /Users/xieewenz/BunkerHill-CardScanToData/data/02_Deskewed/p15799coll8_13925.jpeg\n",
      "reverted big fuzz white trim: /Users/xieewenz/BunkerHill-CardScanToData/data/02_Deskewed/p15799coll8_13909.jpeg\n",
      "reverted big fuzz black trim: /Users/xieewenz/BunkerHill-CardScanToData/data/02_Deskewed/p15799coll8_13887.jpeg\n",
      "reverted big fuzz white trim: /Users/xieewenz/BunkerHill-CardScanToData/data/02_Deskewed/p15799coll8_13917.jpeg\n",
      "reverted big fuzz white trim: /Users/xieewenz/BunkerHill-CardScanToData/data/02_Deskewed/p15799coll8_13929.jpeg\n",
      "reverted big fuzz white trim: /Users/xieewenz/BunkerHill-CardScanToData/data/02_Deskewed/p15799coll8_13915.jpeg\n",
      "reverted big fuzz white trim: /Users/xieewenz/BunkerHill-CardScanToData/data/02_Deskewed/p15799coll8_13921.jpeg\n"
     ]
    },
    {
     "name": "stderr",
     "output_type": "stream",
     "text": [
      " 11%|█         | 247/2265 [24:50<3:29:36,  6.23s/it]"
     ]
    },
    {
     "name": "stdout",
     "output_type": "stream",
     "text": [
      "reverted big fuzz white trim: /Users/xieewenz/BunkerHill-CardScanToData/data/02_Deskewed/p15799coll8_13930.jpeg\n",
      "reverted big fuzz white trim: /Users/xieewenz/BunkerHill-CardScanToData/data/02_Deskewed/p15799coll8_13923.jpeg\n",
      "reverted big fuzz black trim: /Users/xieewenz/BunkerHill-CardScanToData/data/02_Deskewed/p15799coll8_13917.jpeg\n"
     ]
    },
    {
     "name": "stderr",
     "output_type": "stream",
     "text": [
      " 11%|█▏        | 255/2265 [25:12<2:39:04,  4.75s/it]"
     ]
    },
    {
     "name": "stdout",
     "output_type": "stream",
     "text": [
      "reverted big fuzz black trim: /Users/xieewenz/BunkerHill-CardScanToData/data/02_Deskewed/p15799coll8_13915.jpeg\n",
      "reverted big fuzz white trim: /Users/xieewenz/BunkerHill-CardScanToData/data/02_Deskewed/p15799coll8_13927.jpeg\n",
      "reverted big fuzz white trim: /Users/xieewenz/BunkerHill-CardScanToData/data/02_Deskewed/p15799coll8_13935.jpeg\n"
     ]
    },
    {
     "name": "stderr",
     "output_type": "stream",
     "text": [
      " 11%|█▏        | 259/2265 [25:27<2:29:56,  4.48s/it]"
     ]
    },
    {
     "name": "stdout",
     "output_type": "stream",
     "text": [
      "reverted big fuzz white trim: /Users/xieewenz/BunkerHill-CardScanToData/data/02_Deskewed/p15799coll8_13933.jpeg\n",
      "reverted big fuzz black trim: /Users/xieewenz/BunkerHill-CardScanToData/data/02_Deskewed/p15799coll8_13933.jpeg\n",
      "reverted big fuzz white trim: /Users/xieewenz/BunkerHill-CardScanToData/data/02_Deskewed/p15799coll8_13938.jpeg\n",
      "reverted big fuzz white trim: /Users/xieewenz/BunkerHill-CardScanToData/data/02_Deskewed/p15799coll8_13948.jpeg\n"
     ]
    },
    {
     "name": "stderr",
     "output_type": "stream",
     "text": [
      " 12%|█▏        | 262/2265 [25:32<2:12:16,  3.96s/it]"
     ]
    },
    {
     "name": "stdout",
     "output_type": "stream",
     "text": [
      "reverted big fuzz white trim: /Users/xieewenz/BunkerHill-CardScanToData/data/02_Deskewed/p15799coll8_13955.jpeg\n",
      "reverted big fuzz white trim: /Users/xieewenz/BunkerHill-CardScanToData/data/02_Deskewed/p15799coll8_13941.jpeg\n"
     ]
    },
    {
     "name": "stderr",
     "output_type": "stream",
     "text": [
      " 12%|█▏        | 267/2265 [26:11<2:48:19,  5.05s/it]"
     ]
    },
    {
     "name": "stdout",
     "output_type": "stream",
     "text": [
      "reverted big fuzz white trim: /Users/xieewenz/BunkerHill-CardScanToData/data/02_Deskewed/p15799coll8_13958.jpeg\n",
      "reverted big fuzz white trim: /Users/xieewenz/BunkerHill-CardScanToData/data/02_Deskewed/p15799coll8_13968.jpeg\n",
      "reverted big fuzz white trim: /Users/xieewenz/BunkerHill-CardScanToData/data/02_Deskewed/p15799coll8_13960.jpeg\n",
      "reverted big fuzz white trim: /Users/xieewenz/BunkerHill-CardScanToData/data/02_Deskewed/p15799coll8_13952.jpeg\n",
      "reverted big fuzz white trim: /Users/xieewenz/BunkerHill-CardScanToData/data/02_Deskewed/p15799coll8_13976.jpeg\n",
      "reverted big fuzz white trim: /Users/xieewenz/BunkerHill-CardScanToData/data/02_Deskewed/p15799coll8_13944.jpeg\n"
     ]
    },
    {
     "name": "stderr",
     "output_type": "stream",
     "text": [
      " 12%|█▏        | 268/2265 [26:44<4:37:21,  8.33s/it]"
     ]
    },
    {
     "name": "stdout",
     "output_type": "stream",
     "text": [
      "reverted big fuzz white trim: /Users/xieewenz/BunkerHill-CardScanToData/data/02_Deskewed/p15799coll8_13940.jpeg\n",
      "reverted big fuzz white trim: /Users/xieewenz/BunkerHill-CardScanToData/data/02_Deskewed/p15799coll8_13963.jpeg\n",
      "reverted big fuzz white trim: /Users/xieewenz/BunkerHill-CardScanToData/data/02_Deskewed/p15799coll8_13981.jpeg\n"
     ]
    },
    {
     "name": "stderr",
     "output_type": "stream",
     "text": [
      " 12%|█▏        | 270/2265 [27:03<4:47:17,  8.64s/it]"
     ]
    },
    {
     "name": "stdout",
     "output_type": "stream",
     "text": [
      "reverted big fuzz white trim: /Users/xieewenz/BunkerHill-CardScanToData/data/02_Deskewed/p15799coll8_13995.jpeg\n"
     ]
    },
    {
     "name": "stderr",
     "output_type": "stream",
     "text": [
      " 12%|█▏        | 276/2265 [27:13<2:45:37,  5.00s/it]"
     ]
    },
    {
     "name": "stdout",
     "output_type": "stream",
     "text": [
      "reverted big fuzz white trim: /Users/xieewenz/BunkerHill-CardScanToData/data/02_Deskewed/p15799coll8_13973.jpeg\n",
      "reverted big fuzz white trim: /Users/xieewenz/BunkerHill-CardScanToData/data/02_Deskewed/p15799coll8_13998.jpeg\n",
      "reverted big fuzz white trim: /Users/xieewenz/BunkerHill-CardScanToData/data/02_Deskewed/p15799coll8_14007.jpeg\n",
      "reverted big fuzz white trim: /Users/xieewenz/BunkerHill-CardScanToData/data/02_Deskewed/p15799coll8_13986.jpeg\n",
      "reverted big fuzz white trim: /Users/xieewenz/BunkerHill-CardScanToData/data/02_Deskewed/p15799coll8_13993.jpeg\n",
      "reverted big fuzz white trim: /Users/xieewenz/BunkerHill-CardScanToData/data/02_Deskewed/p15799coll8_14011.jpeg\n"
     ]
    },
    {
     "name": "stderr",
     "output_type": "stream",
     "text": [
      " 12%|█▏        | 278/2265 [27:58<4:38:44,  8.42s/it]"
     ]
    },
    {
     "name": "stdout",
     "output_type": "stream",
     "text": [
      "reverted big fuzz white trim: /Users/xieewenz/BunkerHill-CardScanToData/data/02_Deskewed/p15799coll8_14016.jpeg\n",
      "reverted big fuzz white trim: /Users/xieewenz/BunkerHill-CardScanToData/data/02_Deskewed/p15799coll8_14017.jpeg\n",
      "reverted big fuzz white trim: /Users/xieewenz/BunkerHill-CardScanToData/data/02_Deskewed/p15799coll8_14014.jpeg\n",
      "reverted big fuzz white trim: /Users/xieewenz/BunkerHill-CardScanToData/data/02_Deskewed/p15799coll8_14013.jpeg\n",
      "reverted big fuzz white trim: /Users/xieewenz/BunkerHill-CardScanToData/data/02_Deskewed/p15799coll8_14021.jpeg\n",
      "reverted big fuzz white trim: /Users/xieewenz/BunkerHill-CardScanToData/data/02_Deskewed/p15799coll8_14009.jpeg\n",
      "reverted big fuzz white trim: /Users/xieewenz/BunkerHill-CardScanToData/data/02_Deskewed/p15799coll8_14027.jpeg\n",
      "reverted big fuzz white trim: /Users/xieewenz/BunkerHill-CardScanToData/data/02_Deskewed/p15799coll8_14002.jpeg\n",
      "reverted big fuzz white trim: /Users/xieewenz/BunkerHill-CardScanToData/data/02_Deskewed/p15799coll8_14020.jpeg\n",
      "reverted big fuzz white trim: /Users/xieewenz/BunkerHill-CardScanToData/data/02_Deskewed/p15799coll8_14031.jpeg\n"
     ]
    },
    {
     "name": "stderr",
     "output_type": "stream",
     "text": [
      " 13%|█▎        | 285/2265 [28:56<4:36:12,  8.37s/it]"
     ]
    },
    {
     "name": "stdout",
     "output_type": "stream",
     "text": [
      "reverted big fuzz white trim: /Users/xieewenz/BunkerHill-CardScanToData/data/02_Deskewed/p15799coll8_14033.jpeg\n",
      "reverted big fuzz white trim: /Users/xieewenz/BunkerHill-CardScanToData/data/02_Deskewed/p15799coll8_14043.jpeg\n",
      "reverted big fuzz white trim: /Users/xieewenz/BunkerHill-CardScanToData/data/02_Deskewed/p15799coll8_14024.jpeg\n",
      "reverted big fuzz white trim: /Users/xieewenz/BunkerHill-CardScanToData/data/02_Deskewed/p15799coll8_14038.jpeg\n",
      "reverted big fuzz white trim: /Users/xieewenz/BunkerHill-CardScanToData/data/02_Deskewed/p15799coll8_14045.jpeg\n",
      "reverted big fuzz white trim: /Users/xieewenz/BunkerHill-CardScanToData/data/02_Deskewed/p15799coll8_14019.jpeg\n",
      "reverted big fuzz white trim: /Users/xieewenz/BunkerHill-CardScanToData/data/02_Deskewed/p15799coll8_14040.jpeg\n",
      "reverted big fuzz white trim: /Users/xieewenz/BunkerHill-CardScanToData/data/02_Deskewed/p15799coll8_14036.jpeg\n"
     ]
    },
    {
     "name": "stderr",
     "output_type": "stream",
     "text": [
      " 13%|█▎        | 293/2265 [29:20<3:16:36,  5.98s/it]"
     ]
    },
    {
     "name": "stdout",
     "output_type": "stream",
     "text": [
      "reverted big fuzz white trim: /Users/xieewenz/BunkerHill-CardScanToData/data/02_Deskewed/p15799coll8_14046.jpeg\n"
     ]
    },
    {
     "name": "stderr",
     "output_type": "stream",
     "text": [
      " 13%|█▎        | 302/2265 [29:38<2:20:59,  4.31s/it]"
     ]
    },
    {
     "name": "stdout",
     "output_type": "stream",
     "text": [
      "reverted big fuzz white trim: /Users/xieewenz/BunkerHill-CardScanToData/data/02_Deskewed/p15799coll8_14277.jpeg\n",
      "reverted big fuzz white trim: /Users/xieewenz/BunkerHill-CardScanToData/data/02_Deskewed/p15799coll8_14056.jpeg\n"
     ]
    },
    {
     "name": "stderr",
     "output_type": "stream",
     "text": [
      " 13%|█▎        | 305/2265 [29:52<2:22:39,  4.37s/it]"
     ]
    },
    {
     "name": "stdout",
     "output_type": "stream",
     "text": [
      "reverted big fuzz white trim: /Users/xieewenz/BunkerHill-CardScanToData/data/02_Deskewed/p15799coll8_14054.jpeg\n",
      "reverted big fuzz white trim: /Users/xieewenz/BunkerHill-CardScanToData/data/02_Deskewed/p15799coll8_14052.jpeg\n",
      "reverted big fuzz white trim: /Users/xieewenz/BunkerHill-CardScanToData/data/02_Deskewed/p15799coll8_14353.jpeg\n",
      "reverted big fuzz black trim: /Users/xieewenz/BunkerHill-CardScanToData/data/02_Deskewed/p15799coll8_14277.jpeg\n",
      "reverted big fuzz white trim: /Users/xieewenz/BunkerHill-CardScanToData/data/02_Deskewed/p15799coll8_14048.jpeg\n"
     ]
    },
    {
     "name": "stderr",
     "output_type": "stream",
     "text": [
      " 14%|█▎        | 306/2265 [30:07<2:49:27,  5.19s/it]"
     ]
    },
    {
     "name": "stdout",
     "output_type": "stream",
     "text": [
      "reverted big fuzz white trim: /Users/xieewenz/BunkerHill-CardScanToData/data/02_Deskewed/p15799coll8_14346.jpeg\n",
      "reverted big fuzz white trim: /Users/xieewenz/BunkerHill-CardScanToData/data/02_Deskewed/p15799coll8_14357.jpeg\n"
     ]
    },
    {
     "name": "stderr",
     "output_type": "stream",
     "text": [
      " 14%|█▎        | 311/2265 [30:29<2:31:32,  4.65s/it]"
     ]
    },
    {
     "name": "stdout",
     "output_type": "stream",
     "text": [
      "reverted big fuzz white trim: /Users/xieewenz/BunkerHill-CardScanToData/data/02_Deskewed/p15799coll8_14360.jpeg\n",
      "reverted big fuzz white trim: /Users/xieewenz/BunkerHill-CardScanToData/data/02_Deskewed/p15799coll8_14362.jpeg\n",
      "reverted big fuzz white trim: /Users/xieewenz/BunkerHill-CardScanToData/data/02_Deskewed/p15799coll8_14371.jpeg\n",
      "reverted big fuzz white trim: /Users/xieewenz/BunkerHill-CardScanToData/data/02_Deskewed/p15799coll8_14366.jpeg\n",
      "reverted big fuzz white trim: /Users/xieewenz/BunkerHill-CardScanToData/data/02_Deskewed/p15799coll8_14374.jpeg\n",
      "reverted big fuzz white trim: /Users/xieewenz/BunkerHill-CardScanToData/data/02_Deskewed/p15799coll8_14363.jpeg\n",
      "reverted big fuzz white trim: /Users/xieewenz/BunkerHill-CardScanToData/data/02_Deskewed/p15799coll8_14359.jpeg\n",
      "reverted big fuzz white trim: /Users/xieewenz/BunkerHill-CardScanToData/data/02_Deskewed/p15799coll8_14369.jpeg\n",
      "reverted big fuzz white trim: /Users/xieewenz/BunkerHill-CardScanToData/data/02_Deskewed/p15799coll8_14368.jpeg\n"
     ]
    },
    {
     "name": "stderr",
     "output_type": "stream",
     "text": [
      " 14%|█▍        | 315/2265 [31:04<3:07:54,  5.78s/it]"
     ]
    },
    {
     "name": "stdout",
     "output_type": "stream",
     "text": [
      "reverted big fuzz white trim: /Users/xieewenz/BunkerHill-CardScanToData/data/02_Deskewed/p15799coll8_14389.jpeg\n",
      "reverted big fuzz white trim: /Users/xieewenz/BunkerHill-CardScanToData/data/02_Deskewed/p15799coll8_14393.jpeg\n",
      "reverted big fuzz black trim: /Users/xieewenz/BunkerHill-CardScanToData/data/02_Deskewed/p15799coll8_14393.jpeg\n",
      "reverted big fuzz white trim: /Users/xieewenz/BunkerHill-CardScanToData/data/02_Deskewed/p15799coll8_14381.jpeg\n",
      "reverted big fuzz white trim: /Users/xieewenz/BunkerHill-CardScanToData/data/02_Deskewed/p15799coll8_14385.jpeg\n",
      "reverted big fuzz white trim: /Users/xieewenz/BunkerHill-CardScanToData/data/02_Deskewed/p15799coll8_14391.jpeg\n",
      "reverted big fuzz black trim: /Users/xieewenz/BunkerHill-CardScanToData/data/02_Deskewed/p15799coll8_14391.jpeg\n",
      "reverted big fuzz white trim: /Users/xieewenz/BunkerHill-CardScanToData/data/02_Deskewed/p15799coll8_14387.jpeg\n",
      "reverted big fuzz white trim: /Users/xieewenz/BunkerHill-CardScanToData/data/02_Deskewed/p15799coll8_14378.jpeg\n",
      "reverted big fuzz white trim: /Users/xieewenz/BunkerHill-CardScanToData/data/02_Deskewed/p15799coll8_14398.jpeg\n",
      "reverted big fuzz white trim: /Users/xieewenz/BunkerHill-CardScanToData/data/02_Deskewed/p15799coll8_14394.jpeg\n",
      "reverted big fuzz white trim: /Users/xieewenz/BunkerHill-CardScanToData/data/02_Deskewed/p15799coll8_14402.jpeg\n"
     ]
    },
    {
     "name": "stderr",
     "output_type": "stream",
     "text": [
      " 14%|█▍        | 319/2265 [31:31<3:22:15,  6.24s/it]"
     ]
    },
    {
     "name": "stdout",
     "output_type": "stream",
     "text": [
      "reverted big fuzz white trim: /Users/xieewenz/BunkerHill-CardScanToData/data/02_Deskewed/p15799coll8_14403.jpeg\n",
      "reverted big fuzz black trim: /Users/xieewenz/BunkerHill-CardScanToData/data/02_Deskewed/p15799coll8_14368.jpeg\n",
      "reverted big fuzz white trim: /Users/xieewenz/BunkerHill-CardScanToData/data/02_Deskewed/p15799coll8_14396.jpeg\n",
      "reverted big fuzz white trim: /Users/xieewenz/BunkerHill-CardScanToData/data/02_Deskewed/p15799coll8_14411.jpeg\n",
      "reverted big fuzz white trim: /Users/xieewenz/BunkerHill-CardScanToData/data/02_Deskewed/p15799coll8_14400.jpeg\n",
      "reverted big fuzz white trim: /Users/xieewenz/BunkerHill-CardScanToData/data/02_Deskewed/p15799coll8_14408.jpeg\n",
      "reverted big fuzz white trim: /Users/xieewenz/BunkerHill-CardScanToData/data/02_Deskewed/p15799coll8_14404.jpeg\n",
      "reverted big fuzz white trim: /Users/xieewenz/BunkerHill-CardScanToData/data/02_Deskewed/p15799coll8_14406.jpeg\n",
      "reverted big fuzz white trim: /Users/xieewenz/BunkerHill-CardScanToData/data/02_Deskewed/p15799coll8_14397.jpeg\n",
      "reverted big fuzz white trim: /Users/xieewenz/BunkerHill-CardScanToData/data/02_Deskewed/p15799coll8_14414.jpeg\n"
     ]
    },
    {
     "name": "stderr",
     "output_type": "stream",
     "text": [
      " 15%|█▍        | 332/2265 [32:00<1:42:56,  3.20s/it]"
     ]
    },
    {
     "name": "stdout",
     "output_type": "stream",
     "text": [
      "reverted big fuzz black trim: /Users/xieewenz/BunkerHill-CardScanToData/data/02_Deskewed/p15799coll8_14400.jpeg\n"
     ]
    },
    {
     "name": "stderr",
     "output_type": "stream",
     "text": [
      " 15%|█▍        | 334/2265 [32:02<1:32:01,  2.86s/it]"
     ]
    },
    {
     "name": "stdout",
     "output_type": "stream",
     "text": [
      "reverted big fuzz white trim: /Users/xieewenz/BunkerHill-CardScanToData/data/02_Deskewed/p15799coll8_14430.jpeg\n",
      "reverted big fuzz black trim: /Users/xieewenz/BunkerHill-CardScanToData/data/02_Deskewed/p15799coll8_14430.jpeg\n",
      "reverted big fuzz black trim: /Users/xieewenz/BunkerHill-CardScanToData/data/02_Deskewed/p15799coll8_14408.jpeg\n"
     ]
    },
    {
     "name": "stderr",
     "output_type": "stream",
     "text": [
      " 15%|█▍        | 337/2265 [32:08<1:26:54,  2.70s/it]"
     ]
    },
    {
     "name": "stdout",
     "output_type": "stream",
     "text": [
      "reverted big fuzz white trim: /Users/xieewenz/BunkerHill-CardScanToData/data/02_Deskewed/p15799coll8_14419.jpeg\n",
      "reverted big fuzz white trim: /Users/xieewenz/BunkerHill-CardScanToData/data/02_Deskewed/p15799coll8_14426.jpeg\n",
      "reverted big fuzz black trim: /Users/xieewenz/BunkerHill-CardScanToData/data/02_Deskewed/p15799coll8_14414.jpeg\n",
      "reverted big fuzz black trim: /Users/xieewenz/BunkerHill-CardScanToData/data/02_Deskewed/p15799coll8_14411.jpeg\n",
      "reverted big fuzz white trim: /Users/xieewenz/BunkerHill-CardScanToData/data/02_Deskewed/p15799coll8_14436.jpeg\n",
      "reverted big fuzz white trim: /Users/xieewenz/BunkerHill-CardScanToData/data/02_Deskewed/p15799coll8_14433.jpeg\n",
      "reverted big fuzz black trim: /Users/xieewenz/BunkerHill-CardScanToData/data/02_Deskewed/p15799coll8_14406.jpeg\n",
      "reverted big fuzz white trim: /Users/xieewenz/BunkerHill-CardScanToData/data/02_Deskewed/p15799coll8_14438.jpeg\n",
      "reverted big fuzz white trim: /Users/xieewenz/BunkerHill-CardScanToData/data/02_Deskewed/p15799coll8_14452.jpeg\n",
      "reverted big fuzz black trim: /Users/xieewenz/BunkerHill-CardScanToData/data/02_Deskewed/p15799coll8_14433.jpeg\n",
      "reverted big fuzz black trim: /Users/xieewenz/BunkerHill-CardScanToData/data/02_Deskewed/p15799coll8_14452.jpeg\n",
      "reverted big fuzz white trim: /Users/xieewenz/BunkerHill-CardScanToData/data/02_Deskewed/p15799coll8_14457.jpeg\n",
      "reverted big fuzz black trim: /Users/xieewenz/BunkerHill-CardScanToData/data/02_Deskewed/p15799coll8_14457.jpeg\n",
      "reverted big fuzz white trim: /Users/xieewenz/BunkerHill-CardScanToData/data/02_Deskewed/p15799coll8_14459.jpeg\n"
     ]
    },
    {
     "name": "stderr",
     "output_type": "stream",
     "text": [
      " 15%|█▍        | 338/2265 [32:59<4:06:06,  7.66s/it]"
     ]
    },
    {
     "name": "stdout",
     "output_type": "stream",
     "text": [
      "reverted big fuzz white trim: /Users/xieewenz/BunkerHill-CardScanToData/data/02_Deskewed/p15799coll8_14447.jpeg\n",
      "reverted big fuzz white trim: /Users/xieewenz/BunkerHill-CardScanToData/data/02_Deskewed/p15799coll8_14442.jpeg\n",
      "reverted big fuzz black trim: /Users/xieewenz/BunkerHill-CardScanToData/data/02_Deskewed/p15799coll8_14426.jpeg\n"
     ]
    },
    {
     "name": "stderr",
     "output_type": "stream",
     "text": [
      " 15%|█▌        | 343/2265 [33:01<2:28:01,  4.62s/it]"
     ]
    },
    {
     "name": "stdout",
     "output_type": "stream",
     "text": [
      "reverted big fuzz white trim: /Users/xieewenz/BunkerHill-CardScanToData/data/02_Deskewed/p15799coll8_14465.jpeg\n"
     ]
    },
    {
     "name": "stderr",
     "output_type": "stream",
     "text": [
      " 15%|█▌        | 346/2265 [33:12<2:18:19,  4.32s/it]"
     ]
    },
    {
     "name": "stdout",
     "output_type": "stream",
     "text": [
      "reverted big fuzz black trim: /Users/xieewenz/BunkerHill-CardScanToData/data/02_Deskewed/p15799coll8_14436.jpeg\n",
      "reverted big fuzz white trim: /Users/xieewenz/BunkerHill-CardScanToData/data/02_Deskewed/p15799coll8_14458.jpeg\n"
     ]
    },
    {
     "name": "stderr",
     "output_type": "stream",
     "text": [
      " 15%|█▌        | 348/2265 [33:22<2:29:35,  4.68s/it]"
     ]
    },
    {
     "name": "stdout",
     "output_type": "stream",
     "text": [
      "reverted big fuzz white trim: /Users/xieewenz/BunkerHill-CardScanToData/data/02_Deskewed/p15799coll8_14467.jpeg\n",
      "reverted big fuzz white trim: /Users/xieewenz/BunkerHill-CardScanToData/data/02_Deskewed/p15799coll8_14473.jpeg\n"
     ]
    },
    {
     "name": "stderr",
     "output_type": "stream",
     "text": [
      " 16%|█▌        | 352/2265 [33:29<1:47:18,  3.37s/it]"
     ]
    },
    {
     "name": "stdout",
     "output_type": "stream",
     "text": [
      "reverted big fuzz white trim: /Users/xieewenz/BunkerHill-CardScanToData/data/02_Deskewed/p15799coll8_14462.jpeg\n",
      "reverted big fuzz black trim: /Users/xieewenz/BunkerHill-CardScanToData/data/02_Deskewed/p15799coll8_14462.jpeg\n",
      "reverted big fuzz white trim: /Users/xieewenz/BunkerHill-CardScanToData/data/02_Deskewed/p15799coll8_14478.jpeg\n",
      "reverted big fuzz white trim: /Users/xieewenz/BunkerHill-CardScanToData/data/02_Deskewed/p15799coll8_14482.jpeg\n",
      "reverted big fuzz white trim: /Users/xieewenz/BunkerHill-CardScanToData/data/02_Deskewed/p15799coll8_14470.jpeg\n",
      "reverted big fuzz black trim: /Users/xieewenz/BunkerHill-CardScanToData/data/02_Deskewed/p15799coll8_14459.jpeg\n",
      "reverted big fuzz black trim: /Users/xieewenz/BunkerHill-CardScanToData/data/02_Deskewed/p15799coll8_14482.jpeg\n",
      "reverted big fuzz white trim: /Users/xieewenz/BunkerHill-CardScanToData/data/02_Deskewed/p15799coll8_14486.jpeg\n"
     ]
    },
    {
     "name": "stderr",
     "output_type": "stream",
     "text": [
      " 16%|█▌        | 356/2265 [34:04<2:32:23,  4.79s/it]"
     ]
    },
    {
     "name": "stdout",
     "output_type": "stream",
     "text": [
      "reverted big fuzz black trim: /Users/xieewenz/BunkerHill-CardScanToData/data/02_Deskewed/p15799coll8_14473.jpeg\n"
     ]
    },
    {
     "name": "stderr",
     "output_type": "stream",
     "text": [
      " 16%|█▌        | 358/2265 [34:11<2:25:19,  4.57s/it]"
     ]
    },
    {
     "name": "stdout",
     "output_type": "stream",
     "text": [
      "reverted big fuzz white trim: /Users/xieewenz/BunkerHill-CardScanToData/data/02_Deskewed/p15799coll8_14475.jpeg\n"
     ]
    },
    {
     "name": "stderr",
     "output_type": "stream",
     "text": [
      " 16%|█▌        | 359/2265 [34:17<2:29:45,  4.71s/it]"
     ]
    },
    {
     "name": "stdout",
     "output_type": "stream",
     "text": [
      "reverted big fuzz white trim: /Users/xieewenz/BunkerHill-CardScanToData/data/02_Deskewed/p15799coll8_14487.jpeg\n",
      "reverted big fuzz white trim: /Users/xieewenz/BunkerHill-CardScanToData/data/02_Deskewed/p15799coll8_14479.jpeg\n",
      "reverted big fuzz white trim: /Users/xieewenz/BunkerHill-CardScanToData/data/02_Deskewed/p15799coll8_14495.jpeg\n",
      "reverted big fuzz white trim: /Users/xieewenz/BunkerHill-CardScanToData/data/02_Deskewed/p15799coll8_14688.jpg\n",
      "reverted big fuzz black trim: /Users/xieewenz/BunkerHill-CardScanToData/data/02_Deskewed/p15799coll8_14495.jpeg\n",
      "reverted big fuzz black trim: /Users/xieewenz/BunkerHill-CardScanToData/data/02_Deskewed/p15799coll8_14486.jpeg\n",
      "reverted big fuzz white trim: /Users/xieewenz/BunkerHill-CardScanToData/data/02_Deskewed/p15799coll8_14490.jpeg\n",
      "reverted big fuzz white trim: /Users/xieewenz/BunkerHill-CardScanToData/data/02_Deskewed/p15799coll8_14497.jpeg\n",
      "reverted big fuzz black trim: /Users/xieewenz/BunkerHill-CardScanToData/data/02_Deskewed/p15799coll8_14497.jpeg\n",
      "reverted big fuzz white trim: /Users/xieewenz/BunkerHill-CardScanToData/data/02_Deskewed/p15799coll8_14692.jpg\n",
      "reverted big fuzz white trim: /Users/xieewenz/BunkerHill-CardScanToData/data/02_Deskewed/p15799coll8_14693.jpg\n",
      "reverted big fuzz white trim: /Users/xieewenz/BunkerHill-CardScanToData/data/02_Deskewed/p15799coll8_14696.jpg\n",
      "reverted big fuzz black trim: /Users/xieewenz/BunkerHill-CardScanToData/data/02_Deskewed/p15799coll8_14479.jpeg\n"
     ]
    },
    {
     "name": "stderr",
     "output_type": "stream",
     "text": [
      " 16%|█▌        | 361/2265 [34:58<5:07:14,  9.68s/it]"
     ]
    },
    {
     "name": "stdout",
     "output_type": "stream",
     "text": [
      "reverted big fuzz white trim: /Users/xieewenz/BunkerHill-CardScanToData/data/02_Deskewed/p15799coll8_14697.jpg\n",
      "reverted big fuzz white trim: /Users/xieewenz/BunkerHill-CardScanToData/data/02_Deskewed/p15799coll8_14699.jpg\n",
      "reverted big fuzz white trim: /Users/xieewenz/BunkerHill-CardScanToData/data/02_Deskewed/p15799coll8_14690.jpg\n",
      "reverted big fuzz white trim: /Users/xieewenz/BunkerHill-CardScanToData/data/02_Deskewed/p15799coll8_14493.jpeg\n"
     ]
    },
    {
     "name": "stderr",
     "output_type": "stream",
     "text": [
      " 16%|█▋        | 370/2265 [35:22<2:35:19,  4.92s/it]"
     ]
    },
    {
     "name": "stdout",
     "output_type": "stream",
     "text": [
      "reverted big fuzz white trim: /Users/xieewenz/BunkerHill-CardScanToData/data/02_Deskewed/p15799coll8_14698.jpg\n",
      "reverted big fuzz white trim: /Users/xieewenz/BunkerHill-CardScanToData/data/02_Deskewed/p15799coll8_14709.jpg\n",
      "reverted big fuzz black trim: /Users/xieewenz/BunkerHill-CardScanToData/data/02_Deskewed/p15799coll8_14692.jpg\n"
     ]
    },
    {
     "name": "stderr",
     "output_type": "stream",
     "text": [
      " 16%|█▋        | 371/2265 [35:26<2:31:06,  4.79s/it]"
     ]
    },
    {
     "name": "stdout",
     "output_type": "stream",
     "text": [
      "reverted big fuzz white trim: /Users/xieewenz/BunkerHill-CardScanToData/data/02_Deskewed/p15799coll8_14694.jpg\n"
     ]
    },
    {
     "name": "stderr",
     "output_type": "stream",
     "text": [
      " 17%|█▋        | 376/2265 [35:40<2:00:14,  3.82s/it]"
     ]
    },
    {
     "name": "stdout",
     "output_type": "stream",
     "text": [
      "reverted big fuzz white trim: /Users/xieewenz/BunkerHill-CardScanToData/data/02_Deskewed/p15799coll8_14706.jpg\n",
      "reverted big fuzz white trim: /Users/xieewenz/BunkerHill-CardScanToData/data/02_Deskewed/p15799coll8_14721.jpg\n",
      "reverted big fuzz white trim: /Users/xieewenz/BunkerHill-CardScanToData/data/02_Deskewed/p15799coll8_14715.jpg\n",
      "reverted big fuzz white trim: /Users/xieewenz/BunkerHill-CardScanToData/data/02_Deskewed/p15799coll8_14712.jpg\n",
      "reverted big fuzz white trim: /Users/xieewenz/BunkerHill-CardScanToData/data/02_Deskewed/p15799coll8_14719.jpg\n",
      "reverted big fuzz black trim: /Users/xieewenz/BunkerHill-CardScanToData/data/02_Deskewed/p15799coll8_14715.jpg\n",
      "reverted big fuzz white trim: /Users/xieewenz/BunkerHill-CardScanToData/data/02_Deskewed/p15799coll8_14703.jpg\n",
      "reverted big fuzz white trim: /Users/xieewenz/BunkerHill-CardScanToData/data/02_Deskewed/p15799coll8_14729.jpg\n",
      "reverted big fuzz white trim: /Users/xieewenz/BunkerHill-CardScanToData/data/02_Deskewed/p15799coll8_14737.jpg\n",
      "reverted big fuzz white trim: /Users/xieewenz/BunkerHill-CardScanToData/data/02_Deskewed/p15799coll8_14723.jpg\n",
      "reverted big fuzz white trim: /Users/xieewenz/BunkerHill-CardScanToData/data/02_Deskewed/p15799coll8_14701.jpg\n",
      "reverted big fuzz white trim: /Users/xieewenz/BunkerHill-CardScanToData/data/02_Deskewed/p15799coll8_14750.jpg\n",
      "reverted big fuzz white trim: /Users/xieewenz/BunkerHill-CardScanToData/data/02_Deskewed/p15799coll8_14761.jpg\n",
      "reverted big fuzz white trim: /Users/xieewenz/BunkerHill-CardScanToData/data/02_Deskewed/p15799coll8_14726.jpg\n",
      "reverted big fuzz white trim: /Users/xieewenz/BunkerHill-CardScanToData/data/02_Deskewed/p15799coll8_14746.jpg\n",
      "reverted big fuzz white trim: /Users/xieewenz/BunkerHill-CardScanToData/data/02_Deskewed/p15799coll8_14742.jpg\n",
      "reverted big fuzz white trim: /Users/xieewenz/BunkerHill-CardScanToData/data/02_Deskewed/p15799coll8_14777.jpg\n",
      "reverted big fuzz white trim: /Users/xieewenz/BunkerHill-CardScanToData/data/02_Deskewed/p15799coll8_14756.jpg\n"
     ]
    },
    {
     "name": "stderr",
     "output_type": "stream",
     "text": [
      " 17%|█▋        | 378/2265 [36:23<4:19:51,  8.26s/it]"
     ]
    },
    {
     "name": "stdout",
     "output_type": "stream",
     "text": [
      "reverted big fuzz black trim: /Users/xieewenz/BunkerHill-CardScanToData/data/02_Deskewed/p15799coll8_14701.jpg\n",
      "reverted big fuzz white trim: /Users/xieewenz/BunkerHill-CardScanToData/data/02_Deskewed/p15799coll8_14766.jpg\n",
      "reverted big fuzz black trim: /Users/xieewenz/BunkerHill-CardScanToData/data/02_Deskewed/p15799coll8_14761.jpg\n",
      "reverted big fuzz white trim: /Users/xieewenz/BunkerHill-CardScanToData/data/02_Deskewed/p15799coll8_14784.jpg\n",
      "reverted big fuzz white trim: /Users/xieewenz/BunkerHill-CardScanToData/data/02_Deskewed/p15799coll8_14791.jpg\n",
      "reverted big fuzz black trim: /Users/xieewenz/BunkerHill-CardScanToData/data/02_Deskewed/p15799coll8_14791.jpg\n"
     ]
    },
    {
     "name": "stderr",
     "output_type": "stream",
     "text": [
      " 17%|█▋        | 386/2265 [36:37<2:19:07,  4.44s/it]"
     ]
    },
    {
     "name": "stdout",
     "output_type": "stream",
     "text": [
      "reverted big fuzz white trim: /Users/xieewenz/BunkerHill-CardScanToData/data/02_Deskewed/p15799coll8_14769.jpg\n",
      "reverted big fuzz black trim: /Users/xieewenz/BunkerHill-CardScanToData/data/02_Deskewed/p15799coll8_14777.jpg\n",
      "reverted big fuzz white trim: /Users/xieewenz/BunkerHill-CardScanToData/data/02_Deskewed/p15799coll8_14796.jpg\n",
      "reverted big fuzz white trim: /Users/xieewenz/BunkerHill-CardScanToData/data/02_Deskewed/p15799coll8_14823.jpg\n",
      "reverted big fuzz white trim: /Users/xieewenz/BunkerHill-CardScanToData/data/02_Deskewed/p15799coll8_14805.jpg\n",
      "reverted big fuzz white trim: /Users/xieewenz/BunkerHill-CardScanToData/data/02_Deskewed/p15799coll8_14825.jpg\n",
      "reverted big fuzz black trim: /Users/xieewenz/BunkerHill-CardScanToData/data/02_Deskewed/p15799coll8_14756.jpg\n"
     ]
    },
    {
     "name": "stderr",
     "output_type": "stream",
     "text": [
      " 17%|█▋        | 393/2265 [36:55<1:54:20,  3.66s/it]"
     ]
    },
    {
     "name": "stdout",
     "output_type": "stream",
     "text": [
      "reverted big fuzz white trim: /Users/xieewenz/BunkerHill-CardScanToData/data/02_Deskewed/p15799coll8_14812.jpg\n",
      "reverted big fuzz white trim: /Users/xieewenz/BunkerHill-CardScanToData/data/02_Deskewed/p15799coll8_14818.jpg\n"
     ]
    },
    {
     "name": "stderr",
     "output_type": "stream",
     "text": [
      " 18%|█▊        | 401/2265 [37:12<1:31:56,  2.96s/it]"
     ]
    },
    {
     "name": "stdout",
     "output_type": "stream",
     "text": [
      "reverted big fuzz white trim: /Users/xieewenz/BunkerHill-CardScanToData/data/02_Deskewed/p15799coll8_14816.jpg\n"
     ]
    },
    {
     "name": "stderr",
     "output_type": "stream",
     "text": [
      " 18%|█▊        | 402/2265 [37:14<1:30:53,  2.93s/it]"
     ]
    },
    {
     "name": "stdout",
     "output_type": "stream",
     "text": [
      "reverted big fuzz black trim: /Users/xieewenz/BunkerHill-CardScanToData/data/02_Deskewed/p15799coll8_14812.jpg\n",
      "reverted big fuzz white trim: /Users/xieewenz/BunkerHill-CardScanToData/data/02_Deskewed/p15799coll8_14820.jpg\n",
      "reverted big fuzz white trim: /Users/xieewenz/BunkerHill-CardScanToData/data/02_Deskewed/p15799coll8_14827.jpg\n"
     ]
    },
    {
     "name": "stderr",
     "output_type": "stream",
     "text": [
      " 18%|█▊        | 404/2265 [37:16<1:16:37,  2.47s/it]"
     ]
    },
    {
     "name": "stdout",
     "output_type": "stream",
     "text": [
      "reverted big fuzz black trim: /Users/xieewenz/BunkerHill-CardScanToData/data/02_Deskewed/p15799coll8_14827.jpg\n",
      "reverted big fuzz white trim: /Users/xieewenz/BunkerHill-CardScanToData/data/02_Deskewed/p15799coll8_14849.jpg\n",
      "reverted big fuzz white trim: /Users/xieewenz/BunkerHill-CardScanToData/data/02_Deskewed/p15799coll8_14834.jpg\n"
     ]
    },
    {
     "name": "stderr",
     "output_type": "stream",
     "text": [
      " 18%|█▊        | 405/2265 [37:29<1:58:22,  3.82s/it]"
     ]
    },
    {
     "name": "stdout",
     "output_type": "stream",
     "text": [
      "reverted big fuzz white trim: /Users/xieewenz/BunkerHill-CardScanToData/data/02_Deskewed/p15799coll8_14840.jpg\n",
      "reverted big fuzz white trim: /Users/xieewenz/BunkerHill-CardScanToData/data/02_Deskewed/p15799coll8_14829.jpg\n"
     ]
    },
    {
     "name": "stderr",
     "output_type": "stream",
     "text": [
      " 18%|█▊        | 409/2265 [37:33<1:23:55,  2.71s/it]"
     ]
    },
    {
     "name": "stdout",
     "output_type": "stream",
     "text": [
      "reverted big fuzz white trim: /Users/xieewenz/BunkerHill-CardScanToData/data/02_Deskewed/p15799coll8_14844.jpg\n",
      "reverted big fuzz white trim: /Users/xieewenz/BunkerHill-CardScanToData/data/02_Deskewed/p15799coll8_14861.jpg\n",
      "reverted big fuzz black trim: /Users/xieewenz/BunkerHill-CardScanToData/data/02_Deskewed/p15799coll8_14844.jpg\n"
     ]
    },
    {
     "name": "stderr",
     "output_type": "stream",
     "text": [
      " 18%|█▊        | 410/2265 [37:48<2:11:32,  4.25s/it]"
     ]
    },
    {
     "name": "stdout",
     "output_type": "stream",
     "text": [
      "reverted big fuzz white trim: /Users/xieewenz/BunkerHill-CardScanToData/data/02_Deskewed/p15799coll8_14857.jpg\n",
      "reverted big fuzz white trim: /Users/xieewenz/BunkerHill-CardScanToData/data/02_Deskewed/p15799coll8_14853.jpg\n",
      "reverted big fuzz white trim: /Users/xieewenz/BunkerHill-CardScanToData/data/02_Deskewed/p15799coll8_14865.jpg\n",
      "reverted big fuzz white trim: /Users/xieewenz/BunkerHill-CardScanToData/data/02_Deskewed/p15799coll8_14868.jpg\n",
      "reverted big fuzz white trim: /Users/xieewenz/BunkerHill-CardScanToData/data/02_Deskewed/p15799coll8_14904.jpg\n",
      "reverted big fuzz white trim: /Users/xieewenz/BunkerHill-CardScanToData/data/02_Deskewed/p15799coll8_14892.jpg\n",
      "reverted big fuzz white trim: /Users/xieewenz/BunkerHill-CardScanToData/data/02_Deskewed/p15799coll8_14837.jpg\n",
      "reverted big fuzz white trim: /Users/xieewenz/BunkerHill-CardScanToData/data/02_Deskewed/p15799coll8_14917.jpg\n",
      "reverted big fuzz white trim: /Users/xieewenz/BunkerHill-CardScanToData/data/02_Deskewed/p15799coll8_14888.jpg\n",
      "reverted big fuzz white trim: /Users/xieewenz/BunkerHill-CardScanToData/data/02_Deskewed/p15799coll8_14930.jpg\n",
      "reverted big fuzz white trim: /Users/xieewenz/BunkerHill-CardScanToData/data/02_Deskewed/p15799coll8_14882.jpg\n"
     ]
    },
    {
     "name": "stderr",
     "output_type": "stream",
     "text": [
      " 18%|█▊        | 411/2265 [38:32<5:25:55, 10.55s/it]"
     ]
    },
    {
     "name": "stdout",
     "output_type": "stream",
     "text": [
      "reverted big fuzz white trim: /Users/xieewenz/BunkerHill-CardScanToData/data/02_Deskewed/p15799coll8_14935.jpg\n",
      "reverted big fuzz white trim: /Users/xieewenz/BunkerHill-CardScanToData/data/02_Deskewed/p15799coll8_14940.jpg\n",
      "reverted big fuzz white trim: /Users/xieewenz/BunkerHill-CardScanToData/data/02_Deskewed/p15799coll8_14941.jpg\n"
     ]
    },
    {
     "name": "stderr",
     "output_type": "stream",
     "text": [
      " 18%|█▊        | 419/2265 [38:43<2:23:31,  4.67s/it]"
     ]
    },
    {
     "name": "stdout",
     "output_type": "stream",
     "text": [
      "reverted big fuzz white trim: /Users/xieewenz/BunkerHill-CardScanToData/data/02_Deskewed/p15799coll8_14942.jpg\n",
      "reverted big fuzz white trim: /Users/xieewenz/BunkerHill-CardScanToData/data/02_Deskewed/p15799coll8_14869.jpg\n"
     ]
    },
    {
     "name": "stderr",
     "output_type": "stream",
     "text": [
      " 19%|█▊        | 420/2265 [38:45<2:15:56,  4.42s/it]"
     ]
    },
    {
     "name": "stdout",
     "output_type": "stream",
     "text": [
      "reverted big fuzz white trim: /Users/xieewenz/BunkerHill-CardScanToData/data/02_Deskewed/p15799coll8_14937.jpg\n",
      "reverted big fuzz white trim: /Users/xieewenz/BunkerHill-CardScanToData/data/02_Deskewed/p15799coll8_14934.jpg\n",
      "reverted big fuzz white trim: /Users/xieewenz/BunkerHill-CardScanToData/data/02_Deskewed/p15799coll8_14939.jpg\n",
      "reverted big fuzz white trim: /Users/xieewenz/BunkerHill-CardScanToData/data/02_Deskewed/p15799coll8_14947.jpg\n",
      "reverted big fuzz white trim: /Users/xieewenz/BunkerHill-CardScanToData/data/02_Deskewed/p15799coll8_14949.jpg\n",
      "reverted big fuzz white trim: /Users/xieewenz/BunkerHill-CardScanToData/data/02_Deskewed/p15799coll8_14952.jpg\n"
     ]
    },
    {
     "name": "stderr",
     "output_type": "stream",
     "text": [
      " 19%|█▉        | 428/2265 [39:16<2:02:28,  4.00s/it]"
     ]
    },
    {
     "name": "stdout",
     "output_type": "stream",
     "text": [
      "reverted big fuzz white trim: /Users/xieewenz/BunkerHill-CardScanToData/data/02_Deskewed/p15799coll8_14944.jpg\n",
      "reverted big fuzz black trim: /Users/xieewenz/BunkerHill-CardScanToData/data/02_Deskewed/p15799coll8_14939.jpg\n",
      "reverted big fuzz white trim: /Users/xieewenz/BunkerHill-CardScanToData/data/02_Deskewed/p15799coll8_14945.jpg\n",
      "reverted big fuzz white trim: /Users/xieewenz/BunkerHill-CardScanToData/data/02_Deskewed/p15799coll8_14956.jpg\n",
      "reverted big fuzz white trim: /Users/xieewenz/BunkerHill-CardScanToData/data/02_Deskewed/p15799coll8_14955.jpg\n"
     ]
    },
    {
     "name": "stderr",
     "output_type": "stream",
     "text": [
      " 19%|█▉        | 430/2265 [39:40<2:55:58,  5.75s/it]"
     ]
    },
    {
     "name": "stdout",
     "output_type": "stream",
     "text": [
      "reverted big fuzz white trim: /Users/xieewenz/BunkerHill-CardScanToData/data/02_Deskewed/p15799coll8_14948.jpg\n",
      "reverted big fuzz white trim: /Users/xieewenz/BunkerHill-CardScanToData/data/02_Deskewed/p15799coll8_14960.jpg\n",
      "reverted big fuzz white trim: /Users/xieewenz/BunkerHill-CardScanToData/data/02_Deskewed/p15799coll8_14951.jpg\n",
      "reverted big fuzz white trim: /Users/xieewenz/BunkerHill-CardScanToData/data/02_Deskewed/p15799coll8_14963.jpg\n",
      "reverted big fuzz black trim: /Users/xieewenz/BunkerHill-CardScanToData/data/02_Deskewed/p15799coll8_14945.jpg\n",
      "reverted big fuzz white trim: /Users/xieewenz/BunkerHill-CardScanToData/data/02_Deskewed/p15799coll8_14954.jpg\n"
     ]
    },
    {
     "name": "stderr",
     "output_type": "stream",
     "text": [
      " 19%|█▉        | 435/2265 [40:00<2:31:14,  4.96s/it]"
     ]
    },
    {
     "name": "stdout",
     "output_type": "stream",
     "text": [
      "reverted big fuzz black trim: /Users/xieewenz/BunkerHill-CardScanToData/data/02_Deskewed/p15799coll8_14948.jpg\n"
     ]
    },
    {
     "name": "stderr",
     "output_type": "stream",
     "text": [
      " 19%|█▉        | 437/2265 [40:01<2:04:02,  4.07s/it]"
     ]
    },
    {
     "name": "stdout",
     "output_type": "stream",
     "text": [
      "reverted big fuzz black trim: /Users/xieewenz/BunkerHill-CardScanToData/data/02_Deskewed/p15799coll8_14955.jpg\n"
     ]
    },
    {
     "name": "stderr",
     "output_type": "stream",
     "text": [
      " 20%|█▉        | 442/2265 [40:06<1:24:58,  2.80s/it]"
     ]
    },
    {
     "name": "stdout",
     "output_type": "stream",
     "text": [
      "reverted big fuzz white trim: /Users/xieewenz/BunkerHill-CardScanToData/data/02_Deskewed/p15799coll8_14968.jpg\n",
      "reverted big fuzz white trim: /Users/xieewenz/BunkerHill-CardScanToData/data/02_Deskewed/p15799coll8_14979.jpg\n",
      "reverted big fuzz white trim: /Users/xieewenz/BunkerHill-CardScanToData/data/02_Deskewed/p15799coll8_14973.jpg\n",
      "reverted big fuzz white trim: /Users/xieewenz/BunkerHill-CardScanToData/data/02_Deskewed/p15799coll8_14970.jpg\n",
      "reverted big fuzz white trim: /Users/xieewenz/BunkerHill-CardScanToData/data/02_Deskewed/p15799coll8_14982.jpg\n",
      "reverted big fuzz white trim: /Users/xieewenz/BunkerHill-CardScanToData/data/02_Deskewed/p15799coll8_14975.jpg\n",
      "reverted big fuzz white trim: /Users/xieewenz/BunkerHill-CardScanToData/data/02_Deskewed/p15799coll8_14991.jpg\n",
      "reverted big fuzz white trim: /Users/xieewenz/BunkerHill-CardScanToData/data/02_Deskewed/p15799coll8_14957.jpg\n"
     ]
    },
    {
     "name": "stderr",
     "output_type": "stream",
     "text": [
      " 20%|█▉        | 444/2265 [40:33<2:27:44,  4.87s/it]"
     ]
    },
    {
     "name": "stdout",
     "output_type": "stream",
     "text": [
      "reverted big fuzz white trim: /Users/xieewenz/BunkerHill-CardScanToData/data/02_Deskewed/p15799coll8_14993.jpg\n",
      "reverted big fuzz black trim: /Users/xieewenz/BunkerHill-CardScanToData/data/02_Deskewed/p15799coll8_14993.jpg\n",
      "reverted big fuzz white trim: /Users/xieewenz/BunkerHill-CardScanToData/data/02_Deskewed/p15799coll8_14988.jpg\n"
     ]
    },
    {
     "name": "stderr",
     "output_type": "stream",
     "text": [
      " 39%|███▊      | 875/2265 [53:10<50:22,  2.17s/it]  "
     ]
    },
    {
     "name": "stdout",
     "output_type": "stream",
     "text": [
      "reverted big fuzz white trim: /Users/xieewenz/BunkerHill-CardScanToData/data/02_Deskewed/p15799coll8_3304.jpeg\n"
     ]
    },
    {
     "name": "stderr",
     "output_type": "stream",
     "text": [
      " 39%|███▊      | 876/2265 [53:27<1:27:48,  3.79s/it]"
     ]
    },
    {
     "name": "stdout",
     "output_type": "stream",
     "text": [
      "reverted big fuzz black trim: /Users/xieewenz/BunkerHill-CardScanToData/data/02_Deskewed/p15799coll8_3306.jpeg\n",
      "reverted big fuzz black trim: /Users/xieewenz/BunkerHill-CardScanToData/data/02_Deskewed/p15799coll8_3305.jpeg\n",
      "reverted big fuzz black trim: /Users/xieewenz/BunkerHill-CardScanToData/data/02_Deskewed/p15799coll8_3304.jpeg\n"
     ]
    },
    {
     "name": "stderr",
     "output_type": "stream",
     "text": [
      " 39%|███▉      | 882/2265 [53:55<1:35:43,  4.15s/it]"
     ]
    },
    {
     "name": "stdout",
     "output_type": "stream",
     "text": [
      "reverted big fuzz white trim: /Users/xieewenz/BunkerHill-CardScanToData/data/02_Deskewed/p15799coll8_3310.jpeg\n",
      "reverted big fuzz white trim: /Users/xieewenz/BunkerHill-CardScanToData/data/02_Deskewed/p15799coll8_3309.jpeg\n",
      "reverted big fuzz white trim: /Users/xieewenz/BunkerHill-CardScanToData/data/02_Deskewed/p15799coll8_3314.jpeg\n",
      "reverted big fuzz black trim: /Users/xieewenz/BunkerHill-CardScanToData/data/02_Deskewed/p15799coll8_3308.jpeg\n",
      "reverted big fuzz white trim: /Users/xieewenz/BunkerHill-CardScanToData/data/02_Deskewed/p15799coll8_3316.jpeg\n",
      "reverted big fuzz white trim: /Users/xieewenz/BunkerHill-CardScanToData/data/02_Deskewed/p15799coll8_3311.jpeg\n",
      "reverted big fuzz black trim: /Users/xieewenz/BunkerHill-CardScanToData/data/02_Deskewed/p15799coll8_3307.jpeg\n",
      "reverted big fuzz black trim: /Users/xieewenz/BunkerHill-CardScanToData/data/02_Deskewed/p15799coll8_3315.jpeg\n"
     ]
    },
    {
     "name": "stderr",
     "output_type": "stream",
     "text": [
      " 39%|███▉      | 885/2265 [54:46<2:50:39,  7.42s/it]"
     ]
    },
    {
     "name": "stdout",
     "output_type": "stream",
     "text": [
      "reverted big fuzz white trim: /Users/xieewenz/BunkerHill-CardScanToData/data/02_Deskewed/p15799coll8_3313.jpeg\n",
      "reverted big fuzz white trim: /Users/xieewenz/BunkerHill-CardScanToData/data/02_Deskewed/p15799coll8_3312.jpeg\n",
      "reverted big fuzz black trim: /Users/xieewenz/BunkerHill-CardScanToData/data/02_Deskewed/p15799coll8_3309.jpeg\n"
     ]
    },
    {
     "name": "stderr",
     "output_type": "stream",
     "text": [
      " 39%|███▉      | 887/2265 [55:18<3:27:58,  9.06s/it]"
     ]
    },
    {
     "name": "stdout",
     "output_type": "stream",
     "text": [
      "reverted big fuzz white trim: /Users/xieewenz/BunkerHill-CardScanToData/data/02_Deskewed/p15799coll8_3318.jpeg\n",
      "reverted big fuzz white trim: /Users/xieewenz/BunkerHill-CardScanToData/data/02_Deskewed/p15799coll8_3317.jpeg\n",
      "reverted big fuzz white trim: /Users/xieewenz/BunkerHill-CardScanToData/data/02_Deskewed/p15799coll8_3321.jpeg\n",
      "reverted big fuzz white trim: /Users/xieewenz/BunkerHill-CardScanToData/data/02_Deskewed/p15799coll8_3319.jpeg\n",
      "reverted big fuzz black trim: /Users/xieewenz/BunkerHill-CardScanToData/data/02_Deskewed/p15799coll8_3322.jpeg\n",
      "reverted big fuzz black trim: /Users/xieewenz/BunkerHill-CardScanToData/data/02_Deskewed/p15799coll8_3319.jpeg\n",
      "reverted big fuzz white trim: /Users/xieewenz/BunkerHill-CardScanToData/data/02_Deskewed/p15799coll8_3320.jpeg\n"
     ]
    },
    {
     "name": "stderr",
     "output_type": "stream",
     "text": [
      " 39%|███▉      | 889/2265 [55:59<4:24:49, 11.55s/it]"
     ]
    },
    {
     "name": "stdout",
     "output_type": "stream",
     "text": [
      "reverted big fuzz black trim: /Users/xieewenz/BunkerHill-CardScanToData/data/02_Deskewed/p15799coll8_3318.jpeg\n",
      "reverted big fuzz white trim: /Users/xieewenz/BunkerHill-CardScanToData/data/02_Deskewed/p15799coll8_3548.jpeg\n",
      "reverted big fuzz black trim: /Users/xieewenz/BunkerHill-CardScanToData/data/02_Deskewed/p15799coll8_3323.jpeg\n",
      "reverted big fuzz white trim: /Users/xieewenz/BunkerHill-CardScanToData/data/02_Deskewed/p15799coll8_3326.jpeg\n",
      "reverted big fuzz white trim: /Users/xieewenz/BunkerHill-CardScanToData/data/02_Deskewed/p15799coll8_3324.jpeg\n"
     ]
    },
    {
     "name": "stderr",
     "output_type": "stream",
     "text": [
      " 40%|███▉      | 895/2265 [56:19<2:54:32,  7.64s/it]"
     ]
    },
    {
     "name": "stdout",
     "output_type": "stream",
     "text": [
      "reverted big fuzz black trim: /Users/xieewenz/BunkerHill-CardScanToData/data/02_Deskewed/p15799coll8_3549.jpeg\n",
      "reverted big fuzz black trim: /Users/xieewenz/BunkerHill-CardScanToData/data/02_Deskewed/p15799coll8_3321.jpeg\n",
      "reverted big fuzz black trim: /Users/xieewenz/BunkerHill-CardScanToData/data/02_Deskewed/p15799coll8_3324.jpeg\n"
     ]
    },
    {
     "name": "stderr",
     "output_type": "stream",
     "text": [
      " 40%|███▉      | 902/2265 [56:36<1:51:37,  4.91s/it]"
     ]
    },
    {
     "name": "stdout",
     "output_type": "stream",
     "text": [
      "reverted big fuzz black trim: /Users/xieewenz/BunkerHill-CardScanToData/data/02_Deskewed/p15799coll8_3550.jpeg\n",
      "reverted big fuzz black trim: /Users/xieewenz/BunkerHill-CardScanToData/data/02_Deskewed/p15799coll8_3551.jpeg\n",
      "reverted big fuzz white trim: /Users/xieewenz/BunkerHill-CardScanToData/data/02_Deskewed/p15799coll8_3325.jpeg\n",
      "reverted big fuzz black trim: /Users/xieewenz/BunkerHill-CardScanToData/data/02_Deskewed/p15799coll8_3554.jpeg\n",
      "reverted big fuzz black trim: /Users/xieewenz/BunkerHill-CardScanToData/data/02_Deskewed/p15799coll8_3548.jpeg\n",
      "reverted big fuzz black trim: /Users/xieewenz/BunkerHill-CardScanToData/data/02_Deskewed/p15799coll8_3560.jpeg\n",
      "reverted big fuzz black trim: /Users/xieewenz/BunkerHill-CardScanToData/data/02_Deskewed/p15799coll8_3557.jpeg\n",
      "reverted big fuzz black trim: /Users/xieewenz/BunkerHill-CardScanToData/data/02_Deskewed/p15799coll8_3559.jpeg\n",
      "reverted big fuzz black trim: /Users/xieewenz/BunkerHill-CardScanToData/data/02_Deskewed/p15799coll8_3555.jpeg\n",
      "reverted big fuzz black trim: /Users/xieewenz/BunkerHill-CardScanToData/data/02_Deskewed/p15799coll8_3562.jpeg\n",
      "reverted big fuzz black trim: /Users/xieewenz/BunkerHill-CardScanToData/data/02_Deskewed/p15799coll8_3552.jpeg\n",
      "reverted big fuzz black trim: /Users/xieewenz/BunkerHill-CardScanToData/data/02_Deskewed/p15799coll8_3325.jpeg\n"
     ]
    },
    {
     "name": "stderr",
     "output_type": "stream",
     "text": [
      " 40%|████      | 912/2265 [57:45<1:53:12,  5.02s/it]"
     ]
    },
    {
     "name": "stdout",
     "output_type": "stream",
     "text": [
      "reverted big fuzz black trim: /Users/xieewenz/BunkerHill-CardScanToData/data/02_Deskewed/p15799coll8_3556.jpeg\n",
      "reverted big fuzz black trim: /Users/xieewenz/BunkerHill-CardScanToData/data/02_Deskewed/p15799coll8_3561.jpeg\n",
      "reverted big fuzz black trim: /Users/xieewenz/BunkerHill-CardScanToData/data/02_Deskewed/p15799coll8_3558.jpeg\n"
     ]
    },
    {
     "name": "stderr",
     "output_type": "stream",
     "text": [
      " 40%|████      | 913/2265 [58:02<2:17:18,  6.09s/it]"
     ]
    },
    {
     "name": "stdout",
     "output_type": "stream",
     "text": [
      "reverted big fuzz black trim: /Users/xieewenz/BunkerHill-CardScanToData/data/02_Deskewed/p15799coll8_3567.jpeg\n",
      "reverted big fuzz black trim: /Users/xieewenz/BunkerHill-CardScanToData/data/02_Deskewed/p15799coll8_3564.jpeg\n",
      "reverted big fuzz black trim: /Users/xieewenz/BunkerHill-CardScanToData/data/02_Deskewed/p15799coll8_3568.jpeg\n",
      "reverted big fuzz black trim: /Users/xieewenz/BunkerHill-CardScanToData/data/02_Deskewed/p15799coll8_3570.jpeg\n",
      "reverted big fuzz black trim: /Users/xieewenz/BunkerHill-CardScanToData/data/02_Deskewed/p15799coll8_3565.jpeg\n",
      "reverted big fuzz black trim: /Users/xieewenz/BunkerHill-CardScanToData/data/02_Deskewed/p15799coll8_3572.jpeg\n",
      "reverted big fuzz black trim: /Users/xieewenz/BunkerHill-CardScanToData/data/02_Deskewed/p15799coll8_3569.jpeg\n",
      "reverted big fuzz black trim: /Users/xieewenz/BunkerHill-CardScanToData/data/02_Deskewed/p15799coll8_3574.jpeg\n",
      "reverted big fuzz black trim: /Users/xieewenz/BunkerHill-CardScanToData/data/02_Deskewed/p15799coll8_3578.jpeg\n",
      "reverted big fuzz black trim: /Users/xieewenz/BunkerHill-CardScanToData/data/02_Deskewed/p15799coll8_3566.jpeg\n",
      "reverted big fuzz black trim: /Users/xieewenz/BunkerHill-CardScanToData/data/02_Deskewed/p15799coll8_3571.jpeg\n",
      "reverted big fuzz white trim: /Users/xieewenz/BunkerHill-CardScanToData/data/02_Deskewed/p15799coll8_3580.jpeg\n",
      "reverted big fuzz black trim: /Users/xieewenz/BunkerHill-CardScanToData/data/02_Deskewed/p15799coll8_3573.jpeg\n",
      "reverted big fuzz black trim: /Users/xieewenz/BunkerHill-CardScanToData/data/02_Deskewed/p15799coll8_3581.jpeg\n"
     ]
    },
    {
     "name": "stderr",
     "output_type": "stream",
     "text": [
      " 41%|████      | 920/2265 [59:11<2:54:06,  7.77s/it]"
     ]
    },
    {
     "name": "stdout",
     "output_type": "stream",
     "text": [
      "reverted big fuzz black trim: /Users/xieewenz/BunkerHill-CardScanToData/data/02_Deskewed/p15799coll8_3563.jpeg\n"
     ]
    },
    {
     "name": "stderr",
     "output_type": "stream",
     "text": [
      " 41%|████      | 932/2265 [59:12<1:22:32,  3.72s/it]"
     ]
    },
    {
     "name": "stdout",
     "output_type": "stream",
     "text": [
      "reverted big fuzz black trim: /Users/xieewenz/BunkerHill-CardScanToData/data/02_Deskewed/p15799coll8_3575.jpeg\n",
      "reverted big fuzz black trim: /Users/xieewenz/BunkerHill-CardScanToData/data/02_Deskewed/p15799coll8_3577.jpeg\n",
      "reverted big fuzz black trim: /Users/xieewenz/BunkerHill-CardScanToData/data/02_Deskewed/p15799coll8_3582.jpeg\n",
      "reverted big fuzz black trim: /Users/xieewenz/BunkerHill-CardScanToData/data/02_Deskewed/p15799coll8_3584.jpeg\n",
      "reverted big fuzz black trim: /Users/xieewenz/BunkerHill-CardScanToData/data/02_Deskewed/p15799coll8_3579.jpeg\n",
      "reverted big fuzz black trim: /Users/xieewenz/BunkerHill-CardScanToData/data/02_Deskewed/p15799coll8_3583.jpeg\n",
      "reverted big fuzz black trim: /Users/xieewenz/BunkerHill-CardScanToData/data/02_Deskewed/p15799coll8_3576.jpeg\n",
      "reverted big fuzz black trim: /Users/xieewenz/BunkerHill-CardScanToData/data/02_Deskewed/p15799coll8_3591.jpeg\n"
     ]
    },
    {
     "name": "stderr",
     "output_type": "stream",
     "text": [
      " 41%|████      | 933/2265 [1:00:08<2:31:40,  6.83s/it]"
     ]
    },
    {
     "name": "stdout",
     "output_type": "stream",
     "text": [
      "reverted big fuzz white trim: /Users/xieewenz/BunkerHill-CardScanToData/data/02_Deskewed/p15799coll8_3593.jpeg\n",
      "reverted big fuzz black trim: /Users/xieewenz/BunkerHill-CardScanToData/data/02_Deskewed/p15799coll8_3586.jpeg\n",
      "reverted big fuzz black trim: /Users/xieewenz/BunkerHill-CardScanToData/data/02_Deskewed/p15799coll8_3580.jpeg\n"
     ]
    },
    {
     "name": "stderr",
     "output_type": "stream",
     "text": [
      " 41%|████▏     | 937/2265 [1:00:16<2:04:35,  5.63s/it]"
     ]
    },
    {
     "name": "stdout",
     "output_type": "stream",
     "text": [
      "reverted big fuzz black trim: /Users/xieewenz/BunkerHill-CardScanToData/data/02_Deskewed/p15799coll8_3595.jpeg\n",
      "reverted big fuzz white trim: /Users/xieewenz/BunkerHill-CardScanToData/data/02_Deskewed/p15799coll8_3597.jpeg\n"
     ]
    },
    {
     "name": "stderr",
     "output_type": "stream",
     "text": [
      " 42%|████▏     | 942/2265 [1:00:23<1:34:15,  4.27s/it]"
     ]
    },
    {
     "name": "stdout",
     "output_type": "stream",
     "text": [
      "reverted big fuzz black trim: /Users/xieewenz/BunkerHill-CardScanToData/data/02_Deskewed/p15799coll8_3585.jpeg\n",
      "reverted big fuzz black trim: /Users/xieewenz/BunkerHill-CardScanToData/data/02_Deskewed/p15799coll8_3594.jpeg\n",
      "reverted big fuzz black trim: /Users/xieewenz/BunkerHill-CardScanToData/data/02_Deskewed/p15799coll8_3590.jpeg\n",
      "reverted big fuzz black trim: /Users/xieewenz/BunkerHill-CardScanToData/data/02_Deskewed/p15799coll8_3592.jpeg\n",
      "reverted big fuzz black trim: /Users/xieewenz/BunkerHill-CardScanToData/data/02_Deskewed/p15799coll8_3600.jpeg\n",
      "reverted big fuzz black trim: /Users/xieewenz/BunkerHill-CardScanToData/data/02_Deskewed/p15799coll8_3599.jpeg\n",
      "reverted big fuzz white trim: /Users/xieewenz/BunkerHill-CardScanToData/data/02_Deskewed/p15799coll8_3601.jpeg\n",
      "reverted big fuzz black trim: /Users/xieewenz/BunkerHill-CardScanToData/data/02_Deskewed/p15799coll8_3588.jpeg\n"
     ]
    },
    {
     "name": "stderr",
     "output_type": "stream",
     "text": [
      " 42%|████▏     | 946/2265 [1:01:09<2:13:22,  6.07s/it]"
     ]
    },
    {
     "name": "stdout",
     "output_type": "stream",
     "text": [
      "reverted big fuzz black trim: /Users/xieewenz/BunkerHill-CardScanToData/data/02_Deskewed/p15799coll8_3589.jpeg\n",
      "reverted big fuzz white trim: /Users/xieewenz/BunkerHill-CardScanToData/data/02_Deskewed/p15799coll8_3608.jpeg\n",
      "reverted big fuzz white trim: /Users/xieewenz/BunkerHill-CardScanToData/data/02_Deskewed/p15799coll8_3596.jpeg\n",
      "reverted big fuzz black trim: /Users/xieewenz/BunkerHill-CardScanToData/data/02_Deskewed/p15799coll8_3598.jpeg\n",
      "reverted big fuzz white trim: /Users/xieewenz/BunkerHill-CardScanToData/data/02_Deskewed/p15799coll8_3602.jpeg\n",
      "reverted big fuzz white trim: /Users/xieewenz/BunkerHill-CardScanToData/data/02_Deskewed/p15799coll8_3609.jpeg\n",
      "reverted big fuzz white trim: /Users/xieewenz/BunkerHill-CardScanToData/data/02_Deskewed/p15799coll8_3603.jpeg\n",
      "reverted big fuzz white trim: /Users/xieewenz/BunkerHill-CardScanToData/data/02_Deskewed/p15799coll8_3604.jpeg\n",
      "reverted big fuzz white trim: /Users/xieewenz/BunkerHill-CardScanToData/data/02_Deskewed/p15799coll8_3607.jpeg\n",
      "reverted big fuzz white trim: /Users/xieewenz/BunkerHill-CardScanToData/data/02_Deskewed/p15799coll8_3612.jpeg\n",
      "reverted big fuzz white trim: /Users/xieewenz/BunkerHill-CardScanToData/data/02_Deskewed/p15799coll8_3611.jpeg\n",
      "reverted big fuzz white trim: /Users/xieewenz/BunkerHill-CardScanToData/data/02_Deskewed/p15799coll8_3613.jpeg\n",
      "reverted big fuzz white trim: /Users/xieewenz/BunkerHill-CardScanToData/data/02_Deskewed/p15799coll8_3615.jpeg\n",
      "reverted big fuzz white trim: /Users/xieewenz/BunkerHill-CardScanToData/data/02_Deskewed/p15799coll8_3616.jpeg\n",
      "reverted big fuzz white trim: /Users/xieewenz/BunkerHill-CardScanToData/data/02_Deskewed/p15799coll8_3618.jpeg\n",
      "reverted big fuzz white trim: /Users/xieewenz/BunkerHill-CardScanToData/data/02_Deskewed/p15799coll8_3617.jpeg\n",
      "reverted big fuzz black trim: /Users/xieewenz/BunkerHill-CardScanToData/data/02_Deskewed/p15799coll8_3596.jpeg\n"
     ]
    },
    {
     "name": "stderr",
     "output_type": "stream",
     "text": [
      " 42%|████▏     | 953/2265 [1:02:25<3:02:25,  8.34s/it]"
     ]
    },
    {
     "name": "stdout",
     "output_type": "stream",
     "text": [
      "reverted big fuzz white trim: /Users/xieewenz/BunkerHill-CardScanToData/data/02_Deskewed/p15799coll8_3619.jpeg\n",
      "reverted big fuzz black trim: /Users/xieewenz/BunkerHill-CardScanToData/data/02_Deskewed/p15799coll8_3618.jpeg\n",
      "reverted big fuzz white trim: /Users/xieewenz/BunkerHill-CardScanToData/data/02_Deskewed/p15799coll8_3620.jpeg\n",
      "reverted big fuzz white trim: /Users/xieewenz/BunkerHill-CardScanToData/data/02_Deskewed/p15799coll8_3622.jpeg\n",
      "reverted big fuzz white trim: /Users/xieewenz/BunkerHill-CardScanToData/data/02_Deskewed/p15799coll8_3614.jpeg\n",
      "reverted big fuzz black trim: /Users/xieewenz/BunkerHill-CardScanToData/data/02_Deskewed/p15799coll8_3622.jpeg\n"
     ]
    },
    {
     "name": "stderr",
     "output_type": "stream",
     "text": [
      " 43%|████▎     | 977/2265 [1:03:34<1:29:55,  4.19s/it]"
     ]
    },
    {
     "name": "stdout",
     "output_type": "stream",
     "text": [
      "reverted big fuzz black trim: /Users/xieewenz/BunkerHill-CardScanToData/data/02_Deskewed/p15799coll8_3614.jpeg\n",
      "reverted big fuzz white trim: /Users/xieewenz/BunkerHill-CardScanToData/data/02_Deskewed/p15799coll8_3625.jpeg\n",
      "reverted big fuzz white trim: /Users/xieewenz/BunkerHill-CardScanToData/data/02_Deskewed/p15799coll8_3623.jpeg\n",
      "reverted big fuzz white trim: /Users/xieewenz/BunkerHill-CardScanToData/data/02_Deskewed/p15799coll8_3621.jpeg\n"
     ]
    },
    {
     "name": "stderr",
     "output_type": "stream",
     "text": [
      " 43%|████▎     | 978/2265 [1:03:59<1:53:19,  5.28s/it]"
     ]
    },
    {
     "name": "stdout",
     "output_type": "stream",
     "text": [
      "reverted big fuzz white trim: /Users/xieewenz/BunkerHill-CardScanToData/data/02_Deskewed/p15799coll8_3626.jpeg\n"
     ]
    },
    {
     "name": "stderr",
     "output_type": "stream",
     "text": [
      " 43%|████▎     | 980/2265 [1:04:02<1:42:23,  4.78s/it]"
     ]
    },
    {
     "name": "stdout",
     "output_type": "stream",
     "text": [
      "reverted big fuzz white trim: /Users/xieewenz/BunkerHill-CardScanToData/data/02_Deskewed/p15799coll8_3628.jpeg\n",
      "reverted big fuzz white trim: /Users/xieewenz/BunkerHill-CardScanToData/data/02_Deskewed/p15799coll8_3624.jpeg\n"
     ]
    },
    {
     "name": "stderr",
     "output_type": "stream",
     "text": [
      " 43%|████▎     | 980/2265 [1:04:12<1:42:23,  4.78s/it]"
     ]
    },
    {
     "name": "stdout",
     "output_type": "stream",
     "text": [
      "reverted big fuzz black trim: /Users/xieewenz/BunkerHill-CardScanToData/data/02_Deskewed/p15799coll8_3632.jpeg\n"
     ]
    },
    {
     "name": "stderr",
     "output_type": "stream",
     "text": [
      " 43%|████▎     | 981/2265 [1:04:31<2:27:52,  6.91s/it]"
     ]
    },
    {
     "name": "stdout",
     "output_type": "stream",
     "text": [
      "reverted big fuzz white trim: /Users/xieewenz/BunkerHill-CardScanToData/data/02_Deskewed/p15799coll8_3630.jpeg\n",
      "reverted big fuzz white trim: /Users/xieewenz/BunkerHill-CardScanToData/data/02_Deskewed/p15799coll8_3627.jpeg\n"
     ]
    },
    {
     "name": "stderr",
     "output_type": "stream",
     "text": [
      " 43%|████▎     | 984/2265 [1:04:35<1:54:11,  5.35s/it]"
     ]
    },
    {
     "name": "stdout",
     "output_type": "stream",
     "text": [
      "reverted big fuzz white trim: /Users/xieewenz/BunkerHill-CardScanToData/data/02_Deskewed/p15799coll8_3631.jpeg\n"
     ]
    },
    {
     "name": "stderr",
     "output_type": "stream",
     "text": [
      " 43%|████▎     | 985/2265 [1:04:39<1:52:19,  5.27s/it]"
     ]
    },
    {
     "name": "stdout",
     "output_type": "stream",
     "text": [
      "reverted big fuzz white trim: /Users/xieewenz/BunkerHill-CardScanToData/data/02_Deskewed/p15799coll8_3634.jpeg\n",
      "reverted big fuzz white trim: /Users/xieewenz/BunkerHill-CardScanToData/data/02_Deskewed/p15799coll8_3635.jpeg\n",
      "reverted big fuzz white trim: /Users/xieewenz/BunkerHill-CardScanToData/data/02_Deskewed/p15799coll8_3629.jpeg\n",
      "reverted big fuzz white trim: /Users/xieewenz/BunkerHill-CardScanToData/data/02_Deskewed/p15799coll8_3636.jpeg\n",
      "reverted big fuzz white trim: /Users/xieewenz/BunkerHill-CardScanToData/data/02_Deskewed/p15799coll8_3637.jpeg\n",
      "reverted big fuzz white trim: /Users/xieewenz/BunkerHill-CardScanToData/data/02_Deskewed/p15799coll8_3633.jpeg\n"
     ]
    },
    {
     "name": "stderr",
     "output_type": "stream",
     "text": [
      " 44%|████▍     | 993/2265 [1:05:32<1:47:29,  5.07s/it]"
     ]
    },
    {
     "name": "stdout",
     "output_type": "stream",
     "text": [
      "reverted big fuzz white trim: /Users/xieewenz/BunkerHill-CardScanToData/data/02_Deskewed/p15799coll8_3638.jpeg\n",
      "reverted big fuzz black trim: /Users/xieewenz/BunkerHill-CardScanToData/data/02_Deskewed/p15799coll8_3641.jpeg\n",
      "reverted big fuzz white trim: /Users/xieewenz/BunkerHill-CardScanToData/data/02_Deskewed/p15799coll8_3644.jpeg\n"
     ]
    },
    {
     "name": "stderr",
     "output_type": "stream",
     "text": [
      " 44%|████▍     | 995/2265 [1:05:53<2:09:51,  6.13s/it]"
     ]
    },
    {
     "name": "stdout",
     "output_type": "stream",
     "text": [
      "reverted big fuzz white trim: /Users/xieewenz/BunkerHill-CardScanToData/data/02_Deskewed/p15799coll8_3640.jpeg\n",
      "reverted big fuzz white trim: /Users/xieewenz/BunkerHill-CardScanToData/data/02_Deskewed/p15799coll8_3645.jpeg\n",
      "reverted big fuzz white trim: /Users/xieewenz/BunkerHill-CardScanToData/data/02_Deskewed/p15799coll8_3639.jpeg\n"
     ]
    },
    {
     "name": "stderr",
     "output_type": "stream",
     "text": [
      " 44%|████▍     | 996/2265 [1:05:58<2:05:06,  5.92s/it]"
     ]
    },
    {
     "name": "stdout",
     "output_type": "stream",
     "text": [
      "reverted big fuzz white trim: /Users/xieewenz/BunkerHill-CardScanToData/data/02_Deskewed/p15799coll8_3643.jpeg\n"
     ]
    },
    {
     "name": "stderr",
     "output_type": "stream",
     "text": [
      " 44%|████▍     | 997/2265 [1:06:13<2:33:10,  7.25s/it]"
     ]
    },
    {
     "name": "stdout",
     "output_type": "stream",
     "text": [
      "reverted big fuzz white trim: /Users/xieewenz/BunkerHill-CardScanToData/data/02_Deskewed/p15799coll8_3647.jpeg\n",
      "reverted big fuzz white trim: /Users/xieewenz/BunkerHill-CardScanToData/data/02_Deskewed/p15799coll8_3648.jpeg\n",
      "reverted big fuzz white trim: /Users/xieewenz/BunkerHill-CardScanToData/data/02_Deskewed/p15799coll8_3646.jpeg\n",
      "reverted big fuzz white trim: /Users/xieewenz/BunkerHill-CardScanToData/data/02_Deskewed/p15799coll8_3651.jpeg\n",
      "reverted big fuzz white trim: /Users/xieewenz/BunkerHill-CardScanToData/data/02_Deskewed/p15799coll8_3652.jpeg\n",
      "reverted big fuzz white trim: /Users/xieewenz/BunkerHill-CardScanToData/data/02_Deskewed/p15799coll8_3654.jpeg\n",
      "reverted big fuzz white trim: /Users/xieewenz/BunkerHill-CardScanToData/data/02_Deskewed/p15799coll8_3642.jpeg\n"
     ]
    },
    {
     "name": "stderr",
     "output_type": "stream",
     "text": [
      " 44%|████▍     | 999/2265 [1:06:58<4:08:29, 11.78s/it]"
     ]
    },
    {
     "name": "stdout",
     "output_type": "stream",
     "text": [
      "reverted big fuzz white trim: /Users/xieewenz/BunkerHill-CardScanToData/data/02_Deskewed/p15799coll8_3655.jpeg\n",
      "reverted big fuzz black trim: /Users/xieewenz/BunkerHill-CardScanToData/data/02_Deskewed/p15799coll8_3650.jpeg\n"
     ]
    },
    {
     "name": "stderr",
     "output_type": "stream",
     "text": [
      " 44%|████▍     | 1004/2265 [1:07:10<2:26:44,  6.98s/it]"
     ]
    },
    {
     "name": "stdout",
     "output_type": "stream",
     "text": [
      "reverted big fuzz white trim: /Users/xieewenz/BunkerHill-CardScanToData/data/02_Deskewed/p15799coll8_3653.jpeg\n"
     ]
    },
    {
     "name": "stderr",
     "output_type": "stream",
     "text": [
      " 45%|████▍     | 1010/2265 [1:07:20<1:34:30,  4.52s/it]"
     ]
    },
    {
     "name": "stdout",
     "output_type": "stream",
     "text": [
      "reverted big fuzz white trim: /Users/xieewenz/BunkerHill-CardScanToData/data/02_Deskewed/p15799coll8_3657.jpeg\n",
      "reverted big fuzz white trim: /Users/xieewenz/BunkerHill-CardScanToData/data/02_Deskewed/p15799coll8_3662.jpeg\n",
      "reverted big fuzz white trim: /Users/xieewenz/BunkerHill-CardScanToData/data/02_Deskewed/p15799coll8_3659.jpeg\n",
      "reverted big fuzz white trim: /Users/xieewenz/BunkerHill-CardScanToData/data/02_Deskewed/p15799coll8_3661.jpeg\n",
      "reverted big fuzz white trim: /Users/xieewenz/BunkerHill-CardScanToData/data/02_Deskewed/p15799coll8_3660.jpeg\n"
     ]
    },
    {
     "name": "stderr",
     "output_type": "stream",
     "text": [
      " 45%|████▍     | 1011/2265 [1:07:50<2:26:54,  7.03s/it]"
     ]
    },
    {
     "name": "stdout",
     "output_type": "stream",
     "text": [
      "reverted big fuzz white trim: /Users/xieewenz/BunkerHill-CardScanToData/data/02_Deskewed/p15799coll8_3665.jpeg\n",
      "reverted big fuzz white trim: /Users/xieewenz/BunkerHill-CardScanToData/data/02_Deskewed/p15799coll8_3666.jpeg\n",
      "reverted big fuzz white trim: /Users/xieewenz/BunkerHill-CardScanToData/data/02_Deskewed/p15799coll8_3668.jpeg\n",
      "reverted big fuzz white trim: /Users/xieewenz/BunkerHill-CardScanToData/data/02_Deskewed/p15799coll8_3656.jpeg\n"
     ]
    },
    {
     "name": "stderr",
     "output_type": "stream",
     "text": [
      " 45%|████▍     | 1013/2265 [1:08:20<3:04:08,  8.82s/it]"
     ]
    },
    {
     "name": "stdout",
     "output_type": "stream",
     "text": [
      "reverted big fuzz white trim: /Users/xieewenz/BunkerHill-CardScanToData/data/02_Deskewed/p15799coll8_3667.jpeg\n",
      "reverted big fuzz white trim: /Users/xieewenz/BunkerHill-CardScanToData/data/02_Deskewed/p15799coll8_3658.jpeg\n"
     ]
    },
    {
     "name": "stderr",
     "output_type": "stream",
     "text": [
      " 45%|████▍     | 1015/2265 [1:08:39<3:07:05,  8.98s/it]"
     ]
    },
    {
     "name": "stdout",
     "output_type": "stream",
     "text": [
      "reverted big fuzz white trim: /Users/xieewenz/BunkerHill-CardScanToData/data/02_Deskewed/p15799coll8_3672.jpeg\n",
      "reverted big fuzz white trim: /Users/xieewenz/BunkerHill-CardScanToData/data/02_Deskewed/p15799coll8_3673.jpeg\n",
      "reverted big fuzz white trim: /Users/xieewenz/BunkerHill-CardScanToData/data/02_Deskewed/p15799coll8_3664.jpeg\n",
      "reverted big fuzz white trim: /Users/xieewenz/BunkerHill-CardScanToData/data/02_Deskewed/p15799coll8_3671.jpeg\n",
      "reverted big fuzz white trim: /Users/xieewenz/BunkerHill-CardScanToData/data/02_Deskewed/p15799coll8_3670.jpeg\n",
      "reverted big fuzz white trim: /Users/xieewenz/BunkerHill-CardScanToData/data/02_Deskewed/p15799coll8_3663.jpeg\n",
      "reverted big fuzz white trim: /Users/xieewenz/BunkerHill-CardScanToData/data/02_Deskewed/p15799coll8_3669.jpeg\n",
      "reverted big fuzz white trim: /Users/xieewenz/BunkerHill-CardScanToData/data/02_Deskewed/p15799coll8_3678.jpeg\n",
      "reverted big fuzz white trim: /Users/xieewenz/BunkerHill-CardScanToData/data/02_Deskewed/p15799coll8_3679.jpeg\n"
     ]
    },
    {
     "name": "stderr",
     "output_type": "stream",
     "text": [
      " 45%|████▌     | 1020/2265 [1:09:18<2:56:11,  8.49s/it]"
     ]
    },
    {
     "name": "stdout",
     "output_type": "stream",
     "text": [
      "reverted big fuzz white trim: /Users/xieewenz/BunkerHill-CardScanToData/data/02_Deskewed/p15799coll8_3676.jpeg\n"
     ]
    },
    {
     "name": "stderr",
     "output_type": "stream",
     "text": [
      " 45%|████▌     | 1021/2265 [1:09:24<2:48:09,  8.11s/it]"
     ]
    },
    {
     "name": "stdout",
     "output_type": "stream",
     "text": [
      "reverted big fuzz white trim: /Users/xieewenz/BunkerHill-CardScanToData/data/02_Deskewed/p15799coll8_3682.jpeg\n",
      "reverted big fuzz white trim: /Users/xieewenz/BunkerHill-CardScanToData/data/02_Deskewed/p15799coll8_3674.jpeg\n",
      "reverted big fuzz white trim: /Users/xieewenz/BunkerHill-CardScanToData/data/02_Deskewed/p15799coll8_3681.jpeg\n",
      "reverted big fuzz black trim: /Users/xieewenz/BunkerHill-CardScanToData/data/02_Deskewed/p15799coll8_3679.jpeg\n",
      "reverted big fuzz white trim: /Users/xieewenz/BunkerHill-CardScanToData/data/02_Deskewed/p15799coll8_3675.jpeg\n",
      "reverted big fuzz white trim: /Users/xieewenz/BunkerHill-CardScanToData/data/02_Deskewed/p15799coll8_3683.jpeg\n",
      "reverted big fuzz white trim: /Users/xieewenz/BunkerHill-CardScanToData/data/02_Deskewed/p15799coll8_3677.jpeg\n",
      "reverted big fuzz white trim: /Users/xieewenz/BunkerHill-CardScanToData/data/02_Deskewed/p15799coll8_3680.jpeg\n",
      "reverted big fuzz black trim: /Users/xieewenz/BunkerHill-CardScanToData/data/02_Deskewed/p15799coll8_3674.jpeg\n",
      "reverted big fuzz black trim: /Users/xieewenz/BunkerHill-CardScanToData/data/02_Deskewed/p15799coll8_3675.jpeg\n",
      "reverted big fuzz white trim: /Users/xieewenz/BunkerHill-CardScanToData/data/02_Deskewed/p15799coll8_3686.jpeg\n",
      "reverted big fuzz white trim: /Users/xieewenz/BunkerHill-CardScanToData/data/02_Deskewed/p15799coll8_3685.jpeg\n",
      "reverted big fuzz black trim: /Users/xieewenz/BunkerHill-CardScanToData/data/02_Deskewed/p15799coll8_3683.jpeg\n",
      "reverted big fuzz white trim: /Users/xieewenz/BunkerHill-CardScanToData/data/02_Deskewed/p15799coll8_3689.jpeg\n"
     ]
    },
    {
     "name": "stderr",
     "output_type": "stream",
     "text": [
      " 46%|████▌     | 1040/2265 [1:10:45<1:27:37,  4.29s/it]"
     ]
    },
    {
     "name": "stdout",
     "output_type": "stream",
     "text": [
      "reverted big fuzz white trim: /Users/xieewenz/BunkerHill-CardScanToData/data/02_Deskewed/p15799coll8_3684.jpeg\n",
      "reverted big fuzz white trim: /Users/xieewenz/BunkerHill-CardScanToData/data/02_Deskewed/p15799coll8_3688.jpeg\n",
      "reverted big fuzz white trim: /Users/xieewenz/BunkerHill-CardScanToData/data/02_Deskewed/p15799coll8_3693.jpeg\n",
      "reverted big fuzz white trim: /Users/xieewenz/BunkerHill-CardScanToData/data/02_Deskewed/p15799coll8_3694.jpeg\n"
     ]
    },
    {
     "name": "stderr",
     "output_type": "stream",
     "text": [
      " 46%|████▌     | 1041/2265 [1:11:03<1:50:30,  5.42s/it]"
     ]
    },
    {
     "name": "stdout",
     "output_type": "stream",
     "text": [
      "reverted big fuzz white trim: /Users/xieewenz/BunkerHill-CardScanToData/data/02_Deskewed/p15799coll8_3687.jpeg\n",
      "reverted big fuzz white trim: /Users/xieewenz/BunkerHill-CardScanToData/data/02_Deskewed/p15799coll8_3690.jpeg\n"
     ]
    },
    {
     "name": "stderr",
     "output_type": "stream",
     "text": [
      " 46%|████▌     | 1043/2265 [1:11:22<2:06:45,  6.22s/it]"
     ]
    },
    {
     "name": "stdout",
     "output_type": "stream",
     "text": [
      "reverted big fuzz white trim: /Users/xieewenz/BunkerHill-CardScanToData/data/02_Deskewed/p15799coll8_3695.jpeg\n",
      "reverted big fuzz white trim: /Users/xieewenz/BunkerHill-CardScanToData/data/02_Deskewed/p15799coll8_3700.jpeg\n"
     ]
    },
    {
     "name": "stderr",
     "output_type": "stream",
     "text": [
      " 46%|████▌     | 1044/2265 [1:11:27<2:04:50,  6.13s/it]"
     ]
    },
    {
     "name": "stdout",
     "output_type": "stream",
     "text": [
      "reverted big fuzz white trim: /Users/xieewenz/BunkerHill-CardScanToData/data/02_Deskewed/p15799coll8_3691.jpeg\n",
      "reverted big fuzz black trim: /Users/xieewenz/BunkerHill-CardScanToData/data/02_Deskewed/p15799coll8_3691.jpeg\n"
     ]
    },
    {
     "name": "stderr",
     "output_type": "stream",
     "text": [
      " 46%|████▋     | 1048/2265 [1:11:29<1:16:01,  3.75s/it]"
     ]
    },
    {
     "name": "stdout",
     "output_type": "stream",
     "text": [
      "reverted big fuzz white trim: /Users/xieewenz/BunkerHill-CardScanToData/data/02_Deskewed/p15799coll8_3696.jpeg\n",
      "reverted big fuzz black trim: /Users/xieewenz/BunkerHill-CardScanToData/data/02_Deskewed/p15799coll8_3703.jpeg\n",
      "reverted big fuzz black trim: /Users/xieewenz/BunkerHill-CardScanToData/data/02_Deskewed/p15799coll8_3701.jpeg\n",
      "reverted big fuzz white trim: /Users/xieewenz/BunkerHill-CardScanToData/data/02_Deskewed/p15799coll8_3692.jpeg\n",
      "reverted big fuzz white trim: /Users/xieewenz/BunkerHill-CardScanToData/data/02_Deskewed/p15799coll8_3697.jpeg\n",
      "reverted big fuzz black trim: /Users/xieewenz/BunkerHill-CardScanToData/data/02_Deskewed/p15799coll8_3702.jpeg\n",
      "reverted big fuzz black trim: /Users/xieewenz/BunkerHill-CardScanToData/data/02_Deskewed/p15799coll8_3699.jpeg\n",
      "reverted big fuzz black trim: /Users/xieewenz/BunkerHill-CardScanToData/data/02_Deskewed/p15799coll8_3705.jpeg\n"
     ]
    },
    {
     "name": "stderr",
     "output_type": "stream",
     "text": [
      " 46%|████▋     | 1049/2265 [1:12:10<2:54:22,  8.60s/it]"
     ]
    },
    {
     "name": "stdout",
     "output_type": "stream",
     "text": [
      "reverted big fuzz black trim: /Users/xieewenz/BunkerHill-CardScanToData/data/02_Deskewed/p15799coll8_3708.jpeg\n",
      "reverted big fuzz white trim: /Users/xieewenz/BunkerHill-CardScanToData/data/02_Deskewed/p15799coll8_3709.jpeg\n",
      "reverted big fuzz white trim: /Users/xieewenz/BunkerHill-CardScanToData/data/02_Deskewed/p15799coll8_3707.jpeg\n",
      "reverted big fuzz black trim: /Users/xieewenz/BunkerHill-CardScanToData/data/02_Deskewed/p15799coll8_3698.jpeg\n"
     ]
    },
    {
     "name": "stderr",
     "output_type": "stream",
     "text": [
      " 47%|████▋     | 1055/2265 [1:12:24<1:47:26,  5.33s/it]"
     ]
    },
    {
     "name": "stdout",
     "output_type": "stream",
     "text": [
      "reverted big fuzz black trim: /Users/xieewenz/BunkerHill-CardScanToData/data/02_Deskewed/p15799coll8_3710.jpeg\n",
      "reverted big fuzz black trim: /Users/xieewenz/BunkerHill-CardScanToData/data/02_Deskewed/p15799coll8_3711.jpeg\n",
      "reverted big fuzz black trim: /Users/xieewenz/BunkerHill-CardScanToData/data/02_Deskewed/p15799coll8_3706.jpeg\n",
      "reverted big fuzz white trim: /Users/xieewenz/BunkerHill-CardScanToData/data/02_Deskewed/p15799coll8_3716.jpeg\n",
      "reverted big fuzz black trim: /Users/xieewenz/BunkerHill-CardScanToData/data/02_Deskewed/p15799coll8_3707.jpeg\n",
      "reverted big fuzz black trim: /Users/xieewenz/BunkerHill-CardScanToData/data/02_Deskewed/p15799coll8_3712.jpeg\n",
      "reverted big fuzz black trim: /Users/xieewenz/BunkerHill-CardScanToData/data/02_Deskewed/p15799coll8_3713.jpeg\n",
      "reverted big fuzz white trim: /Users/xieewenz/BunkerHill-CardScanToData/data/02_Deskewed/p15799coll8_3719.jpeg\n",
      "reverted big fuzz black trim: /Users/xieewenz/BunkerHill-CardScanToData/data/02_Deskewed/p15799coll8_3704.jpeg\n"
     ]
    },
    {
     "name": "stderr",
     "output_type": "stream",
     "text": [
      " 47%|████▋     | 1061/2265 [1:12:48<1:35:53,  4.78s/it]"
     ]
    },
    {
     "name": "stdout",
     "output_type": "stream",
     "text": [
      "reverted big fuzz white trim: /Users/xieewenz/BunkerHill-CardScanToData/data/02_Deskewed/p15799coll8_3715.jpeg\n",
      "reverted big fuzz white trim: /Users/xieewenz/BunkerHill-CardScanToData/data/02_Deskewed/p15799coll8_3717.jpeg\n",
      "reverted big fuzz white trim: /Users/xieewenz/BunkerHill-CardScanToData/data/02_Deskewed/p15799coll8_3720.jpeg\n",
      "reverted big fuzz white trim: /Users/xieewenz/BunkerHill-CardScanToData/data/02_Deskewed/p15799coll8_3718.jpeg\n",
      "reverted big fuzz white trim: /Users/xieewenz/BunkerHill-CardScanToData/data/02_Deskewed/p15799coll8_3714.jpeg\n",
      "reverted big fuzz white trim: /Users/xieewenz/BunkerHill-CardScanToData/data/02_Deskewed/p15799coll8_3722.jpeg\n",
      "reverted big fuzz white trim: /Users/xieewenz/BunkerHill-CardScanToData/data/02_Deskewed/p15799coll8_3721.jpeg\n",
      "reverted big fuzz white trim: /Users/xieewenz/BunkerHill-CardScanToData/data/02_Deskewed/p15799coll8_3723.jpeg\n",
      "reverted big fuzz white trim: /Users/xieewenz/BunkerHill-CardScanToData/data/02_Deskewed/p15799coll8_3726.jpeg\n"
     ]
    },
    {
     "name": "stderr",
     "output_type": "stream",
     "text": [
      " 47%|████▋     | 1071/2265 [1:13:47<1:45:29,  5.30s/it]"
     ]
    },
    {
     "name": "stdout",
     "output_type": "stream",
     "text": [
      "reverted big fuzz white trim: /Users/xieewenz/BunkerHill-CardScanToData/data/02_Deskewed/p15799coll8_3724.jpeg\n"
     ]
    },
    {
     "name": "stderr",
     "output_type": "stream",
     "text": [
      " 48%|████▊     | 1079/2265 [1:14:04<1:21:44,  4.14s/it]"
     ]
    },
    {
     "name": "stdout",
     "output_type": "stream",
     "text": [
      "reverted big fuzz white trim: /Users/xieewenz/BunkerHill-CardScanToData/data/02_Deskewed/p15799coll8_3729.jpeg\n",
      "reverted big fuzz white trim: /Users/xieewenz/BunkerHill-CardScanToData/data/02_Deskewed/p15799coll8_3725.jpeg\n",
      "reverted big fuzz white trim: /Users/xieewenz/BunkerHill-CardScanToData/data/02_Deskewed/p15799coll8_3727.jpeg\n",
      "reverted big fuzz white trim: /Users/xieewenz/BunkerHill-CardScanToData/data/02_Deskewed/p15799coll8_3733.jpeg\n"
     ]
    },
    {
     "name": "stderr",
     "output_type": "stream",
     "text": [
      " 48%|████▊     | 1082/2265 [1:14:34<1:46:58,  5.43s/it]"
     ]
    },
    {
     "name": "stdout",
     "output_type": "stream",
     "text": [
      "reverted big fuzz white trim: /Users/xieewenz/BunkerHill-CardScanToData/data/02_Deskewed/p15799coll8_3732.jpeg\n",
      "reverted big fuzz white trim: /Users/xieewenz/BunkerHill-CardScanToData/data/02_Deskewed/p15799coll8_3735.jpeg\n",
      "reverted big fuzz white trim: /Users/xieewenz/BunkerHill-CardScanToData/data/02_Deskewed/p15799coll8_3734.jpeg\n",
      "reverted big fuzz white trim: /Users/xieewenz/BunkerHill-CardScanToData/data/02_Deskewed/p15799coll8_3731.jpeg\n",
      "reverted big fuzz white trim: /Users/xieewenz/BunkerHill-CardScanToData/data/02_Deskewed/p15799coll8_3730.jpeg\n",
      "reverted big fuzz white trim: /Users/xieewenz/BunkerHill-CardScanToData/data/02_Deskewed/p15799coll8_3736.jpeg\n",
      "reverted big fuzz black trim: /Users/xieewenz/BunkerHill-CardScanToData/data/02_Deskewed/p15799coll8_3746.jpeg\n",
      "reverted big fuzz white trim: /Users/xieewenz/BunkerHill-CardScanToData/data/02_Deskewed/p15799coll8_3748.jpeg\n",
      "reverted big fuzz black trim: /Users/xieewenz/BunkerHill-CardScanToData/data/02_Deskewed/p15799coll8_3739.jpeg\n",
      "reverted big fuzz white trim: /Users/xieewenz/BunkerHill-CardScanToData/data/02_Deskewed/p15799coll8_3742.jpeg\n"
     ]
    },
    {
     "name": "stderr",
     "output_type": "stream",
     "text": [
      " 48%|████▊     | 1087/2265 [1:15:35<2:30:27,  7.66s/it]"
     ]
    },
    {
     "name": "stdout",
     "output_type": "stream",
     "text": [
      "reverted big fuzz white trim: /Users/xieewenz/BunkerHill-CardScanToData/data/02_Deskewed/p15799coll8_3741.jpeg\n",
      "reverted big fuzz black trim: /Users/xieewenz/BunkerHill-CardScanToData/data/02_Deskewed/p15799coll8_3744.jpeg\n",
      "reverted big fuzz white trim: /Users/xieewenz/BunkerHill-CardScanToData/data/02_Deskewed/p15799coll8_3749.jpeg\n"
     ]
    },
    {
     "name": "stderr",
     "output_type": "stream",
     "text": [
      " 48%|████▊     | 1098/2265 [1:15:50<1:26:16,  4.44s/it]"
     ]
    },
    {
     "name": "stdout",
     "output_type": "stream",
     "text": [
      "reverted big fuzz black trim: /Users/xieewenz/BunkerHill-CardScanToData/data/02_Deskewed/p15799coll8_3742.jpeg\n"
     ]
    },
    {
     "name": "stderr",
     "output_type": "stream",
     "text": [
      " 49%|████▊     | 1099/2265 [1:15:55<1:26:44,  4.46s/it]"
     ]
    },
    {
     "name": "stdout",
     "output_type": "stream",
     "text": [
      "reverted big fuzz white trim: /Users/xieewenz/BunkerHill-CardScanToData/data/02_Deskewed/p15799coll8_3755.jpeg\n",
      "reverted big fuzz white trim: /Users/xieewenz/BunkerHill-CardScanToData/data/02_Deskewed/p15799coll8_3751.jpeg\n",
      "reverted big fuzz white trim: /Users/xieewenz/BunkerHill-CardScanToData/data/02_Deskewed/p15799coll8_3743.jpeg\n",
      "reverted big fuzz black trim: /Users/xieewenz/BunkerHill-CardScanToData/data/02_Deskewed/p15799coll8_3754.jpeg\n",
      "reverted big fuzz black trim: /Users/xieewenz/BunkerHill-CardScanToData/data/02_Deskewed/p15799coll8_3757.jpeg\n",
      "reverted big fuzz black trim: /Users/xieewenz/BunkerHill-CardScanToData/data/02_Deskewed/p15799coll8_3756.jpeg\n",
      "reverted big fuzz white trim: /Users/xieewenz/BunkerHill-CardScanToData/data/02_Deskewed/p15799coll8_3752.jpeg\n",
      "reverted big fuzz black trim: /Users/xieewenz/BunkerHill-CardScanToData/data/02_Deskewed/p15799coll8_3760.jpeg\n",
      "reverted big fuzz white trim: /Users/xieewenz/BunkerHill-CardScanToData/data/02_Deskewed/p15799coll8_3753.jpeg\n",
      "reverted big fuzz white trim: /Users/xieewenz/BunkerHill-CardScanToData/data/02_Deskewed/p15799coll8_3758.jpeg\n",
      "reverted big fuzz black trim: /Users/xieewenz/BunkerHill-CardScanToData/data/02_Deskewed/p15799coll8_3758.jpeg\n"
     ]
    },
    {
     "name": "stderr",
     "output_type": "stream",
     "text": [
      " 49%|████▊     | 1100/2265 [1:16:51<2:49:24,  8.73s/it]"
     ]
    },
    {
     "name": "stdout",
     "output_type": "stream",
     "text": [
      "reverted big fuzz black trim: /Users/xieewenz/BunkerHill-CardScanToData/data/02_Deskewed/p15799coll8_3750.jpeg\n",
      "reverted big fuzz black trim: /Users/xieewenz/BunkerHill-CardScanToData/data/02_Deskewed/p15799coll8_3759.jpeg\n",
      "reverted big fuzz white trim: /Users/xieewenz/BunkerHill-CardScanToData/data/02_Deskewed/p15799coll8_3857.jpeg\n"
     ]
    },
    {
     "name": "stderr",
     "output_type": "stream",
     "text": [
      " 49%|████▉     | 1119/2265 [1:17:04<50:03,  2.62s/it]  "
     ]
    },
    {
     "name": "stdout",
     "output_type": "stream",
     "text": [
      "reverted big fuzz black trim: /Users/xieewenz/BunkerHill-CardScanToData/data/02_Deskewed/p15799coll8_3762.jpeg\n",
      "reverted big fuzz white trim: /Users/xieewenz/BunkerHill-CardScanToData/data/02_Deskewed/p15799coll8_3862.jpeg\n"
     ]
    },
    {
     "name": "stderr",
     "output_type": "stream",
     "text": [
      " 49%|████▉     | 1121/2265 [1:17:08<47:53,  2.51s/it]"
     ]
    },
    {
     "name": "stdout",
     "output_type": "stream",
     "text": [
      "reverted big fuzz white trim: /Users/xieewenz/BunkerHill-CardScanToData/data/02_Deskewed/p15799coll8_3863.jpeg\n",
      "reverted big fuzz white trim: /Users/xieewenz/BunkerHill-CardScanToData/data/02_Deskewed/p15799coll8_3865.jpeg\n",
      "reverted big fuzz white trim: /Users/xieewenz/BunkerHill-CardScanToData/data/02_Deskewed/p15799coll8_3866.jpeg\n",
      "reverted big fuzz white trim: /Users/xieewenz/BunkerHill-CardScanToData/data/02_Deskewed/p15799coll8_3867.jpeg\n"
     ]
    },
    {
     "name": "stderr",
     "output_type": "stream",
     "text": [
      " 50%|████▉     | 1122/2265 [1:17:31<1:24:11,  4.42s/it]"
     ]
    },
    {
     "name": "stdout",
     "output_type": "stream",
     "text": [
      "reverted big fuzz black trim: /Users/xieewenz/BunkerHill-CardScanToData/data/02_Deskewed/p15799coll8_3858.jpeg\n",
      "reverted big fuzz white trim: /Users/xieewenz/BunkerHill-CardScanToData/data/02_Deskewed/p15799coll8_3868.jpeg\n",
      "reverted big fuzz white trim: /Users/xieewenz/BunkerHill-CardScanToData/data/02_Deskewed/p15799coll8_3869.jpeg\n",
      "reverted big fuzz black trim: /Users/xieewenz/BunkerHill-CardScanToData/data/02_Deskewed/p15799coll8_3863.jpeg\n",
      "reverted big fuzz white trim: /Users/xieewenz/BunkerHill-CardScanToData/data/02_Deskewed/p15799coll8_3870.jpeg\n",
      "reverted big fuzz white trim: /Users/xieewenz/BunkerHill-CardScanToData/data/02_Deskewed/p15799coll8_3864.jpeg\n",
      "reverted big fuzz black trim: /Users/xieewenz/BunkerHill-CardScanToData/data/02_Deskewed/p15799coll8_3861.jpeg\n",
      "reverted big fuzz white trim: /Users/xieewenz/BunkerHill-CardScanToData/data/02_Deskewed/p15799coll8_3872.jpeg\n",
      "reverted big fuzz white trim: /Users/xieewenz/BunkerHill-CardScanToData/data/02_Deskewed/p15799coll8_3877.jpeg\n",
      "reverted big fuzz white trim: /Users/xieewenz/BunkerHill-CardScanToData/data/02_Deskewed/p15799coll8_3874.jpeg\n",
      "reverted big fuzz white trim: /Users/xieewenz/BunkerHill-CardScanToData/data/02_Deskewed/p15799coll8_3876.jpeg\n",
      "reverted big fuzz white trim: /Users/xieewenz/BunkerHill-CardScanToData/data/02_Deskewed/p15799coll8_3875.jpeg\n",
      "reverted big fuzz white trim: /Users/xieewenz/BunkerHill-CardScanToData/data/02_Deskewed/p15799coll8_3873.jpeg\n",
      "reverted big fuzz black trim: /Users/xieewenz/BunkerHill-CardScanToData/data/02_Deskewed/p15799coll8_3872.jpeg\n",
      "reverted big fuzz white trim: /Users/xieewenz/BunkerHill-CardScanToData/data/02_Deskewed/p15799coll8_3871.jpeg\n",
      "reverted big fuzz white trim: /Users/xieewenz/BunkerHill-CardScanToData/data/02_Deskewed/p15799coll8_3880.jpeg\n",
      "reverted big fuzz white trim: /Users/xieewenz/BunkerHill-CardScanToData/data/02_Deskewed/p15799coll8_3878.jpeg\n",
      "reverted big fuzz white trim: /Users/xieewenz/BunkerHill-CardScanToData/data/02_Deskewed/p15799coll8_3879.jpeg\n",
      "reverted big fuzz black trim: /Users/xieewenz/BunkerHill-CardScanToData/data/02_Deskewed/p15799coll8_3860.jpeg\n",
      "reverted big fuzz white trim: /Users/xieewenz/BunkerHill-CardScanToData/data/02_Deskewed/p15799coll8_3881.jpeg\n",
      "reverted big fuzz white trim: /Users/xieewenz/BunkerHill-CardScanToData/data/02_Deskewed/p15799coll8_3882.jpeg\n"
     ]
    },
    {
     "name": "stderr",
     "output_type": "stream",
     "text": [
      " 50%|████▉     | 1124/2265 [1:19:00<4:06:19, 12.95s/it]"
     ]
    },
    {
     "name": "stdout",
     "output_type": "stream",
     "text": [
      "reverted big fuzz black trim: /Users/xieewenz/BunkerHill-CardScanToData/data/02_Deskewed/p15799coll8_3881.jpeg\n"
     ]
    },
    {
     "name": "stderr",
     "output_type": "stream",
     "text": [
      " 58%|█████▊    | 1312/2265 [1:25:36<54:42,  3.44s/it]  "
     ]
    },
    {
     "name": "stdout",
     "output_type": "stream",
     "text": [
      "reverted big fuzz black trim: /Users/xieewenz/BunkerHill-CardScanToData/data/02_Deskewed/p15799coll8_49859.jpeg\n"
     ]
    },
    {
     "name": "stderr",
     "output_type": "stream",
     "text": [
      " 58%|█████▊    | 1313/2265 [1:25:49<1:14:06,  4.67s/it]"
     ]
    },
    {
     "name": "stdout",
     "output_type": "stream",
     "text": [
      "reverted big fuzz black trim: /Users/xieewenz/BunkerHill-CardScanToData/data/02_Deskewed/p15799coll8_49869.jpg\n",
      "reverted big fuzz white trim: /Users/xieewenz/BunkerHill-CardScanToData/data/02_Deskewed/p15799coll8_49848.jpeg\n",
      "reverted big fuzz black trim: /Users/xieewenz/BunkerHill-CardScanToData/data/02_Deskewed/p15799coll8_49871.jpg\n",
      "reverted big fuzz black trim: /Users/xieewenz/BunkerHill-CardScanToData/data/02_Deskewed/p15799coll8_49848.jpeg\n"
     ]
    },
    {
     "name": "stderr",
     "output_type": "stream",
     "text": [
      " 59%|█████▉    | 1331/2265 [1:26:47<55:20,  3.55s/it]  "
     ]
    },
    {
     "name": "stdout",
     "output_type": "stream",
     "text": [
      "reverted small fuzz black trim: /Users/xieewenz/BunkerHill-CardScanToData/data/02_Deskewed/p15799coll8_49871.jpg\n",
      "reverted big fuzz white trim: /Users/xieewenz/BunkerHill-CardScanToData/data/02_Deskewed/p15799coll8_49856.jpeg\n",
      "reverted big fuzz black trim: /Users/xieewenz/BunkerHill-CardScanToData/data/02_Deskewed/p15799coll8_49856.jpeg\n"
     ]
    },
    {
     "name": "stderr",
     "output_type": "stream",
     "text": [
      " 60%|██████    | 1365/2265 [1:27:37<26:40,  1.78s/it]  "
     ]
    },
    {
     "name": "stdout",
     "output_type": "stream",
     "text": [
      "reverted big fuzz white trim: /Users/xieewenz/BunkerHill-CardScanToData/data/02_Deskewed/p15799coll8_50347.jpeg\n",
      "reverted big fuzz white trim: /Users/xieewenz/BunkerHill-CardScanToData/data/02_Deskewed/p15799coll8_50355.jpeg\n"
     ]
    },
    {
     "name": "stderr",
     "output_type": "stream",
     "text": [
      " 86%|████████▌ | 1948/2265 [1:48:41<13:40,  2.59s/it]  "
     ]
    },
    {
     "name": "stdout",
     "output_type": "stream",
     "text": [
      "reverted big fuzz black trim: /Users/xieewenz/BunkerHill-CardScanToData/data/02_Deskewed/p15799coll8_81853.jpg\n",
      "reverted small fuzz black trim: /Users/xieewenz/BunkerHill-CardScanToData/data/02_Deskewed/p15799coll8_81853.jpg\n"
     ]
    },
    {
     "name": "stderr",
     "output_type": "stream",
     "text": [
      " 86%|████████▌ | 1952/2265 [1:49:41<26:46,  5.13s/it]"
     ]
    },
    {
     "name": "stdout",
     "output_type": "stream",
     "text": [
      "reverted big fuzz black trim: /Users/xieewenz/BunkerHill-CardScanToData/data/02_Deskewed/p15799coll8_81861.jpg\n",
      "reverted big fuzz black trim: /Users/xieewenz/BunkerHill-CardScanToData/data/02_Deskewed/p15799coll8_81855.jpg\n",
      "reverted small fuzz black trim: /Users/xieewenz/BunkerHill-CardScanToData/data/02_Deskewed/p15799coll8_81855.jpg\n"
     ]
    },
    {
     "name": "stderr",
     "output_type": "stream",
     "text": [
      " 90%|█████████ | 2043/2265 [1:52:47<09:12,  2.49s/it]"
     ]
    },
    {
     "name": "stdout",
     "output_type": "stream",
     "text": [
      "reverted big fuzz black trim: /Users/xieewenz/BunkerHill-CardScanToData/data/02_Deskewed/p15799coll8_8404.jpeg\n"
     ]
    },
    {
     "name": "stderr",
     "output_type": "stream",
     "text": [
      " 91%|█████████ | 2052/2265 [1:53:02<07:51,  2.21s/it]"
     ]
    },
    {
     "name": "stdout",
     "output_type": "stream",
     "text": [
      "reverted big fuzz white trim: /Users/xieewenz/BunkerHill-CardScanToData/data/02_Deskewed/p15799coll8_8452.jpg\n",
      "reverted big fuzz white trim: /Users/xieewenz/BunkerHill-CardScanToData/data/02_Deskewed/p15799coll8_8409.jpeg\n",
      "reverted big fuzz white trim: /Users/xieewenz/BunkerHill-CardScanToData/data/02_Deskewed/p15799coll8_8408.jpeg\n",
      "reverted big fuzz white trim: /Users/xieewenz/BunkerHill-CardScanToData/data/02_Deskewed/p15799coll8_8446.jpg\n"
     ]
    },
    {
     "name": "stderr",
     "output_type": "stream",
     "text": [
      " 91%|█████████ | 2055/2265 [1:53:12<08:03,  2.30s/it]"
     ]
    },
    {
     "name": "stdout",
     "output_type": "stream",
     "text": [
      "reverted big fuzz white trim: /Users/xieewenz/BunkerHill-CardScanToData/data/02_Deskewed/p15799coll8_8447.jpg\n",
      "reverted big fuzz white trim: /Users/xieewenz/BunkerHill-CardScanToData/data/02_Deskewed/p15799coll8_8401.jpeg\n"
     ]
    },
    {
     "name": "stderr",
     "output_type": "stream",
     "text": [
      " 91%|█████████ | 2056/2265 [1:53:40<15:26,  4.43s/it]"
     ]
    },
    {
     "name": "stdout",
     "output_type": "stream",
     "text": [
      "reverted big fuzz black trim: /Users/xieewenz/BunkerHill-CardScanToData/data/02_Deskewed/p15799coll8_8409.jpeg\n",
      "reverted big fuzz black trim: /Users/xieewenz/BunkerHill-CardScanToData/data/02_Deskewed/p15799coll8_8408.jpeg\n"
     ]
    },
    {
     "name": "stderr",
     "output_type": "stream",
     "text": [
      " 94%|█████████▍| 2133/2265 [1:55:35<02:43,  1.24s/it]"
     ]
    },
    {
     "name": "stdout",
     "output_type": "stream",
     "text": [
      "reverted big fuzz black trim: /Users/xieewenz/BunkerHill-CardScanToData/data/02_Deskewed/p15799coll8_87890.jpeg\n"
     ]
    },
    {
     "name": "stderr",
     "output_type": "stream",
     "text": [
      " 95%|█████████▌| 2153/2265 [1:56:23<03:22,  1.81s/it]"
     ]
    },
    {
     "name": "stdout",
     "output_type": "stream",
     "text": [
      "reverted big fuzz black trim: /Users/xieewenz/BunkerHill-CardScanToData/data/02_Deskewed/p15799coll8_87903.jpeg\n"
     ]
    },
    {
     "name": "stderr",
     "output_type": "stream",
     "text": [
      " 95%|█████████▌| 2158/2265 [1:56:41<04:03,  2.27s/it]"
     ]
    },
    {
     "name": "stdout",
     "output_type": "stream",
     "text": [
      "reverted small fuzz black trim: /Users/xieewenz/BunkerHill-CardScanToData/data/02_Deskewed/p15799coll8_87890.jpeg\n"
     ]
    },
    {
     "name": "stderr",
     "output_type": "stream",
     "text": [
      " 97%|█████████▋| 2205/2265 [1:57:54<01:20,  1.35s/it]"
     ]
    },
    {
     "name": "stdout",
     "output_type": "stream",
     "text": [
      "reverted big fuzz white trim: /Users/xieewenz/BunkerHill-CardScanToData/data/02_Deskewed/p15799coll8_92254.jpeg\n"
     ]
    },
    {
     "name": "stderr",
     "output_type": "stream",
     "text": [
      " 98%|█████████▊| 2218/2265 [1:58:36<01:38,  2.09s/it]"
     ]
    },
    {
     "name": "stdout",
     "output_type": "stream",
     "text": [
      "reverted big fuzz white trim: /Users/xieewenz/BunkerHill-CardScanToData/data/02_Deskewed/p15799coll8_92287.jpeg\n"
     ]
    },
    {
     "name": "stderr",
     "output_type": "stream",
     "text": [
      "100%|██████████| 2265/2265 [1:59:37<00:00,  3.17s/it]\n"
     ]
    }
   ],
   "source": [
    "in_folder = DATA_DIR / \"02_Deskewed\"\n",
    "out_folder = DATA_DIR / \"03_Trim_Edges\"\n",
    "os.makedirs(out_folder, exist_ok=True)\n",
    "image_list = find_images(in_folder)\n",
    "\n",
    "args_list = [ProcessImageArgs(inpath=im, outfolder=out_folder) for i, im in enumerate(sorted(image_list))]\n",
    "\n",
    "with ProcessPoolExecutor() as executor:\n",
    "    list(tqdm(executor.map(edgecut, args_list), total=len(args_list)))"
   ]
  },
  {
   "cell_type": "code",
   "execution_count": 4,
   "id": "0a40a486",
   "metadata": {},
   "outputs": [
    {
     "name": "stderr",
     "output_type": "stream",
     "text": [
      "  0%|          | 9/2265 [00:12<50:32,  1.34s/it]  "
     ]
    },
    {
     "name": "stdout",
     "output_type": "stream",
     "text": [
      "Images too dissimilar to match: /Users/xieewenz/BunkerHill-CardScanToData/data/03_Trim_Edges/WPA_household_census_for_213_CINNABARR_ST_Los_Angeles.jpg\n"
     ]
    },
    {
     "name": "stderr",
     "output_type": "stream",
     "text": [
      "  1%|          | 21/2265 [00:18<24:32,  1.52it/s]"
     ]
    },
    {
     "name": "stdout",
     "output_type": "stream",
     "text": [
      "Images too dissimilar to match: /Users/xieewenz/BunkerHill-CardScanToData/data/03_Trim_Edges/p15799coll8_12642.jpeg\n"
     ]
    },
    {
     "name": "stderr",
     "output_type": "stream",
     "text": [
      "  1%|          | 23/2265 [00:19<21:07,  1.77it/s]"
     ]
    },
    {
     "name": "stdout",
     "output_type": "stream",
     "text": [
      "Images too dissimilar to match: /Users/xieewenz/BunkerHill-CardScanToData/data/03_Trim_Edges/p15799coll8_12900.jpeg\n"
     ]
    },
    {
     "name": "stderr",
     "output_type": "stream",
     "text": [
      "  1%|          | 25/2265 [00:23<42:01,  1.13s/it]"
     ]
    },
    {
     "name": "stdout",
     "output_type": "stream",
     "text": [
      "Images too dissimilar to match: /Users/xieewenz/BunkerHill-CardScanToData/data/03_Trim_Edges/p15799coll8_12906.jpeg\n"
     ]
    },
    {
     "name": "stderr",
     "output_type": "stream",
     "text": [
      "  2%|▏         | 41/2265 [00:36<46:26,  1.25s/it]"
     ]
    },
    {
     "name": "stdout",
     "output_type": "stream",
     "text": [
      "Images too dissimilar to match: /Users/xieewenz/BunkerHill-CardScanToData/data/03_Trim_Edges/p15799coll8_12951.jpeg\n"
     ]
    },
    {
     "name": "stderr",
     "output_type": "stream",
     "text": [
      "  2%|▏         | 49/2265 [00:42<46:53,  1.27s/it]"
     ]
    },
    {
     "name": "stdout",
     "output_type": "stream",
     "text": [
      "Images too dissimilar to match: /Users/xieewenz/BunkerHill-CardScanToData/data/03_Trim_Edges/p15799coll8_12994.jpeg\n"
     ]
    },
    {
     "name": "stderr",
     "output_type": "stream",
     "text": [
      "  2%|▏         | 54/2265 [00:43<21:12,  1.74it/s]"
     ]
    },
    {
     "name": "stdout",
     "output_type": "stream",
     "text": [
      "Images too dissimilar to match: /Users/xieewenz/BunkerHill-CardScanToData/data/03_Trim_Edges/p15799coll8_12999.jpeg\n"
     ]
    },
    {
     "name": "stderr",
     "output_type": "stream",
     "text": [
      "  2%|▏         | 56/2265 [00:44<19:08,  1.92it/s]"
     ]
    },
    {
     "name": "stdout",
     "output_type": "stream",
     "text": [
      "Images too dissimilar to match: /Users/xieewenz/BunkerHill-CardScanToData/data/03_Trim_Edges/p15799coll8_13005.jpeg\n"
     ]
    },
    {
     "name": "stderr",
     "output_type": "stream",
     "text": [
      "  3%|▎         | 57/2265 [00:48<49:19,  1.34s/it]"
     ]
    },
    {
     "name": "stdout",
     "output_type": "stream",
     "text": [
      "Images too dissimilar to match: /Users/xieewenz/BunkerHill-CardScanToData/data/03_Trim_Edges/p15799coll8_13007.jpeg\n"
     ]
    },
    {
     "name": "stderr",
     "output_type": "stream",
     "text": [
      "  3%|▎         | 66/2265 [00:55<37:19,  1.02s/it]"
     ]
    },
    {
     "name": "stdout",
     "output_type": "stream",
     "text": [
      "Images too dissimilar to match: /Users/xieewenz/BunkerHill-CardScanToData/data/03_Trim_Edges/p15799coll8_13052.jpeg\n"
     ]
    },
    {
     "name": "stderr",
     "output_type": "stream",
     "text": [
      "  4%|▎         | 82/2265 [01:07<35:01,  1.04it/s]"
     ]
    },
    {
     "name": "stdout",
     "output_type": "stream",
     "text": [
      "Images too dissimilar to match: /Users/xieewenz/BunkerHill-CardScanToData/data/03_Trim_Edges/p15799coll8_13105.jpeg\n"
     ]
    },
    {
     "name": "stderr",
     "output_type": "stream",
     "text": [
      "  4%|▍         | 85/2265 [01:08<21:15,  1.71it/s]"
     ]
    },
    {
     "name": "stdout",
     "output_type": "stream",
     "text": [
      "Images too dissimilar to match: /Users/xieewenz/BunkerHill-CardScanToData/data/03_Trim_Edges/p15799coll8_13112.jpeg\n"
     ]
    },
    {
     "name": "stderr",
     "output_type": "stream",
     "text": [
      "  4%|▍         | 91/2265 [01:13<32:05,  1.13it/s]"
     ]
    },
    {
     "name": "stdout",
     "output_type": "stream",
     "text": [
      "Images too dissimilar to match: /Users/xieewenz/BunkerHill-CardScanToData/data/03_Trim_Edges/p15799coll8_13120.jpeg\n"
     ]
    },
    {
     "name": "stderr",
     "output_type": "stream",
     "text": [
      "  5%|▍         | 107/2265 [01:26<31:15,  1.15it/s]"
     ]
    },
    {
     "name": "stdout",
     "output_type": "stream",
     "text": [
      "Images too dissimilar to match: /Users/xieewenz/BunkerHill-CardScanToData/data/03_Trim_Edges/p15799coll8_13170.jpeg\n",
      "Images too dissimilar to match: /Users/xieewenz/BunkerHill-CardScanToData/data/03_Trim_Edges/p15799coll8_13167.jpeg\n"
     ]
    },
    {
     "name": "stderr",
     "output_type": "stream",
     "text": [
      "  7%|▋         | 149/2265 [01:58<23:19,  1.51it/s]"
     ]
    },
    {
     "name": "stdout",
     "output_type": "stream",
     "text": [
      "Images too dissimilar to match: /Users/xieewenz/BunkerHill-CardScanToData/data/03_Trim_Edges/p15799coll8_13282.jpeg\n"
     ]
    },
    {
     "name": "stderr",
     "output_type": "stream",
     "text": [
      "  7%|▋         | 162/2265 [02:09<34:17,  1.02it/s]"
     ]
    },
    {
     "name": "stdout",
     "output_type": "stream",
     "text": [
      "Images too dissimilar to match: /Users/xieewenz/BunkerHill-CardScanToData/data/03_Trim_Edges/p15799coll8_13317.jpeg\n"
     ]
    },
    {
     "name": "stderr",
     "output_type": "stream",
     "text": [
      "  7%|▋         | 166/2265 [02:11<22:41,  1.54it/s]"
     ]
    },
    {
     "name": "stdout",
     "output_type": "stream",
     "text": [
      "Images too dissimilar to match: /Users/xieewenz/BunkerHill-CardScanToData/data/03_Trim_Edges/p15799coll8_13329.jpeg\n"
     ]
    },
    {
     "name": "stderr",
     "output_type": "stream",
     "text": [
      "  8%|▊         | 171/2265 [02:16<30:06,  1.16it/s]"
     ]
    },
    {
     "name": "stdout",
     "output_type": "stream",
     "text": [
      "Images too dissimilar to match: /Users/xieewenz/BunkerHill-CardScanToData/data/03_Trim_Edges/p15799coll8_13350.jpeg\n"
     ]
    },
    {
     "name": "stderr",
     "output_type": "stream",
     "text": [
      "  8%|▊         | 177/2265 [02:21<36:20,  1.04s/it]"
     ]
    },
    {
     "name": "stdout",
     "output_type": "stream",
     "text": [
      "Images too dissimilar to match: /Users/xieewenz/BunkerHill-CardScanToData/data/03_Trim_Edges/p15799coll8_13362.jpeg\n"
     ]
    },
    {
     "name": "stderr",
     "output_type": "stream",
     "text": [
      "  8%|▊         | 184/2265 [02:25<18:41,  1.85it/s]"
     ]
    },
    {
     "name": "stdout",
     "output_type": "stream",
     "text": [
      "Images too dissimilar to match: /Users/xieewenz/BunkerHill-CardScanToData/data/03_Trim_Edges/p15799coll8_13402.jpeg\n"
     ]
    },
    {
     "name": "stderr",
     "output_type": "stream",
     "text": [
      "  8%|▊         | 185/2265 [02:27<37:27,  1.08s/it]"
     ]
    },
    {
     "name": "stdout",
     "output_type": "stream",
     "text": [
      "Images too dissimilar to match: /Users/xieewenz/BunkerHill-CardScanToData/data/03_Trim_Edges/p15799coll8_13405.jpg\n"
     ]
    },
    {
     "name": "stderr",
     "output_type": "stream",
     "text": [
      "  8%|▊         | 187/2265 [02:28<27:02,  1.28it/s]"
     ]
    },
    {
     "name": "stdout",
     "output_type": "stream",
     "text": [
      "Images too dissimilar to match: /Users/xieewenz/BunkerHill-CardScanToData/data/03_Trim_Edges/p15799coll8_13412.jpg\n"
     ]
    },
    {
     "name": "stderr",
     "output_type": "stream",
     "text": [
      "  8%|▊         | 189/2265 [02:30<27:37,  1.25it/s]"
     ]
    },
    {
     "name": "stdout",
     "output_type": "stream",
     "text": [
      "Images too dissimilar to match: /Users/xieewenz/BunkerHill-CardScanToData/data/03_Trim_Edges/p15799coll8_13422.jpg\n"
     ]
    },
    {
     "name": "stderr",
     "output_type": "stream",
     "text": [
      " 10%|▉         | 217/2265 [02:52<38:20,  1.12s/it]"
     ]
    },
    {
     "name": "stdout",
     "output_type": "stream",
     "text": [
      "Images too dissimilar to match: /Users/xieewenz/BunkerHill-CardScanToData/data/03_Trim_Edges/p15799coll8_13798.jpeg\n"
     ]
    },
    {
     "name": "stderr",
     "output_type": "stream",
     "text": [
      " 10%|▉         | 224/2265 [02:57<25:19,  1.34it/s]"
     ]
    },
    {
     "name": "stdout",
     "output_type": "stream",
     "text": [
      "Images too dissimilar to match: /Users/xieewenz/BunkerHill-CardScanToData/data/03_Trim_Edges/p15799coll8_13808.jpeg\n"
     ]
    },
    {
     "name": "stderr",
     "output_type": "stream",
     "text": [
      " 11%|█         | 248/2265 [03:16<29:28,  1.14it/s]"
     ]
    },
    {
     "name": "stdout",
     "output_type": "stream",
     "text": [
      "Images too dissimilar to match: /Users/xieewenz/BunkerHill-CardScanToData/data/03_Trim_Edges/p15799coll8_13892.jpeg\n"
     ]
    },
    {
     "name": "stderr",
     "output_type": "stream",
     "text": [
      " 11%|█▏        | 257/2265 [03:23<30:51,  1.08it/s]"
     ]
    },
    {
     "name": "stdout",
     "output_type": "stream",
     "text": [
      "Images too dissimilar to match: /Users/xieewenz/BunkerHill-CardScanToData/data/03_Trim_Edges/p15799coll8_13918.jpeg\n"
     ]
    },
    {
     "name": "stderr",
     "output_type": "stream",
     "text": [
      " 12%|█▏        | 279/2265 [03:40<22:42,  1.46it/s]"
     ]
    },
    {
     "name": "stdout",
     "output_type": "stream",
     "text": [
      "Images too dissimilar to match: /Users/xieewenz/BunkerHill-CardScanToData/data/03_Trim_Edges/p15799coll8_13976.jpeg\n"
     ]
    },
    {
     "name": "stderr",
     "output_type": "stream",
     "text": [
      " 13%|█▎        | 300/2265 [03:58<31:41,  1.03it/s]"
     ]
    },
    {
     "name": "stdout",
     "output_type": "stream",
     "text": [
      "Images too dissimilar to match: /Users/xieewenz/BunkerHill-CardScanToData/data/03_Trim_Edges/p15799coll8_14036.jpeg\n"
     ]
    },
    {
     "name": "stderr",
     "output_type": "stream",
     "text": [
      " 15%|█▍        | 337/2265 [04:28<34:41,  1.08s/it]"
     ]
    },
    {
     "name": "stdout",
     "output_type": "stream",
     "text": [
      "Images too dissimilar to match: /Users/xieewenz/BunkerHill-CardScanToData/data/03_Trim_Edges/p15799coll8_14404.jpeg\n"
     ]
    },
    {
     "name": "stderr",
     "output_type": "stream",
     "text": [
      " 15%|█▌        | 347/2265 [04:35<25:17,  1.26it/s]"
     ]
    },
    {
     "name": "stdout",
     "output_type": "stream",
     "text": [
      "Images too dissimilar to match: /Users/xieewenz/BunkerHill-CardScanToData/data/03_Trim_Edges/p15799coll8_14438.jpeg\n"
     ]
    },
    {
     "name": "stderr",
     "output_type": "stream",
     "text": [
      " 15%|█▌        | 348/2265 [04:36<26:40,  1.20it/s]"
     ]
    },
    {
     "name": "stdout",
     "output_type": "stream",
     "text": [
      "Images too dissimilar to match: /Users/xieewenz/BunkerHill-CardScanToData/data/03_Trim_Edges/p15799coll8_14442.jpeg\n"
     ]
    },
    {
     "name": "stderr",
     "output_type": "stream",
     "text": [
      " 16%|█▌        | 357/2265 [04:42<22:01,  1.44it/s]"
     ]
    },
    {
     "name": "stdout",
     "output_type": "stream",
     "text": [
      "Images too dissimilar to match: /Users/xieewenz/BunkerHill-CardScanToData/data/03_Trim_Edges/p15799coll8_14470.jpeg\n"
     ]
    },
    {
     "name": "stderr",
     "output_type": "stream",
     "text": [
      " 17%|█▋        | 380/2265 [05:00<21:28,  1.46it/s]"
     ]
    },
    {
     "name": "stdout",
     "output_type": "stream",
     "text": [
      "Images too dissimilar to match: /Users/xieewenz/BunkerHill-CardScanToData/data/03_Trim_Edges/p15799coll8_14706.jpg\n"
     ]
    },
    {
     "name": "stderr",
     "output_type": "stream",
     "text": [
      " 18%|█▊        | 418/2265 [05:35<31:46,  1.03s/it]  "
     ]
    },
    {
     "name": "stdout",
     "output_type": "stream",
     "text": [
      "Images too dissimilar to match: /Users/xieewenz/BunkerHill-CardScanToData/data/03_Trim_Edges/p15799coll8_14865.jpg\n"
     ]
    },
    {
     "name": "stderr",
     "output_type": "stream",
     "text": [
      " 19%|█▉        | 429/2265 [05:43<25:06,  1.22it/s]"
     ]
    },
    {
     "name": "stdout",
     "output_type": "stream",
     "text": [
      "Images too dissimilar to match: /Users/xieewenz/BunkerHill-CardScanToData/data/03_Trim_Edges/p15799coll8_14937.jpg\n"
     ]
    },
    {
     "name": "stderr",
     "output_type": "stream",
     "text": [
      " 20%|██        | 453/2265 [06:02<22:05,  1.37it/s]"
     ]
    },
    {
     "name": "stdout",
     "output_type": "stream",
     "text": [
      "Images too dissimilar to match: /Users/xieewenz/BunkerHill-CardScanToData/data/03_Trim_Edges/p15799coll8_14988.jpg\n"
     ]
    },
    {
     "name": "stderr",
     "output_type": "stream",
     "text": [
      " 40%|███▉      | 905/2265 [12:01<15:24,  1.47it/s]"
     ]
    },
    {
     "name": "stdout",
     "output_type": "stream",
     "text": [
      "Images too dissimilar to match: /Users/xieewenz/BunkerHill-CardScanToData/data/03_Trim_Edges/p15799coll8_3548.jpeg\n"
     ]
    },
    {
     "name": "stderr",
     "output_type": "stream",
     "text": [
      " 41%|████      | 924/2265 [12:17<19:48,  1.13it/s]"
     ]
    },
    {
     "name": "stdout",
     "output_type": "stream",
     "text": [
      "Images too dissimilar to match: /Users/xieewenz/BunkerHill-CardScanToData/data/03_Trim_Edges/p15799coll8_3567.jpeg\n"
     ]
    },
    {
     "name": "stderr",
     "output_type": "stream",
     "text": [
      " 42%|████▏     | 943/2265 [12:32<17:55,  1.23it/s]"
     ]
    },
    {
     "name": "stdout",
     "output_type": "stream",
     "text": [
      "Images too dissimilar to match: /Users/xieewenz/BunkerHill-CardScanToData/data/03_Trim_Edges/p15799coll8_3586.jpeg\n"
     ]
    },
    {
     "name": "stderr",
     "output_type": "stream",
     "text": [
      " 42%|████▏     | 944/2265 [12:33<15:26,  1.43it/s]"
     ]
    },
    {
     "name": "stdout",
     "output_type": "stream",
     "text": [
      "Images too dissimilar to match: /Users/xieewenz/BunkerHill-CardScanToData/data/03_Trim_Edges/p15799coll8_3587.jpeg\n"
     ]
    },
    {
     "name": "stderr",
     "output_type": "stream",
     "text": [
      " 42%|████▏     | 948/2265 [12:36<18:14,  1.20it/s]"
     ]
    },
    {
     "name": "stdout",
     "output_type": "stream",
     "text": [
      "Images too dissimilar to match: /Users/xieewenz/BunkerHill-CardScanToData/data/03_Trim_Edges/p15799coll8_3591.jpeg\n"
     ]
    },
    {
     "name": "stderr",
     "output_type": "stream",
     "text": [
      " 43%|████▎     | 977/2265 [12:58<12:13,  1.76it/s]"
     ]
    },
    {
     "name": "stdout",
     "output_type": "stream",
     "text": [
      "Images too dissimilar to match: /Users/xieewenz/BunkerHill-CardScanToData/data/03_Trim_Edges/p15799coll8_3620.jpeg\n"
     ]
    },
    {
     "name": "stderr",
     "output_type": "stream",
     "text": [
      " 43%|████▎     | 978/2265 [12:59<13:34,  1.58it/s]"
     ]
    },
    {
     "name": "stdout",
     "output_type": "stream",
     "text": [
      "Images too dissimilar to match: /Users/xieewenz/BunkerHill-CardScanToData/data/03_Trim_Edges/p15799coll8_3621.jpeg\n"
     ]
    },
    {
     "name": "stderr",
     "output_type": "stream",
     "text": [
      " 45%|████▌     | 1020/2265 [13:34<20:22,  1.02it/s]"
     ]
    },
    {
     "name": "stdout",
     "output_type": "stream",
     "text": [
      "Images too dissimilar to match: /Users/xieewenz/BunkerHill-CardScanToData/data/03_Trim_Edges/p15799coll8_3663.jpeg\n"
     ]
    },
    {
     "name": "stderr",
     "output_type": "stream",
     "text": [
      " 46%|████▋     | 1053/2265 [14:00<17:40,  1.14it/s]"
     ]
    },
    {
     "name": "stdout",
     "output_type": "stream",
     "text": [
      "Images too dissimilar to match: /Users/xieewenz/BunkerHill-CardScanToData/data/03_Trim_Edges/p15799coll8_3696.jpeg\n"
     ]
    },
    {
     "name": "stderr",
     "output_type": "stream",
     "text": [
      " 47%|████▋     | 1070/2265 [14:13<19:19,  1.03it/s]"
     ]
    },
    {
     "name": "stdout",
     "output_type": "stream",
     "text": [
      "Images too dissimilar to match: /Users/xieewenz/BunkerHill-CardScanToData/data/03_Trim_Edges/p15799coll8_3713.jpeg\n"
     ]
    },
    {
     "name": "stderr",
     "output_type": "stream",
     "text": [
      " 47%|████▋     | 1075/2265 [14:17<14:30,  1.37it/s]"
     ]
    },
    {
     "name": "stdout",
     "output_type": "stream",
     "text": [
      "Images too dissimilar to match: /Users/xieewenz/BunkerHill-CardScanToData/data/03_Trim_Edges/p15799coll8_3718.jpeg\n"
     ]
    },
    {
     "name": "stderr",
     "output_type": "stream",
     "text": [
      " 48%|████▊     | 1077/2265 [14:19<17:22,  1.14it/s]"
     ]
    },
    {
     "name": "stdout",
     "output_type": "stream",
     "text": [
      "Images too dissimilar to match: /Users/xieewenz/BunkerHill-CardScanToData/data/03_Trim_Edges/p15799coll8_3720.jpeg\n"
     ]
    },
    {
     "name": "stderr",
     "output_type": "stream",
     "text": [
      " 48%|████▊     | 1085/2265 [14:25<17:49,  1.10it/s]"
     ]
    },
    {
     "name": "stdout",
     "output_type": "stream",
     "text": [
      "Images too dissimilar to match: /Users/xieewenz/BunkerHill-CardScanToData/data/03_Trim_Edges/p15799coll8_3728.jpeg\n",
      "Images too dissimilar to match: /Users/xieewenz/BunkerHill-CardScanToData/data/03_Trim_Edges/p15799coll8_3730.jpeg\n"
     ]
    },
    {
     "name": "stderr",
     "output_type": "stream",
     "text": [
      " 48%|████▊     | 1097/2265 [14:35<21:38,  1.11s/it]"
     ]
    },
    {
     "name": "stdout",
     "output_type": "stream",
     "text": [
      "Images too dissimilar to match: /Users/xieewenz/BunkerHill-CardScanToData/data/03_Trim_Edges/p15799coll8_3740.jpeg\n"
     ]
    },
    {
     "name": "stderr",
     "output_type": "stream",
     "text": [
      " 49%|████▊     | 1101/2265 [14:38<19:12,  1.01it/s]"
     ]
    },
    {
     "name": "stdout",
     "output_type": "stream",
     "text": [
      "Images too dissimilar to match: /Users/xieewenz/BunkerHill-CardScanToData/data/03_Trim_Edges/p15799coll8_3744.jpeg\n"
     ]
    },
    {
     "name": "stderr",
     "output_type": "stream",
     "text": [
      " 49%|████▊     | 1103/2265 [14:39<13:47,  1.40it/s]"
     ]
    },
    {
     "name": "stdout",
     "output_type": "stream",
     "text": [
      "Images too dissimilar to match: /Users/xieewenz/BunkerHill-CardScanToData/data/03_Trim_Edges/p15799coll8_3746.jpeg\n"
     ]
    },
    {
     "name": "stderr",
     "output_type": "stream",
     "text": [
      " 49%|████▊     | 1104/2265 [14:40<12:09,  1.59it/s]"
     ]
    },
    {
     "name": "stdout",
     "output_type": "stream",
     "text": [
      "Images too dissimilar to match: /Users/xieewenz/BunkerHill-CardScanToData/data/03_Trim_Edges/p15799coll8_3747.jpeg\n"
     ]
    },
    {
     "name": "stderr",
     "output_type": "stream",
     "text": [
      " 49%|████▉     | 1107/2265 [14:42<14:33,  1.33it/s]"
     ]
    },
    {
     "name": "stdout",
     "output_type": "stream",
     "text": [
      "Images too dissimilar to match: /Users/xieewenz/BunkerHill-CardScanToData/data/03_Trim_Edges/p15799coll8_3750.jpeg\n"
     ]
    },
    {
     "name": "stderr",
     "output_type": "stream",
     "text": [
      " 49%|████▉     | 1116/2265 [14:50<12:24,  1.54it/s]"
     ]
    },
    {
     "name": "stdout",
     "output_type": "stream",
     "text": [
      "Images too dissimilar to match: /Users/xieewenz/BunkerHill-CardScanToData/data/03_Trim_Edges/p15799coll8_3759.jpeg\n"
     ]
    },
    {
     "name": "stderr",
     "output_type": "stream",
     "text": [
      " 49%|████▉     | 1117/2265 [14:52<20:48,  1.09s/it]"
     ]
    },
    {
     "name": "stdout",
     "output_type": "stream",
     "text": [
      "Images too dissimilar to match: /Users/xieewenz/BunkerHill-CardScanToData/data/03_Trim_Edges/p15799coll8_3761.jpeg\n"
     ]
    },
    {
     "name": "stderr",
     "output_type": "stream",
     "text": [
      " 49%|████▉     | 1120/2265 [14:54<13:58,  1.37it/s]"
     ]
    },
    {
     "name": "stdout",
     "output_type": "stream",
     "text": [
      "Images too dissimilar to match: /Users/xieewenz/BunkerHill-CardScanToData/data/03_Trim_Edges/p15799coll8_3856.jpeg\n"
     ]
    },
    {
     "name": "stderr",
     "output_type": "stream",
     "text": [
      " 50%|████▉     | 1123/2265 [14:56<14:48,  1.28it/s]"
     ]
    },
    {
     "name": "stdout",
     "output_type": "stream",
     "text": [
      "Images too dissimilar to match: /Users/xieewenz/BunkerHill-CardScanToData/data/03_Trim_Edges/p15799coll8_3859.jpeg\n"
     ]
    },
    {
     "name": "stderr",
     "output_type": "stream",
     "text": [
      " 50%|████▉     | 1124/2265 [14:57<12:09,  1.56it/s]"
     ]
    },
    {
     "name": "stdout",
     "output_type": "stream",
     "text": [
      "Images too dissimilar to match: /Users/xieewenz/BunkerHill-CardScanToData/data/03_Trim_Edges/p15799coll8_3860.jpeg\n"
     ]
    },
    {
     "name": "stderr",
     "output_type": "stream",
     "text": [
      " 50%|████▉     | 1131/2265 [15:03<14:21,  1.32it/s]"
     ]
    },
    {
     "name": "stdout",
     "output_type": "stream",
     "text": [
      "Images too dissimilar to match: /Users/xieewenz/BunkerHill-CardScanToData/data/03_Trim_Edges/p15799coll8_3867.jpeg\n"
     ]
    },
    {
     "name": "stderr",
     "output_type": "stream",
     "text": [
      " 51%|█████     | 1144/2265 [15:13<12:52,  1.45it/s]"
     ]
    },
    {
     "name": "stdout",
     "output_type": "stream",
     "text": [
      "Images too dissimilar to match: /Users/xieewenz/BunkerHill-CardScanToData/data/03_Trim_Edges/p15799coll8_3880.jpeg\n"
     ]
    },
    {
     "name": "stderr",
     "output_type": "stream",
     "text": [
      " 60%|█████▉    | 1353/2265 [18:02<11:34,  1.31it/s]"
     ]
    },
    {
     "name": "stdout",
     "output_type": "stream",
     "text": [
      "Images too dissimilar to match: /Users/xieewenz/BunkerHill-CardScanToData/data/03_Trim_Edges/p15799coll8_49871.jpg\n"
     ]
    },
    {
     "name": "stderr",
     "output_type": "stream",
     "text": [
      " 87%|████████▋ | 1967/2265 [27:03<04:06,  1.21it/s]"
     ]
    },
    {
     "name": "stdout",
     "output_type": "stream",
     "text": [
      "Images too dissimilar to match: /Users/xieewenz/BunkerHill-CardScanToData/data/03_Trim_Edges/p15799coll8_81853.jpg\n"
     ]
    },
    {
     "name": "stderr",
     "output_type": "stream",
     "text": [
      " 92%|█████████▏| 2077/2265 [28:50<03:59,  1.28s/it]"
     ]
    },
    {
     "name": "stdout",
     "output_type": "stream",
     "text": [
      "Images too dissimilar to match: /Users/xieewenz/BunkerHill-CardScanToData/data/03_Trim_Edges/p15799coll8_87620.jpeg\n"
     ]
    },
    {
     "name": "stderr",
     "output_type": "stream",
     "text": [
      " 92%|█████████▏| 2080/2265 [28:52<02:45,  1.12it/s]"
     ]
    },
    {
     "name": "stdout",
     "output_type": "stream",
     "text": [
      "Images too dissimilar to match: /Users/xieewenz/BunkerHill-CardScanToData/data/03_Trim_Edges/p15799coll8_87622.jpeg\n"
     ]
    },
    {
     "name": "stderr",
     "output_type": "stream",
     "text": [
      " 92%|█████████▏| 2082/2265 [28:54<02:57,  1.03it/s]"
     ]
    },
    {
     "name": "stdout",
     "output_type": "stream",
     "text": [
      "Images too dissimilar to match: /Users/xieewenz/BunkerHill-CardScanToData/data/03_Trim_Edges/p15799coll8_87624.jpeg\n"
     ]
    },
    {
     "name": "stderr",
     "output_type": "stream",
     "text": [
      " 95%|█████████▌| 2157/2265 [30:17<02:27,  1.36s/it]"
     ]
    },
    {
     "name": "stdout",
     "output_type": "stream",
     "text": [
      "Images too dissimilar to match: /Users/xieewenz/BunkerHill-CardScanToData/data/03_Trim_Edges/p15799coll8_87890.jpeg\n"
     ]
    },
    {
     "name": "stderr",
     "output_type": "stream",
     "text": [
      " 96%|█████████▌| 2171/2265 [30:29<01:05,  1.43it/s]"
     ]
    },
    {
     "name": "stdout",
     "output_type": "stream",
     "text": [
      "Images too dissimilar to match: /Users/xieewenz/BunkerHill-CardScanToData/data/03_Trim_Edges/p15799coll8_87903.jpeg\n"
     ]
    },
    {
     "name": "stderr",
     "output_type": "stream",
     "text": [
      "100%|██████████| 2265/2265 [32:09<00:00,  1.17it/s]\n"
     ]
    }
   ],
   "source": [
    "image_dir = DATA_DIR / \"03_Trim_Edges\"\n",
    "output_dir = DATA_DIR / \"04_Matched_Top_Left_Align\"\n",
    "reference_path = PROJECT_ROOT_PATH / \"static/form.jpg\"\n",
    "bad_match_dir = DATA_DIR / \"04_Bad_Match\"\n",
    "os.makedirs(output_dir, exist_ok=True)\n",
    "os.makedirs(bad_match_dir, exist_ok=True)\n",
    "\n",
    "image_list = find_images(image_dir)\n",
    "\n",
    "args_list = [MatchAndCropArgs(image_path=im, reference_path=reference_path, output_dir=output_dir, bad_match_dir=bad_match_dir) for im in sorted(image_list)]\n",
    "\n",
    "with ProcessPoolExecutor() as executor:\n",
    "    list(tqdm(executor.map(match_and_crop_image, args_list), total=len(args_list)))"
   ]
  },
  {
   "cell_type": "code",
   "execution_count": null,
   "id": "af7f5945",
   "metadata": {},
   "outputs": [],
   "source": []
  }
 ],
 "metadata": {
  "kernelspec": {
   "display_name": "Python 3 (ipykernel)",
   "language": "python",
   "name": "python3"
  },
  "language_info": {
   "codemirror_mode": {
    "name": "ipython",
    "version": 3
   },
   "file_extension": ".py",
   "mimetype": "text/x-python",
   "name": "python",
   "nbconvert_exporter": "python",
   "pygments_lexer": "ipython3",
   "version": "3.10.0"
  }
 },
 "nbformat": 4,
 "nbformat_minor": 5
}
