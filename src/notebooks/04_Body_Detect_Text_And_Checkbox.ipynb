{
 "cells": [
  {
   "cell_type": "code",
   "execution_count": 1,
   "id": "bb301414",
   "metadata": {},
   "outputs": [],
   "source": [
    "import os\n",
    "from pathlib import Path\n",
    "\n",
    "import pandas as pd\n",
    "import pickle\n",
    "import numpy as np\n",
    "from PIL import Image\n",
    "from sklearn.model_selection import train_test_split\n",
    "from sklearn.svm import SVC\n",
    "from pydantic import BaseModel\n",
    "from enum import Enum, auto\n",
    "from tqdm import tqdm\n",
    "\n",
    "from src.constants import PROJECT_ROOT_PATH\n",
    "from src.ocr import EngineType\n",
    "from src.region_processing import process_region_segments_ocr, process_region_segments_checkbox\n",
    "\n",
    "pd.set_option('display.max_rows', 20)"
   ]
  },
  {
   "cell_type": "code",
   "execution_count": 2,
   "id": "0c7d7ef8",
   "metadata": {},
   "outputs": [],
   "source": [
    "class SegmentType(str, Enum):\n",
    "    OCR = \"ocr\"\n",
    "    CHECKBOX = \"checkbox\"\n",
    "\n",
    "\n",
    "class ProcessSegmentParams(BaseModel):\n",
    "    base_path: Path\n",
    "    segment_type: SegmentType\n",
    "    skip_folders: list[str]\n",
    "    default_fillna: str = 'SCAN ERROR / NO PREDICTION'\n"
   ]
  },
  {
   "cell_type": "code",
   "execution_count": 3,
   "id": "a3cee61b",
   "metadata": {},
   "outputs": [],
   "source": [
    "all_data_path = PROJECT_ROOT_PATH / \"data/WPA_Bunker_Hill_Curated.xlsx\"\n",
    "all_data = pd.read_excel(all_data_path)"
   ]
  },
  {
   "cell_type": "code",
   "execution_count": 4,
   "id": "118b94a4",
   "metadata": {},
   "outputs": [],
   "source": [
    "classifier = PROJECT_ROOT_PATH / 'static/checkbox_model_2.pkl'\n",
    "\n",
    "segment_params = [\n",
    "    ProcessSegmentParams(base_path=PROJECT_ROOT_PATH / \"data/06_Segments/heating\", segment_type=SegmentType.CHECKBOX, skip_folders=[]),\n",
    "    ProcessSegmentParams(base_path=PROJECT_ROOT_PATH / \"data/06_Segments/race\", segment_type=SegmentType.CHECKBOX, skip_folders=[]),\n",
    "    ProcessSegmentParams(base_path=PROJECT_ROOT_PATH / \"data/06_Segments/rent\", segment_type=SegmentType.OCR, skip_folders=[]),\n",
    "    ProcessSegmentParams(base_path=PROJECT_ROOT_PATH / \"data/06_Segments/roomers\", segment_type=SegmentType.OCR, skip_folders=[]),\n",
    "    ProcessSegmentParams(base_path=PROJECT_ROOT_PATH / \"data/06_Segments/business_units\", segment_type=SegmentType.CHECKBOX, skip_folders=[\"num\"], default_fillna=\"yes\"),\n",
    "    ProcessSegmentParams(base_path=PROJECT_ROOT_PATH / \"data/06_Segments/business_units\", segment_type=SegmentType.OCR, skip_folders=[\"none\"], default_fillna=\"none\"),\n",
    "    ProcessSegmentParams(base_path=PROJECT_ROOT_PATH / \"data/06_Segments/basement\", segment_type=SegmentType.CHECKBOX, skip_folders=[]),\n",
    "    ProcessSegmentParams(base_path=PROJECT_ROOT_PATH / \"data/06_Segments/bath\", segment_type=SegmentType.OCR, skip_folders=[]),\n",
    "    ProcessSegmentParams(base_path=PROJECT_ROOT_PATH / \"data/06_Segments/condition\", segment_type=SegmentType.CHECKBOX, skip_folders=[]),\n",
    "    ProcessSegmentParams(base_path=PROJECT_ROOT_PATH / \"data/06_Segments/converted\", segment_type=SegmentType.OCR, skip_folders=[]),\n",
    "    ProcessSegmentParams(base_path=PROJECT_ROOT_PATH / \"data/06_Segments/cooking\", segment_type=SegmentType.CHECKBOX, skip_folders=[]),\n",
    "    ProcessSegmentParams(base_path=PROJECT_ROOT_PATH / \"data/06_Segments/duration\", segment_type=SegmentType.OCR, skip_folders=[]),\n",
    "    ProcessSegmentParams(base_path=PROJECT_ROOT_PATH / \"data/06_Segments/encumbrance\", segment_type=SegmentType.CHECKBOX, skip_folders=[], default_fillna=\"\"),\n",
    "    ProcessSegmentParams(base_path=PROJECT_ROOT_PATH / \"data/06_Segments/ext_material\", segment_type=SegmentType.CHECKBOX, skip_folders=[]),\n",
    "    ProcessSegmentParams(base_path=PROJECT_ROOT_PATH / \"data/06_Segments/extra_families\", segment_type=SegmentType.OCR, skip_folders=[]),\n",
    "    ProcessSegmentParams(base_path=PROJECT_ROOT_PATH / \"data/06_Segments/garage\", segment_type=SegmentType.CHECKBOX, skip_folders=[]),\n",
    "    ProcessSegmentParams(base_path=PROJECT_ROOT_PATH / \"data/06_Segments/included_in_rent\", segment_type=SegmentType.CHECKBOX, skip_folders=[]),\n",
    "    ProcessSegmentParams(base_path=PROJECT_ROOT_PATH / \"data/06_Segments/lighting\", segment_type=SegmentType.CHECKBOX, skip_folders=[]),\n",
    "    ProcessSegmentParams(base_path=PROJECT_ROOT_PATH / \"data/06_Segments/major_structures\", segment_type=SegmentType.OCR, skip_folders=[]),\n",
    "    ProcessSegmentParams(base_path=PROJECT_ROOT_PATH / \"data/06_Segments/number_and_age\", segment_type=SegmentType.OCR, skip_folders=[]),\n",
    "    ProcessSegmentParams(base_path=PROJECT_ROOT_PATH / \"data/06_Segments/occupancy\", segment_type=SegmentType.CHECKBOX, skip_folders=[]),\n",
    "    # ProcessSegmentParams(base_path=PROJECT_ROOT_PATH / \"data/06_Segments/office\", segment_type=SegmentType.OCR, skip_folders=[]),\n",
    "    ProcessSegmentParams(base_path=PROJECT_ROOT_PATH / \"data/06_Segments/refrig\", segment_type=SegmentType.CHECKBOX, skip_folders=[]),\n",
    "    ProcessSegmentParams(base_path=PROJECT_ROOT_PATH / \"data/06_Segments/stories\", segment_type=SegmentType.OCR, skip_folders=[]),\n",
    "    ProcessSegmentParams(base_path=PROJECT_ROOT_PATH / \"data/06_Segments/structure\", segment_type=SegmentType.CHECKBOX, skip_folders=[], default_fillna=\"other\"),\n",
    "    ProcessSegmentParams(base_path=PROJECT_ROOT_PATH / \"data/06_Segments/structure_text\", segment_type=SegmentType.OCR, skip_folders=[]),\n",
    "    ProcessSegmentParams(base_path=PROJECT_ROOT_PATH / \"data/06_Segments/toilets\", segment_type=SegmentType.OCR, skip_folders=[]),\n",
    "    ProcessSegmentParams(base_path=PROJECT_ROOT_PATH / \"data/06_Segments/total_rooms\", segment_type=SegmentType.OCR, skip_folders=[]),\n",
    "    ProcessSegmentParams(base_path=PROJECT_ROOT_PATH / \"data/06_Segments/value\", segment_type=SegmentType.OCR, skip_folders=[]),\n",
    "    ProcessSegmentParams(base_path=PROJECT_ROOT_PATH / \"data/06_Segments/water\", segment_type=SegmentType.CHECKBOX, skip_folders=[]),\n",
    "    ProcessSegmentParams(base_path=PROJECT_ROOT_PATH / \"data/06_Segments/year_built\", segment_type=SegmentType.OCR, skip_folders=[]),\n",
    "]"
   ]
  },
  {
   "cell_type": "code",
   "execution_count": 5,
   "id": "47dd5d6b",
   "metadata": {},
   "outputs": [
    {
     "name": "stderr",
     "output_type": "stream",
     "text": [
      "  0%|          | 0/30 [00:00<?, ?it/s]"
     ]
    },
    {
     "name": "stderr",
     "output_type": "stream",
     "text": [
      "Processing images: 100%|██████████| 8716/8716 [00:06<00:00, 1352.99it/s]\n"
     ]
    },
    {
     "name": "stdout",
     "output_type": "stream",
     "text": [
      "heating segment processed data head:\n",
      "                                           heating\n",
      "p15799coll8_75836.jpeg     cent_steam_or_hot_water\n",
      "p15799coll8_79403.jpeg                        none\n",
      "p15799coll8_13025.jpeg                        none\n",
      "p15799coll8_92298.jpeg     cent_steam_or_hot_water\n",
      "p15799coll8_44403.jpg   SCAN ERROR / NO PREDICTION\n",
      "                                           heating  match_ids\n",
      "p15799coll8_75836.jpeg     cent_steam_or_hot_water      75836\n",
      "p15799coll8_79403.jpeg                        none      79403\n",
      "p15799coll8_13025.jpeg                        none      13025\n",
      "p15799coll8_92298.jpeg     cent_steam_or_hot_water      92298\n",
      "p15799coll8_44403.jpg   SCAN ERROR / NO PREDICTION      44403\n"
     ]
    },
    {
     "name": "stderr",
     "output_type": "stream",
     "text": [
      "  3%|▎         | 1/30 [00:10<05:17, 10.95s/it]"
     ]
    },
    {
     "name": "stdout",
     "output_type": "stream",
     "text": [
      "Data saved to /Users/xieewenz/BunkerHill-CardScanToData/data/WPA_Bunker_Hill_Curated_Updated.xlsx\n"
     ]
    },
    {
     "name": "stderr",
     "output_type": "stream",
     "text": [
      "Processing images: 100%|██████████| 10697/10697 [00:06<00:00, 1677.35it/s]\n"
     ]
    },
    {
     "name": "stdout",
     "output_type": "stream",
     "text": [
      "race segment processed data head:\n",
      "                         race\n",
      "p15799coll8_3710.jpeg   white\n",
      "p15799coll8_79403.jpeg  white\n",
      "p15799coll8_13025.jpeg  white\n",
      "p15799coll8_92298.jpeg  white\n",
      "p15799coll8_44403.jpg   white\n",
      "                         race  match_ids\n",
      "p15799coll8_3710.jpeg   white       3710\n",
      "p15799coll8_79403.jpeg  white      79403\n",
      "p15799coll8_13025.jpeg  white      13025\n",
      "p15799coll8_92298.jpeg  white      92298\n",
      "p15799coll8_44403.jpg   white      44403\n"
     ]
    },
    {
     "name": "stderr",
     "output_type": "stream",
     "text": [
      "  7%|▋         | 2/30 [00:22<05:10, 11.11s/it]"
     ]
    },
    {
     "name": "stdout",
     "output_type": "stream",
     "text": [
      "Data saved to /Users/xieewenz/BunkerHill-CardScanToData/data/WPA_Bunker_Hill_Curated_Updated.xlsx\n"
     ]
    },
    {
     "name": "stderr",
     "output_type": "stream",
     "text": [
      "Processing OCR: 100%|██████████| 2179/2179 [08:32<00:00,  4.25it/s]\n"
     ]
    },
    {
     "name": "stdout",
     "output_type": "stream",
     "text": [
      "rent segment processed data head:\n",
      "                       rent.num\n",
      "p15799coll8_30529.jpeg       23\n",
      "p15799coll8_75836.jpeg      100\n",
      "p15799coll8_14426.jpeg      900\n",
      "p15799coll8_3710.jpeg      4500\n",
      "p15799coll8_49866.jpg      1700\n",
      "                       rent.num  match_ids\n",
      "p15799coll8_30529.jpeg       23      30529\n",
      "p15799coll8_75836.jpeg      100      75836\n",
      "p15799coll8_14426.jpeg      900      14426\n",
      "p15799coll8_3710.jpeg      4500       3710\n",
      "p15799coll8_49866.jpg      1700      49866\n"
     ]
    },
    {
     "name": "stderr",
     "output_type": "stream",
     "text": [
      " 10%|█         | 3/30 [08:58<1:48:52, 241.95s/it]"
     ]
    },
    {
     "name": "stdout",
     "output_type": "stream",
     "text": [
      "Data saved to /Users/xieewenz/BunkerHill-CardScanToData/data/WPA_Bunker_Hill_Curated_Updated.xlsx\n"
     ]
    },
    {
     "name": "stderr",
     "output_type": "stream",
     "text": [
      "Processing OCR: 100%|██████████| 2179/2179 [09:00<00:00,  4.03it/s]\n"
     ]
    },
    {
     "name": "stdout",
     "output_type": "stream",
     "text": [
      "roomers segment processed data head:\n",
      "                       roomers.roomers\n",
      "p15799coll8_14426.jpeg              -0\n",
      "p15799coll8_75836.jpeg               0\n",
      "p15799coll8_3710.jpeg               -0\n",
      "p15799coll8_49866.jpg                0\n",
      "p15799coll8_3655.jpeg            MULES\n",
      "                       roomers.roomers  match_ids\n",
      "p15799coll8_14426.jpeg              -0      14426\n",
      "p15799coll8_75836.jpeg               0      75836\n",
      "p15799coll8_3710.jpeg               -0       3710\n",
      "p15799coll8_49866.jpg                0      49866\n",
      "p15799coll8_3655.jpeg            MULES       3655\n"
     ]
    },
    {
     "name": "stderr",
     "output_type": "stream",
     "text": [
      " 13%|█▎        | 4/30 [18:03<2:36:38, 361.48s/it]"
     ]
    },
    {
     "name": "stdout",
     "output_type": "stream",
     "text": [
      "Data saved to /Users/xieewenz/BunkerHill-CardScanToData/data/WPA_Bunker_Hill_Curated_Updated.xlsx\n"
     ]
    },
    {
     "name": "stderr",
     "output_type": "stream",
     "text": [
      "Processing images: 100%|██████████| 2179/2179 [00:05<00:00, 426.35it/s] \n"
     ]
    },
    {
     "name": "stdout",
     "output_type": "stream",
     "text": [
      "business_units segment processed data head:\n",
      "                       business_units\n",
      "p15799coll8_49866.jpg            none\n",
      "p15799coll8_75836.jpeg           none\n",
      "p15799coll8_3655.jpeg             yes\n",
      "p15799coll8_30529.jpeg           none\n",
      "p15799coll8_75973.jpeg           none\n",
      "                       business_units  match_ids\n",
      "p15799coll8_49866.jpg            none      49866\n",
      "p15799coll8_75836.jpeg           none      75836\n",
      "p15799coll8_3655.jpeg             yes       3655\n",
      "p15799coll8_30529.jpeg           none      30529\n",
      "p15799coll8_75973.jpeg           none      75973\n"
     ]
    },
    {
     "name": "stderr",
     "output_type": "stream",
     "text": [
      " 17%|█▋        | 5/30 [18:12<1:37:43, 234.53s/it]"
     ]
    },
    {
     "name": "stdout",
     "output_type": "stream",
     "text": [
      "Data saved to /Users/xieewenz/BunkerHill-CardScanToData/data/WPA_Bunker_Hill_Curated_Updated.xlsx\n"
     ]
    },
    {
     "name": "stderr",
     "output_type": "stream",
     "text": [
      "Processing OCR: 100%|██████████| 2179/2179 [08:59<00:00,  4.04it/s]\n"
     ]
    },
    {
     "name": "stdout",
     "output_type": "stream",
     "text": [
      "business_units segment processed data head:\n",
      "                       business_units.num\n",
      "p15799coll8_3710.jpeg                   -\n",
      "p15799coll8_14426.jpeg                  -\n",
      "p15799coll8_75836.jpeg                  -\n",
      "p15799coll8_30529.jpeg                  -\n",
      "p15799coll8_3655.jpeg                   -\n",
      "                       business_units.num  match_ids\n",
      "p15799coll8_3710.jpeg                   -       3710\n",
      "p15799coll8_14426.jpeg                  -      14426\n",
      "p15799coll8_75836.jpeg                  -      75836\n",
      "p15799coll8_30529.jpeg                  -      30529\n",
      "p15799coll8_3655.jpeg                   -       3655\n"
     ]
    },
    {
     "name": "stderr",
     "output_type": "stream",
     "text": [
      " 20%|██        | 6/30 [27:17<2:15:55, 339.83s/it]"
     ]
    },
    {
     "name": "stdout",
     "output_type": "stream",
     "text": [
      "Data saved to /Users/xieewenz/BunkerHill-CardScanToData/data/WPA_Bunker_Hill_Curated_Updated.xlsx\n"
     ]
    },
    {
     "name": "stderr",
     "output_type": "stream",
     "text": [
      "Processing images: 100%|██████████| 4358/4358 [00:05<00:00, 731.16it/s] \n"
     ]
    },
    {
     "name": "stdout",
     "output_type": "stream",
     "text": [
      "basement segment processed data head:\n",
      "                       basement\n",
      "p15799coll8_30529.jpeg       no\n",
      "p15799coll8_75973.jpeg       no\n",
      "p15799coll8_14426.jpeg       no\n",
      "p15799coll8_87649.jpeg       no\n",
      "p15799coll8_75836.jpeg       no\n",
      "                       basement  match_ids\n",
      "p15799coll8_30529.jpeg       no      30529\n",
      "p15799coll8_75973.jpeg       no      75973\n",
      "p15799coll8_14426.jpeg       no      14426\n",
      "p15799coll8_87649.jpeg       no      87649\n",
      "p15799coll8_75836.jpeg       no      75836\n"
     ]
    },
    {
     "name": "stderr",
     "output_type": "stream",
     "text": [
      " 23%|██▎       | 7/30 [27:27<1:29:00, 232.21s/it]"
     ]
    },
    {
     "name": "stdout",
     "output_type": "stream",
     "text": [
      "Data saved to /Users/xieewenz/BunkerHill-CardScanToData/data/WPA_Bunker_Hill_Curated_Updated.xlsx\n"
     ]
    },
    {
     "name": "stderr",
     "output_type": "stream",
     "text": [
      "Processing OCR: 100%|██████████| 2179/2179 [08:53<00:00,  4.08it/s]\n"
     ]
    },
    {
     "name": "stdout",
     "output_type": "stream",
     "text": [
      "bath segment processed data head:\n",
      "                       bath.num\n",
      "p15799coll8_75836.jpeg       13\n",
      "p15799coll8_14426.jpeg        4\n",
      "p15799coll8_87649.jpeg      1it\n",
      "p15799coll8_3655.jpeg         =\n",
      "p15799coll8_49866.jpg         L\n",
      "                       bath.num  match_ids\n",
      "p15799coll8_75836.jpeg       13      75836\n",
      "p15799coll8_14426.jpeg        4      14426\n",
      "p15799coll8_87649.jpeg      1it      87649\n",
      "p15799coll8_3655.jpeg         =       3655\n",
      "p15799coll8_49866.jpg         L      49866\n"
     ]
    },
    {
     "name": "stderr",
     "output_type": "stream",
     "text": [
      " 27%|██▋       | 8/30 [36:26<2:00:51, 329.63s/it]"
     ]
    },
    {
     "name": "stdout",
     "output_type": "stream",
     "text": [
      "Data saved to /Users/xieewenz/BunkerHill-CardScanToData/data/WPA_Bunker_Hill_Curated_Updated.xlsx\n"
     ]
    },
    {
     "name": "stderr",
     "output_type": "stream",
     "text": [
      "Processing images: 100%|██████████| 10895/10895 [00:09<00:00, 1147.21it/s]\n"
     ]
    },
    {
     "name": "stdout",
     "output_type": "stream",
     "text": [
      "condition segment processed data head:\n",
      "                                condition\n",
      "p15799coll8_30529.jpeg       major_repair\n",
      "p15799coll8_75973.jpeg       minor_repair\n",
      "p15799coll8_3655.jpeg   good;minor_repair\n",
      "p15799coll8_87649.jpeg               good\n",
      "p15799coll8_75836.jpeg               good\n",
      "                                condition  match_ids\n",
      "p15799coll8_30529.jpeg       major_repair      30529\n",
      "p15799coll8_75973.jpeg       minor_repair      75973\n",
      "p15799coll8_3655.jpeg   good;minor_repair       3655\n",
      "p15799coll8_87649.jpeg               good      87649\n",
      "p15799coll8_75836.jpeg               good      75836\n"
     ]
    },
    {
     "name": "stderr",
     "output_type": "stream",
     "text": [
      " 30%|███       | 9/30 [36:40<1:20:53, 231.12s/it]"
     ]
    },
    {
     "name": "stdout",
     "output_type": "stream",
     "text": [
      "Data saved to /Users/xieewenz/BunkerHill-CardScanToData/data/WPA_Bunker_Hill_Curated_Updated.xlsx\n"
     ]
    },
    {
     "name": "stderr",
     "output_type": "stream",
     "text": [
      "Processing OCR: 100%|██████████| 4351/4351 [18:31<00:00,  3.92it/s]\n"
     ]
    },
    {
     "name": "stdout",
     "output_type": "stream",
     "text": [
      "converted segment processed data head:\n",
      "                       converted.orig_type converted.year\n",
      "p15799coll8_3710.jpeg                    -              -\n",
      "p15799coll8_49866.jpg                    7           1935\n",
      "p15799coll8_3655.jpeg                    -              -\n",
      "p15799coll8_13025.jpeg                   2            193\n",
      "p15799coll8_12634.jpeg                   L           1910\n",
      "                       converted.orig_type converted.year  match_ids\n",
      "p15799coll8_3710.jpeg                    -              -       3710\n",
      "p15799coll8_49866.jpg                    7           1935      49866\n",
      "p15799coll8_3655.jpeg                    -              -       3655\n",
      "p15799coll8_13025.jpeg                   2            193      13025\n",
      "p15799coll8_12634.jpeg                   L           1910      12634\n"
     ]
    },
    {
     "name": "stderr",
     "output_type": "stream",
     "text": [
      " 33%|███▎      | 10/30 [55:16<2:48:07, 504.38s/it]"
     ]
    },
    {
     "name": "stdout",
     "output_type": "stream",
     "text": [
      "Data saved to /Users/xieewenz/BunkerHill-CardScanToData/data/WPA_Bunker_Hill_Curated_Updated.xlsx\n"
     ]
    },
    {
     "name": "stderr",
     "output_type": "stream",
     "text": [
      "Processing images: 100%|██████████| 8653/8653 [00:07<00:00, 1124.60it/s]\n"
     ]
    },
    {
     "name": "stdout",
     "output_type": "stream",
     "text": [
      "cooking segment processed data head:\n",
      "                                   cooking\n",
      "p15799coll8_87649.jpeg                 gas\n",
      "p15799coll8_3710.jpeg   none_installed;gas\n",
      "p15799coll8_14426.jpeg                 gas\n",
      "p15799coll8_75973.jpeg                 gas\n",
      "p15799coll8_79403.jpeg      none_installed\n",
      "                                   cooking  match_ids\n",
      "p15799coll8_87649.jpeg                 gas      87649\n",
      "p15799coll8_3710.jpeg   none_installed;gas       3710\n",
      "p15799coll8_14426.jpeg                 gas      14426\n",
      "p15799coll8_75973.jpeg                 gas      75973\n",
      "p15799coll8_79403.jpeg      none_installed      79403\n"
     ]
    },
    {
     "name": "stderr",
     "output_type": "stream",
     "text": [
      " 37%|███▋      | 11/30 [55:29<1:52:04, 353.92s/it]"
     ]
    },
    {
     "name": "stdout",
     "output_type": "stream",
     "text": [
      "Data saved to /Users/xieewenz/BunkerHill-CardScanToData/data/WPA_Bunker_Hill_Curated_Updated.xlsx\n"
     ]
    },
    {
     "name": "stderr",
     "output_type": "stream",
     "text": [
      "Processing OCR: 100%|██████████| 8716/8716 [39:28<00:00,  3.68it/s]\n"
     ]
    },
    {
     "name": "stdout",
     "output_type": "stream",
     "text": [
      "duration segment processed data head:\n",
      "                       duration.vacancy_mos duration.vacancy_yrs  \\\n",
      "p15799coll8_75836.jpeg                    -                    -   \n",
      "p15799coll8_3710.jpeg                     -                    -   \n",
      "p15799coll8_14426.jpeg                    -                    -   \n",
      "p15799coll8_3655.jpeg                     -               Y RENT   \n",
      "p15799coll8_79403.jpeg                    -                    -   \n",
      "\n",
      "                                duration.lived_yrs duration.lived_mos  \n",
      "p15799coll8_75836.jpeg  SCAN ERROR / NO PREDICTION                  2  \n",
      "p15799coll8_3710.jpeg                            L                  6  \n",
      "p15799coll8_14426.jpeg                           L                  C  \n",
      "p15799coll8_3655.jpeg                        not v                 cy  \n",
      "p15799coll8_79403.jpeg  SCAN ERROR / NO PREDICTION                  b  \n",
      "                       duration.vacancy_mos duration.vacancy_yrs  \\\n",
      "p15799coll8_75836.jpeg                    -                    -   \n",
      "p15799coll8_3710.jpeg                     -                    -   \n",
      "p15799coll8_14426.jpeg                    -                    -   \n",
      "p15799coll8_3655.jpeg                     -               Y RENT   \n",
      "p15799coll8_79403.jpeg                    -                    -   \n",
      "\n",
      "                                duration.lived_yrs duration.lived_mos  \\\n",
      "p15799coll8_75836.jpeg  SCAN ERROR / NO PREDICTION                  2   \n",
      "p15799coll8_3710.jpeg                            L                  6   \n",
      "p15799coll8_14426.jpeg                           L                  C   \n",
      "p15799coll8_3655.jpeg                        not v                 cy   \n",
      "p15799coll8_79403.jpeg  SCAN ERROR / NO PREDICTION                  b   \n",
      "\n",
      "                        match_ids  \n",
      "p15799coll8_75836.jpeg      75836  \n",
      "p15799coll8_3710.jpeg        3710  \n",
      "p15799coll8_14426.jpeg      14426  \n",
      "p15799coll8_3655.jpeg        3655  \n",
      "p15799coll8_79403.jpeg      79403  \n"
     ]
    },
    {
     "name": "stderr",
     "output_type": "stream",
     "text": [
      " 40%|████      | 12/30 [1:35:03<4:50:33, 968.54s/it]"
     ]
    },
    {
     "name": "stdout",
     "output_type": "stream",
     "text": [
      "Data saved to /Users/xieewenz/BunkerHill-CardScanToData/data/WPA_Bunker_Hill_Curated_Updated.xlsx\n"
     ]
    },
    {
     "name": "stderr",
     "output_type": "stream",
     "text": [
      "Processing images: 100%|██████████| 4358/4358 [00:05<00:00, 746.36it/s] \n"
     ]
    },
    {
     "name": "stdout",
     "output_type": "stream",
     "text": [
      "encumbrance segment processed data head:\n",
      "                           encumbrance\n",
      "p15799coll8_49866.jpg                 \n",
      "p15799coll8_3655.jpeg   no_encumbrance\n",
      "p15799coll8_75973.jpeg                \n",
      "p15799coll8_87649.jpeg                \n",
      "p15799coll8_75836.jpeg                \n",
      "                           encumbrance  match_ids\n",
      "p15799coll8_49866.jpg                       49866\n",
      "p15799coll8_3655.jpeg   no_encumbrance       3655\n",
      "p15799coll8_75973.jpeg                      75973\n",
      "p15799coll8_87649.jpeg                      87649\n",
      "p15799coll8_75836.jpeg                      75836\n"
     ]
    },
    {
     "name": "stderr",
     "output_type": "stream",
     "text": [
      " 43%|████▎     | 13/30 [1:35:14<3:12:13, 678.42s/it]"
     ]
    },
    {
     "name": "stdout",
     "output_type": "stream",
     "text": [
      "Data saved to /Users/xieewenz/BunkerHill-CardScanToData/data/WPA_Bunker_Hill_Curated_Updated.xlsx\n"
     ]
    },
    {
     "name": "stderr",
     "output_type": "stream",
     "text": [
      "Processing images: 100%|██████████| 10895/10895 [00:08<00:00, 1284.49it/s]\n"
     ]
    },
    {
     "name": "stdout",
     "output_type": "stream",
     "text": [
      "ext_material segment processed data head:\n",
      "                       ext_material\n",
      "p15799coll8_75836.jpeg        brick\n",
      "p15799coll8_79403.jpeg         wood\n",
      "p15799coll8_13025.jpeg         wood\n",
      "p15799coll8_92298.jpeg        brick\n",
      "p15799coll8_3710.jpeg         brick\n",
      "                       ext_material  match_ids\n",
      "p15799coll8_75836.jpeg        brick      75836\n",
      "p15799coll8_79403.jpeg         wood      79403\n",
      "p15799coll8_13025.jpeg         wood      13025\n",
      "p15799coll8_92298.jpeg        brick      92298\n",
      "p15799coll8_3710.jpeg         brick       3710\n"
     ]
    },
    {
     "name": "stderr",
     "output_type": "stream",
     "text": [
      " 47%|████▋     | 14/30 [1:35:28<2:07:23, 477.73s/it]"
     ]
    },
    {
     "name": "stdout",
     "output_type": "stream",
     "text": [
      "Data saved to /Users/xieewenz/BunkerHill-CardScanToData/data/WPA_Bunker_Hill_Curated_Updated.xlsx\n"
     ]
    },
    {
     "name": "stderr",
     "output_type": "stream",
     "text": [
      "Processing OCR: 100%|██████████| 4319/4319 [18:08<00:00,  3.97it/s]\n"
     ]
    },
    {
     "name": "stdout",
     "output_type": "stream",
     "text": [
      "extra_families segment processed data head:\n",
      "                       extra_families.num_fam  extra_families.num_persons\n",
      "p15799coll8_14426.jpeg                      0  SCAN ERROR / NO PREDICTION\n",
      "p15799coll8_75836.jpeg                      0                           -\n",
      "p15799coll8_3710.jpeg                       0  SCAN ERROR / NO PREDICTION\n",
      "p15799coll8_30529.jpeg                      O  SCAN ERROR / NO PREDICTION\n",
      "p15799coll8_3655.jpeg                       -  SCAN ERROR / NO PREDICTION\n",
      "                       extra_families.num_fam  extra_families.num_persons  \\\n",
      "p15799coll8_14426.jpeg                      0  SCAN ERROR / NO PREDICTION   \n",
      "p15799coll8_75836.jpeg                      0                           -   \n",
      "p15799coll8_3710.jpeg                       0  SCAN ERROR / NO PREDICTION   \n",
      "p15799coll8_30529.jpeg                      O  SCAN ERROR / NO PREDICTION   \n",
      "p15799coll8_3655.jpeg                       -  SCAN ERROR / NO PREDICTION   \n",
      "\n",
      "                        match_ids  \n",
      "p15799coll8_14426.jpeg      14426  \n",
      "p15799coll8_75836.jpeg      75836  \n",
      "p15799coll8_3710.jpeg        3710  \n",
      "p15799coll8_30529.jpeg      30529  \n",
      "p15799coll8_3655.jpeg        3655  \n"
     ]
    },
    {
     "name": "stderr",
     "output_type": "stream",
     "text": [
      " 50%|█████     | 15/30 [1:53:42<2:45:52, 663.50s/it]"
     ]
    },
    {
     "name": "stdout",
     "output_type": "stream",
     "text": [
      "Data saved to /Users/xieewenz/BunkerHill-CardScanToData/data/WPA_Bunker_Hill_Curated_Updated.xlsx\n"
     ]
    },
    {
     "name": "stderr",
     "output_type": "stream",
     "text": [
      "Processing images: 100%|██████████| 4312/4312 [00:05<00:00, 722.72it/s] \n"
     ]
    },
    {
     "name": "stdout",
     "output_type": "stream",
     "text": [
      "garage segment processed data head:\n",
      "                       garage\n",
      "p15799coll8_3710.jpeg      no\n",
      "p15799coll8_14426.jpeg     no\n",
      "p15799coll8_75973.jpeg     no\n",
      "p15799coll8_49866.jpg      no\n",
      "p15799coll8_30529.jpeg     no\n",
      "                       garage  match_ids\n",
      "p15799coll8_3710.jpeg      no       3710\n",
      "p15799coll8_14426.jpeg     no      14426\n",
      "p15799coll8_75973.jpeg     no      75973\n",
      "p15799coll8_49866.jpg      no      49866\n",
      "p15799coll8_30529.jpeg     no      30529\n"
     ]
    },
    {
     "name": "stderr",
     "output_type": "stream",
     "text": [
      " 53%|█████▎    | 16/30 [1:53:53<1:49:00, 467.16s/it]"
     ]
    },
    {
     "name": "stdout",
     "output_type": "stream",
     "text": [
      "Data saved to /Users/xieewenz/BunkerHill-CardScanToData/data/WPA_Bunker_Hill_Curated_Updated.xlsx\n"
     ]
    },
    {
     "name": "stderr",
     "output_type": "stream",
     "text": [
      "Processing images: 100%|██████████| 17425/17425 [00:10<00:00, 1599.92it/s]\n"
     ]
    },
    {
     "name": "stdout",
     "output_type": "stream",
     "text": [
      "included_in_rent segment processed data head:\n",
      "                                                         included_in_rent\n",
      "p15799coll8_3710.jpeg   hot_water;heat;refrig_fuel;refrig;furniture;co...\n",
      "p15799coll8_79403.jpeg                     hot_water;heat;furniture;light\n",
      "p15799coll8_13025.jpeg           hot_water;heat;furniture;cook_fuel;light\n",
      "p15799coll8_92298.jpeg  hot_water;heat;refrig_fuel;refrig;furniture;co...\n",
      "p15799coll8_44403.jpg                                 furniture;cook_fuel\n",
      "                                                         included_in_rent  \\\n",
      "p15799coll8_3710.jpeg   hot_water;heat;refrig_fuel;refrig;furniture;co...   \n",
      "p15799coll8_79403.jpeg                     hot_water;heat;furniture;light   \n",
      "p15799coll8_13025.jpeg           hot_water;heat;furniture;cook_fuel;light   \n",
      "p15799coll8_92298.jpeg  hot_water;heat;refrig_fuel;refrig;furniture;co...   \n",
      "p15799coll8_44403.jpg                                 furniture;cook_fuel   \n",
      "\n",
      "                        match_ids  \n",
      "p15799coll8_3710.jpeg        3710  \n",
      "p15799coll8_79403.jpeg      79403  \n",
      "p15799coll8_13025.jpeg      13025  \n",
      "p15799coll8_92298.jpeg      92298  \n",
      "p15799coll8_44403.jpg       44403  \n"
     ]
    },
    {
     "name": "stderr",
     "output_type": "stream",
     "text": [
      " 57%|█████▋    | 17/30 [1:54:11<1:11:54, 331.87s/it]"
     ]
    },
    {
     "name": "stdout",
     "output_type": "stream",
     "text": [
      "Data saved to /Users/xieewenz/BunkerHill-CardScanToData/data/WPA_Bunker_Hill_Curated_Updated.xlsx\n"
     ]
    },
    {
     "name": "stderr",
     "output_type": "stream",
     "text": [
      "Processing images: 100%|██████████| 6537/6537 [00:05<00:00, 1128.37it/s]\n"
     ]
    },
    {
     "name": "stdout",
     "output_type": "stream",
     "text": [
      "lighting segment processed data head:\n",
      "                        lighting\n",
      "p15799coll8_14426.jpeg  electric\n",
      "p15799coll8_79403.jpeg  electric\n",
      "p15799coll8_13025.jpeg  electric\n",
      "p15799coll8_92298.jpeg  electric\n",
      "p15799coll8_75836.jpeg  electric\n",
      "                        lighting  match_ids\n",
      "p15799coll8_14426.jpeg  electric      14426\n",
      "p15799coll8_79403.jpeg  electric      79403\n",
      "p15799coll8_13025.jpeg  electric      13025\n",
      "p15799coll8_92298.jpeg  electric      92298\n",
      "p15799coll8_75836.jpeg  electric      75836\n"
     ]
    },
    {
     "name": "stderr",
     "output_type": "stream",
     "text": [
      " 60%|██████    | 18/30 [1:54:22<47:07, 235.64s/it]  "
     ]
    },
    {
     "name": "stdout",
     "output_type": "stream",
     "text": [
      "Data saved to /Users/xieewenz/BunkerHill-CardScanToData/data/WPA_Bunker_Hill_Curated_Updated.xlsx\n"
     ]
    },
    {
     "name": "stderr",
     "output_type": "stream",
     "text": [
      "Processing OCR: 100%|██████████| 2179/2179 [08:56<00:00,  4.06it/s]\n"
     ]
    },
    {
     "name": "stdout",
     "output_type": "stream",
     "text": [
      "major_structures segment processed data head:\n",
      "                       major_structures.num\n",
      "p15799coll8_75836.jpeg                    -\n",
      "p15799coll8_14426.jpeg                    -\n",
      "p15799coll8_30529.jpeg                    -\n",
      "p15799coll8_49866.jpg                     -\n",
      "p15799coll8_87649.jpeg                    -\n",
      "                       major_structures.num  match_ids\n",
      "p15799coll8_75836.jpeg                    -      75836\n",
      "p15799coll8_14426.jpeg                    -      14426\n",
      "p15799coll8_30529.jpeg                    -      30529\n",
      "p15799coll8_49866.jpg                     -      49866\n",
      "p15799coll8_87649.jpeg                    -      87649\n"
     ]
    },
    {
     "name": "stderr",
     "output_type": "stream",
     "text": [
      " 63%|██████▎   | 19/30 [2:03:25<1:00:06, 327.82s/it]"
     ]
    },
    {
     "name": "stdout",
     "output_type": "stream",
     "text": [
      "Data saved to /Users/xieewenz/BunkerHill-CardScanToData/data/WPA_Bunker_Hill_Curated_Updated.xlsx\n"
     ]
    },
    {
     "name": "stderr",
     "output_type": "stream",
     "text": [
      "Processing OCR: 100%|██████████| 17296/17296 [1:31:48<00:00,  3.14it/s]\n"
     ]
    },
    {
     "name": "stdout",
     "output_type": "stream",
     "text": [
      "number_and_age segment processed data head:\n",
      "                       number_and_age.20_64 number_and_age.5_9  \\\n",
      "p15799coll8_3710.jpeg                     3                  -   \n",
      "p15799coll8_14426.jpeg                    -                  -   \n",
      "p15799coll8_75836.jpeg                    O                  -   \n",
      "p15799coll8_49866.jpg                     2                  -   \n",
      "p15799coll8_3655.jpeg                     -                  -   \n",
      "\n",
      "                       number_and_age.65_over      number_and_age.under_1  \\\n",
      "p15799coll8_3710.jpeg                       -  SCAN ERROR / NO PREDICTION   \n",
      "p15799coll8_14426.jpeg                      -  SCAN ERROR / NO PREDICTION   \n",
      "p15799coll8_75836.jpeg                      -  SCAN ERROR / NO PREDICTION   \n",
      "p15799coll8_49866.jpg                       -  SCAN ERROR / NO PREDICTION   \n",
      "p15799coll8_3655.jpeg                      LC                           -   \n",
      "\n",
      "                              number_and_age.10_14  \\\n",
      "p15799coll8_3710.jpeg                            -   \n",
      "p15799coll8_14426.jpeg                           -   \n",
      "p15799coll8_75836.jpeg                           -   \n",
      "p15799coll8_49866.jpg   SCAN ERROR / NO PREDICTION   \n",
      "p15799coll8_3655.jpeg                            2   \n",
      "\n",
      "                                number_and_age.1_4 number_and_age.total  \\\n",
      "p15799coll8_3710.jpeg   SCAN ERROR / NO PREDICTION                    3   \n",
      "p15799coll8_14426.jpeg  SCAN ERROR / NO PREDICTION                    1   \n",
      "p15799coll8_75836.jpeg                           -                    /   \n",
      "p15799coll8_49866.jpg   SCAN ERROR / NO PREDICTION                    R   \n",
      "p15799coll8_3655.jpeg                            -                    =   \n",
      "\n",
      "                              number_and_age.15_19  \n",
      "p15799coll8_3710.jpeg   SCAN ERROR / NO PREDICTION  \n",
      "p15799coll8_14426.jpeg                           -  \n",
      "p15799coll8_75836.jpeg  SCAN ERROR / NO PREDICTION  \n",
      "p15799coll8_49866.jpg                            -  \n",
      "p15799coll8_3655.jpeg                            -  \n",
      "                       number_and_age.20_64 number_and_age.5_9  \\\n",
      "p15799coll8_3710.jpeg                     3                  -   \n",
      "p15799coll8_14426.jpeg                    -                  -   \n",
      "p15799coll8_75836.jpeg                    O                  -   \n",
      "p15799coll8_49866.jpg                     2                  -   \n",
      "p15799coll8_3655.jpeg                     -                  -   \n",
      "\n",
      "                       number_and_age.65_over      number_and_age.under_1  \\\n",
      "p15799coll8_3710.jpeg                       -  SCAN ERROR / NO PREDICTION   \n",
      "p15799coll8_14426.jpeg                      -  SCAN ERROR / NO PREDICTION   \n",
      "p15799coll8_75836.jpeg                      -  SCAN ERROR / NO PREDICTION   \n",
      "p15799coll8_49866.jpg                       -  SCAN ERROR / NO PREDICTION   \n",
      "p15799coll8_3655.jpeg                      LC                           -   \n",
      "\n",
      "                              number_and_age.10_14  \\\n",
      "p15799coll8_3710.jpeg                            -   \n",
      "p15799coll8_14426.jpeg                           -   \n",
      "p15799coll8_75836.jpeg                           -   \n",
      "p15799coll8_49866.jpg   SCAN ERROR / NO PREDICTION   \n",
      "p15799coll8_3655.jpeg                            2   \n",
      "\n",
      "                                number_and_age.1_4 number_and_age.total  \\\n",
      "p15799coll8_3710.jpeg   SCAN ERROR / NO PREDICTION                    3   \n",
      "p15799coll8_14426.jpeg  SCAN ERROR / NO PREDICTION                    1   \n",
      "p15799coll8_75836.jpeg                           -                    /   \n",
      "p15799coll8_49866.jpg   SCAN ERROR / NO PREDICTION                    R   \n",
      "p15799coll8_3655.jpeg                            -                    =   \n",
      "\n",
      "                              number_and_age.15_19  match_ids  \n",
      "p15799coll8_3710.jpeg   SCAN ERROR / NO PREDICTION       3710  \n",
      "p15799coll8_14426.jpeg                           -      14426  \n",
      "p15799coll8_75836.jpeg  SCAN ERROR / NO PREDICTION      75836  \n",
      "p15799coll8_49866.jpg                            -      49866  \n",
      "p15799coll8_3655.jpeg                            -       3655  \n"
     ]
    },
    {
     "name": "stderr",
     "output_type": "stream",
     "text": [
      " 67%|██████▋   | 20/30 [3:35:22<5:14:18, 1885.84s/it]"
     ]
    },
    {
     "name": "stdout",
     "output_type": "stream",
     "text": [
      "Data saved to /Users/xieewenz/BunkerHill-CardScanToData/data/WPA_Bunker_Hill_Curated_Updated.xlsx\n"
     ]
    },
    {
     "name": "stderr",
     "output_type": "stream",
     "text": [
      "Processing images: 100%|██████████| 6537/6537 [00:07<00:00, 931.82it/s] \n"
     ]
    },
    {
     "name": "stdout",
     "output_type": "stream",
     "text": [
      "occupancy segment processed data head:\n",
      "                           occupancy\n",
      "p15799coll8_3655.jpeg   owner;vacant\n",
      "p15799coll8_75836.jpeg        tenant\n",
      "p15799coll8_87649.jpeg        tenant\n",
      "p15799coll8_30529.jpeg        tenant\n",
      "p15799coll8_14426.jpeg        tenant\n",
      "                           occupancy  match_ids\n",
      "p15799coll8_3655.jpeg   owner;vacant       3655\n",
      "p15799coll8_75836.jpeg        tenant      75836\n",
      "p15799coll8_87649.jpeg        tenant      87649\n",
      "p15799coll8_30529.jpeg        tenant      30529\n",
      "p15799coll8_14426.jpeg        tenant      14426\n"
     ]
    },
    {
     "name": "stderr",
     "output_type": "stream",
     "text": [
      " 70%|███████   | 21/30 [3:35:35<3:18:33, 1323.67s/it]"
     ]
    },
    {
     "name": "stdout",
     "output_type": "stream",
     "text": [
      "Data saved to /Users/xieewenz/BunkerHill-CardScanToData/data/WPA_Bunker_Hill_Curated_Updated.xlsx\n"
     ]
    },
    {
     "name": "stderr",
     "output_type": "stream",
     "text": [
      "Processing images: 100%|██████████| 8543/8543 [00:06<00:00, 1248.20it/s]\n"
     ]
    },
    {
     "name": "stdout",
     "output_type": "stream",
     "text": [
      "refrig segment processed data head:\n",
      "                                            refrig\n",
      "p15799coll8_3710.jpeg                     electric\n",
      "p15799coll8_79403.jpeg                        none\n",
      "p15799coll8_13025.jpeg                        none\n",
      "p15799coll8_92298.jpeg                    electric\n",
      "p15799coll8_44403.jpg   SCAN ERROR / NO PREDICTION\n",
      "                                            refrig  match_ids\n",
      "p15799coll8_3710.jpeg                     electric       3710\n",
      "p15799coll8_79403.jpeg                        none      79403\n",
      "p15799coll8_13025.jpeg                        none      13025\n",
      "p15799coll8_92298.jpeg                    electric      92298\n",
      "p15799coll8_44403.jpg   SCAN ERROR / NO PREDICTION      44403\n"
     ]
    },
    {
     "name": "stderr",
     "output_type": "stream",
     "text": [
      " 73%|███████▎  | 22/30 [3:35:48<2:04:02, 930.33s/it] "
     ]
    },
    {
     "name": "stdout",
     "output_type": "stream",
     "text": [
      "Data saved to /Users/xieewenz/BunkerHill-CardScanToData/data/WPA_Bunker_Hill_Curated_Updated.xlsx\n"
     ]
    },
    {
     "name": "stderr",
     "output_type": "stream",
     "text": [
      "Processing OCR: 100%|██████████| 2179/2179 [09:04<00:00,  4.00it/s]\n"
     ]
    },
    {
     "name": "stdout",
     "output_type": "stream",
     "text": [
      "stories segment processed data head:\n",
      "                       stories.num\n",
      "p15799coll8_3710.jpeg            -\n",
      "p15799coll8_30529.jpeg           4\n",
      "p15799coll8_14426.jpeg          -3\n",
      "p15799coll8_49866.jpg            3\n",
      "p15799coll8_3655.jpeg            b\n",
      "                       stories.num  match_ids\n",
      "p15799coll8_3710.jpeg            -       3710\n",
      "p15799coll8_30529.jpeg           4      30529\n",
      "p15799coll8_14426.jpeg          -3      14426\n",
      "p15799coll8_49866.jpg            3      49866\n",
      "p15799coll8_3655.jpeg            b       3655\n"
     ]
    },
    {
     "name": "stderr",
     "output_type": "stream",
     "text": [
      " 77%|███████▋  | 23/30 [3:44:59<1:35:15, 816.51s/it]"
     ]
    },
    {
     "name": "stdout",
     "output_type": "stream",
     "text": [
      "Data saved to /Users/xieewenz/BunkerHill-CardScanToData/data/WPA_Bunker_Hill_Curated_Updated.xlsx\n"
     ]
    },
    {
     "name": "stderr",
     "output_type": "stream",
     "text": [
      "Processing images: 100%|██████████| 13074/13074 [00:09<00:00, 1424.80it/s]\n"
     ]
    },
    {
     "name": "stdout",
     "output_type": "stream",
     "text": [
      "structure segment processed data head:\n",
      "                                                                structure\n",
      "p15799coll8_75836.jpeg                                              other\n",
      "p15799coll8_30529.jpeg                                              other\n",
      "p15799coll8_14426.jpeg                                         two_decker\n",
      "p15799coll8_75973.jpeg                                              other\n",
      "p15799coll8_3655.jpeg   two_side;single_detached;single_attached;four_...\n",
      "                                                                structure  \\\n",
      "p15799coll8_75836.jpeg                                              other   \n",
      "p15799coll8_30529.jpeg                                              other   \n",
      "p15799coll8_14426.jpeg                                         two_decker   \n",
      "p15799coll8_75973.jpeg                                              other   \n",
      "p15799coll8_3655.jpeg   two_side;single_detached;single_attached;four_...   \n",
      "\n",
      "                        match_ids  \n",
      "p15799coll8_75836.jpeg      75836  \n",
      "p15799coll8_30529.jpeg      30529  \n",
      "p15799coll8_14426.jpeg      14426  \n",
      "p15799coll8_75973.jpeg      75973  \n",
      "p15799coll8_3655.jpeg        3655  \n"
     ]
    },
    {
     "name": "stderr",
     "output_type": "stream",
     "text": [
      " 80%|████████  | 24/30 [3:45:15<57:37, 576.23s/it]  "
     ]
    },
    {
     "name": "stdout",
     "output_type": "stream",
     "text": [
      "Data saved to /Users/xieewenz/BunkerHill-CardScanToData/data/WPA_Bunker_Hill_Curated_Updated.xlsx\n"
     ]
    },
    {
     "name": "stderr",
     "output_type": "stream",
     "text": [
      "Processing OCR: 100%|██████████| 10895/10895 [51:46<00:00,  3.51it/s]\n"
     ]
    },
    {
     "name": "stdout",
     "output_type": "stream",
     "text": [
      "structure_text segment processed data head:\n",
      "                       structure_text.partially_converted  \\\n",
      "p15799coll8_30529.jpeg                                  -   \n",
      "p15799coll8_3710.jpeg                                   -   \n",
      "p15799coll8_75836.jpeg                                  -   \n",
      "p15799coll8_3655.jpeg                                   -   \n",
      "p15799coll8_87649.jpeg                                  -   \n",
      "\n",
      "                       structure_text.business_with_dwel  \\\n",
      "p15799coll8_30529.jpeg                                 -   \n",
      "p15799coll8_3710.jpeg         SCAN ERROR / NO PREDICTION   \n",
      "p15799coll8_75836.jpeg        SCAN ERROR / NO PREDICTION   \n",
      "p15799coll8_3655.jpeg                                  -   \n",
      "p15799coll8_87649.jpeg                                 -   \n",
      "\n",
      "                       structure_text.non_converted  \\\n",
      "p15799coll8_30529.jpeg                            -   \n",
      "p15799coll8_3710.jpeg    SCAN ERROR / NO PREDICTION   \n",
      "p15799coll8_75836.jpeg   SCAN ERROR / NO PREDICTION   \n",
      "p15799coll8_3655.jpeg                             -   \n",
      "p15799coll8_87649.jpeg   SCAN ERROR / NO PREDICTION   \n",
      "\n",
      "                       structure_text.completely_converted  \\\n",
      "p15799coll8_30529.jpeg                                   -   \n",
      "p15799coll8_3710.jpeg                                    -   \n",
      "p15799coll8_75836.jpeg                                   -   \n",
      "p15799coll8_3655.jpeg                                    -   \n",
      "p15799coll8_87649.jpeg          SCAN ERROR / NO PREDICTION   \n",
      "\n",
      "                       structure_text.apartment  \n",
      "p15799coll8_30529.jpeg                       35  \n",
      "p15799coll8_3710.jpeg                        72  \n",
      "p15799coll8_75836.jpeg                       89  \n",
      "p15799coll8_3655.jpeg                        it  \n",
      "p15799coll8_87649.jpeg                       3L  \n",
      "                       structure_text.partially_converted  \\\n",
      "p15799coll8_30529.jpeg                                  -   \n",
      "p15799coll8_3710.jpeg                                   -   \n",
      "p15799coll8_75836.jpeg                                  -   \n",
      "p15799coll8_3655.jpeg                                   -   \n",
      "p15799coll8_87649.jpeg                                  -   \n",
      "\n",
      "                       structure_text.business_with_dwel  \\\n",
      "p15799coll8_30529.jpeg                                 -   \n",
      "p15799coll8_3710.jpeg         SCAN ERROR / NO PREDICTION   \n",
      "p15799coll8_75836.jpeg        SCAN ERROR / NO PREDICTION   \n",
      "p15799coll8_3655.jpeg                                  -   \n",
      "p15799coll8_87649.jpeg                                 -   \n",
      "\n",
      "                       structure_text.non_converted  \\\n",
      "p15799coll8_30529.jpeg                            -   \n",
      "p15799coll8_3710.jpeg    SCAN ERROR / NO PREDICTION   \n",
      "p15799coll8_75836.jpeg   SCAN ERROR / NO PREDICTION   \n",
      "p15799coll8_3655.jpeg                             -   \n",
      "p15799coll8_87649.jpeg   SCAN ERROR / NO PREDICTION   \n",
      "\n",
      "                       structure_text.completely_converted  \\\n",
      "p15799coll8_30529.jpeg                                   -   \n",
      "p15799coll8_3710.jpeg                                    -   \n",
      "p15799coll8_75836.jpeg                                   -   \n",
      "p15799coll8_3655.jpeg                                    -   \n",
      "p15799coll8_87649.jpeg          SCAN ERROR / NO PREDICTION   \n",
      "\n",
      "                       structure_text.apartment  match_ids  \n",
      "p15799coll8_30529.jpeg                       35      30529  \n",
      "p15799coll8_3710.jpeg                        72       3710  \n",
      "p15799coll8_75836.jpeg                       89      75836  \n",
      "p15799coll8_3655.jpeg                        it       3655  \n",
      "p15799coll8_87649.jpeg                       3L      87649  \n"
     ]
    },
    {
     "name": "stderr",
     "output_type": "stream",
     "text": [
      " 83%|████████▎ | 25/30 [4:37:09<1:51:28, 1337.66s/it]"
     ]
    },
    {
     "name": "stdout",
     "output_type": "stream",
     "text": [
      "Data saved to /Users/xieewenz/BunkerHill-CardScanToData/data/WPA_Bunker_Hill_Curated_Updated.xlsx\n"
     ]
    },
    {
     "name": "stderr",
     "output_type": "stream",
     "text": [
      "Processing OCR: 100%|██████████| 2179/2179 [09:01<00:00,  4.02it/s]\n"
     ]
    },
    {
     "name": "stdout",
     "output_type": "stream",
     "text": [
      "toilets segment processed data head:\n",
      "                       toilets.num\n",
      "p15799coll8_3710.jpeg           CL\n",
      "p15799coll8_75836.jpeg        E1/3\n",
      "p15799coll8_14426.jpeg         Fy4\n",
      "p15799coll8_49866.jpg           CL\n",
      "p15799coll8_3655.jpeg            1\n",
      "                       toilets.num  match_ids\n",
      "p15799coll8_3710.jpeg           CL       3710\n",
      "p15799coll8_75836.jpeg        E1/3      75836\n",
      "p15799coll8_14426.jpeg         Fy4      14426\n",
      "p15799coll8_49866.jpg           CL      49866\n",
      "p15799coll8_3655.jpeg            1       3655\n"
     ]
    },
    {
     "name": "stderr",
     "output_type": "stream",
     "text": [
      " 87%|████████▋ | 26/30 [4:46:16<1:13:22, 1100.65s/it]"
     ]
    },
    {
     "name": "stdout",
     "output_type": "stream",
     "text": [
      "Data saved to /Users/xieewenz/BunkerHill-CardScanToData/data/WPA_Bunker_Hill_Curated_Updated.xlsx\n"
     ]
    },
    {
     "name": "stderr",
     "output_type": "stream",
     "text": [
      "Processing OCR: 100%|██████████| 2170/2170 [09:02<00:00,  4.00it/s]\n"
     ]
    },
    {
     "name": "stdout",
     "output_type": "stream",
     "text": [
      "total_rooms segment processed data head:\n",
      "                       total_rooms.num\n",
      "p15799coll8_3710.jpeg                3\n",
      "p15799coll8_30529.jpeg              12\n",
      "p15799coll8_75973.jpeg               -\n",
      "p15799coll8_49866.jpg                2\n",
      "p15799coll8_87649.jpeg               T\n",
      "                       total_rooms.num  match_ids\n",
      "p15799coll8_3710.jpeg                3       3710\n",
      "p15799coll8_30529.jpeg              12      30529\n",
      "p15799coll8_75973.jpeg               -      75973\n",
      "p15799coll8_49866.jpg                2      49866\n",
      "p15799coll8_87649.jpeg               T      87649\n"
     ]
    },
    {
     "name": "stderr",
     "output_type": "stream",
     "text": [
      " 90%|█████████ | 27/30 [4:55:26<46:45, 935.20s/it]   "
     ]
    },
    {
     "name": "stdout",
     "output_type": "stream",
     "text": [
      "Data saved to /Users/xieewenz/BunkerHill-CardScanToData/data/WPA_Bunker_Hill_Curated_Updated.xlsx\n"
     ]
    },
    {
     "name": "stderr",
     "output_type": "stream",
     "text": [
      "Processing OCR: 100%|██████████| 2179/2179 [09:03<00:00,  4.01it/s]\n"
     ]
    },
    {
     "name": "stdout",
     "output_type": "stream",
     "text": [
      "value segment processed data head:\n",
      "                       value.num\n",
      "p15799coll8_50386.jpeg      6000\n",
      "p15799coll8_3317.jpeg          -\n",
      "p15799coll8_75924.jpeg    H0.000\n",
      "p15799coll8_82054.jpg     12.000\n",
      "p15799coll8_87864.jpeg         -\n",
      "                       value.num  match_ids\n",
      "p15799coll8_50386.jpeg      6000      50386\n",
      "p15799coll8_3317.jpeg          -       3317\n",
      "p15799coll8_75924.jpeg    H0.000      75924\n",
      "p15799coll8_82054.jpg     12.000      82054\n",
      "p15799coll8_87864.jpeg         -      87864\n"
     ]
    },
    {
     "name": "stderr",
     "output_type": "stream",
     "text": [
      " 93%|█████████▎| 28/30 [5:04:36<27:19, 819.79s/it]"
     ]
    },
    {
     "name": "stdout",
     "output_type": "stream",
     "text": [
      "Data saved to /Users/xieewenz/BunkerHill-CardScanToData/data/WPA_Bunker_Hill_Curated_Updated.xlsx\n"
     ]
    },
    {
     "name": "stderr",
     "output_type": "stream",
     "text": [
      "Processing images: 100%|██████████| 6537/6537 [00:07<00:00, 929.98it/s] \n"
     ]
    },
    {
     "name": "stdout",
     "output_type": "stream",
     "text": [
      "water segment processed data head:\n",
      "                                             water\n",
      "p15799coll8_75836.jpeg                hot_and_cold\n",
      "p15799coll8_3710.jpeg                 hot_and_cold\n",
      "p15799coll8_49866.jpg                 hot_and_cold\n",
      "p15799coll8_87649.jpeg                hot_and_cold\n",
      "p15799coll8_3655.jpeg   SCAN ERROR / NO PREDICTION\n",
      "                                             water  match_ids\n",
      "p15799coll8_75836.jpeg                hot_and_cold      75836\n",
      "p15799coll8_3710.jpeg                 hot_and_cold       3710\n",
      "p15799coll8_49866.jpg                 hot_and_cold      49866\n",
      "p15799coll8_87649.jpeg                hot_and_cold      87649\n",
      "p15799coll8_3655.jpeg   SCAN ERROR / NO PREDICTION       3655\n"
     ]
    },
    {
     "name": "stderr",
     "output_type": "stream",
     "text": [
      " 97%|█████████▋| 29/30 [5:04:50<09:37, 577.92s/it]"
     ]
    },
    {
     "name": "stdout",
     "output_type": "stream",
     "text": [
      "Data saved to /Users/xieewenz/BunkerHill-CardScanToData/data/WPA_Bunker_Hill_Curated_Updated.xlsx\n"
     ]
    },
    {
     "name": "stderr",
     "output_type": "stream",
     "text": [
      "Processing OCR: 100%|██████████| 2179/2179 [08:53<00:00,  4.08it/s]\n"
     ]
    },
    {
     "name": "stdout",
     "output_type": "stream",
     "text": [
      "year_built segment processed data head:\n",
      "                       year_built.num\n",
      "p15799coll8_3710.jpeg            1905\n",
      "p15799coll8_14426.jpeg           1895\n",
      "p15799coll8_75836.jpeg             90\n",
      "p15799coll8_30529.jpeg           1914\n",
      "p15799coll8_49866.jpg             190\n",
      "                       year_built.num  match_ids\n",
      "p15799coll8_3710.jpeg            1905       3710\n",
      "p15799coll8_14426.jpeg           1895      14426\n",
      "p15799coll8_75836.jpeg             90      75836\n",
      "p15799coll8_30529.jpeg           1914      30529\n",
      "p15799coll8_49866.jpg             190      49866\n"
     ]
    },
    {
     "name": "stderr",
     "output_type": "stream",
     "text": [
      "100%|██████████| 30/30 [5:13:50<00:00, 627.69s/it]"
     ]
    },
    {
     "name": "stdout",
     "output_type": "stream",
     "text": [
      "Data saved to /Users/xieewenz/BunkerHill-CardScanToData/data/WPA_Bunker_Hill_Curated_Updated.xlsx\n"
     ]
    },
    {
     "name": "stderr",
     "output_type": "stream",
     "text": [
      "\n"
     ]
    },
    {
     "name": "stdout",
     "output_type": "stream",
     "text": [
      "Final data saved to /Users/xieewenz/BunkerHill-CardScanToData/data/WPA_Bunker_Hill_Curated_Final.xlsx\n"
     ]
    }
   ],
   "source": [
    "def merge_into_all_data_and_save(all_data, df):\n",
    "    df.index = df.index.astype(str)\n",
    "    extracted_ids = df.index.str.extract('_(\\d+)\\.\\w+$')[0]\n",
    "    match_id_series = pd.Series(data=extracted_ids.values, index=df.index)\n",
    "    match_id_series.dropna(inplace=True)\n",
    "    df['match_ids'] = match_id_series.astype(int)\n",
    "    \n",
    "    print(df.head())\n",
    "\n",
    "    merged_df = pd.merge(all_data, df, on='match_ids', how='left')\n",
    "    return merged_df\n",
    "\n",
    "\n",
    "extracted_ids = all_data['CONTENTdm file path'].str.extract('\\/(\\d+)\\.jp2$')[0]\n",
    "match_id_series = pd.Series(data=extracted_ids.values, index=all_data.index)\n",
    "match_id_series.dropna(inplace=True)\n",
    "all_data['match_ids'] = match_id_series.astype(int)\n",
    "\n",
    "segment_results = {}\n",
    "for params in tqdm(segment_params):\n",
    "    if params.segment_type == SegmentType.CHECKBOX:\n",
    "        result_df = process_region_segments_checkbox(params.base_path, classifier, skip_folders=params.skip_folders, default_fillna=params.default_fillna)\n",
    "    elif params.segment_type == SegmentType.OCR:\n",
    "        result_df = process_region_segments_ocr(params.base_path, EngineType.PADDLEOCR, skip_folders=params.skip_folders, default_fillna=params.default_fillna)\n",
    "    segment_results[params.base_path.name] = result_df\n",
    "    print(f\"{params.base_path.name} segment processed data head:\")\n",
    "    print(result_df.head())\n",
    "\n",
    "    all_data = merge_into_all_data_and_save(all_data, result_df)\n",
    "    \n",
    "    output_path = PROJECT_ROOT_PATH / f\"data/WPA_Bunker_Hill_Curated_Updated.xlsx\"\n",
    "    all_data.to_excel(output_path, index=False)\n",
    "    print(f\"Data saved to {output_path}\")\n",
    "\n",
    "all_data.drop(columns=['match_ids'], inplace=True)\n",
    "output_path = PROJECT_ROOT_PATH / f\"data/WPA_Bunker_Hill_Curated_Final.xlsx\"\n",
    "all_data.to_excel(output_path, index=False)\n",
    "print(f\"Final data saved to {output_path}\")\n",
    "\n",
    "    \n"
   ]
  },
  {
   "cell_type": "code",
   "execution_count": null,
   "id": "0406fc34",
   "metadata": {},
   "outputs": [],
   "source": []
  },
  {
   "cell_type": "code",
   "execution_count": null,
   "id": "6c37576e",
   "metadata": {},
   "outputs": [],
   "source": []
  },
  {
   "cell_type": "code",
   "execution_count": null,
   "id": "e73d5b97",
   "metadata": {},
   "outputs": [],
   "source": []
  }
 ],
 "metadata": {
  "kernelspec": {
   "display_name": "Python 3 (ipykernel)",
   "language": "python",
   "name": "python3"
  },
  "language_info": {
   "codemirror_mode": {
    "name": "ipython",
    "version": 3
   },
   "file_extension": ".py",
   "mimetype": "text/x-python",
   "name": "python",
   "nbconvert_exporter": "python",
   "pygments_lexer": "ipython3",
   "version": "3.10.0"
  }
 },
 "nbformat": 4,
 "nbformat_minor": 5
}
