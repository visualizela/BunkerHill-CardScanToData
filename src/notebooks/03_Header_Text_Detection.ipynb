{
 "cells": [
  {
   "cell_type": "code",
   "execution_count": 1,
   "id": "34184be3",
   "metadata": {},
   "outputs": [],
   "source": [
    "import os\n",
    "import time\n",
    "\n",
    "import pandas as pd\n",
    "import difflib\n",
    "from google.cloud import vision\n",
    "import concurrent.futures\n",
    "from concurrent.futures import ProcessPoolExecutor\n",
    "\n",
    "from src.ocr import OCR, EngineType, ImageOCRProcessor\n",
    "from src.constants import PROJECT_ROOT_PATH\n"
   ]
  },
  {
   "cell_type": "code",
   "execution_count": 2,
   "id": "d4271f3b",
   "metadata": {},
   "outputs": [
    {
     "name": "stdout",
     "output_type": "stream",
     "text": [
      "TESSERACT: _f/7Ee\n",
      "CLOUDVISION: 1700\n",
      "PADDLEOCR: 1700\n",
      "\n",
      "TESSERACT: CHE. /VO. £6 = ETO\n",
      "CLOUDVISION: Apt. No. 21- 3 ROF LO0.\n",
      "PADDLEOCR: pX.NO.21-3RDFL00\n",
      "\n",
      "TESSERACT: WEsT “AEAR\n",
      "CLOUDVISION: WEST REAR\n",
      "PADDLEOCR: WESTAREARE\n",
      "\n",
      "TESSERACT: f Fon. (~~ AST DIRE\n",
      "CLOUDVISION: FRONT EAST SIDE\n",
      "PADDLEOCR: FRONT-EASTSIDE\n",
      "\n"
     ]
    }
   ],
   "source": [
    "# compare engines\n",
    "ocr = OCR()\n",
    "\n",
    "test_images = [\n",
    "    PROJECT_ROOT_PATH / \"deprecated/number.jpg\",\n",
    "    PROJECT_ROOT_PATH / \"deprecated/form_info_001/apartment_no/00005.jpg\",\n",
    "    PROJECT_ROOT_PATH / \"deprecated/form_info_001/apartment_no/00019.jpg\",\n",
    "    PROJECT_ROOT_PATH / \"deprecated/form_info_001/apartment_no/00021.jpg\",\n",
    "]\n",
    "for image in test_images:\n",
    "    for engine in EngineType:\n",
    "        ocr.set_engine(engine)\n",
    "        print(f\"{engine.name}: \"+ocr.run(image).strip('\\n'))\n",
    "    print()\n",
    "\n"
   ]
  },
  {
   "cell_type": "code",
   "execution_count": 2,
   "id": "61e69076",
   "metadata": {},
   "outputs": [
    {
     "name": "stderr",
     "output_type": "stream",
     "text": [
      "Processing images concurrently:   3%|▎         | 72/2348 [00:20<10:34,  3.59it/s] \n"
     ]
    }
   ],
   "source": [
    "base_path = PROJECT_ROOT_PATH / \"deprecated/form_info_001\"\n",
    "directories = [\"street\", \"street_no\", \"apartment_no\"]\n",
    "street_options = [\"flower\", \"clay\", \"grand\", \"figueroa\", \"bunker hill ave\", \"cinnabar\", \"hope\", \"west\"]\n",
    "ocr_engine = EngineType.PADDLEOCR\n",
    "processor = ImageOCRProcessor(ocr_engine, base_path, directories, street_options)\n",
    "df = processor.process_images_concurrently()\n",
    "print(df)"
   ]
  },
  {
   "cell_type": "code",
   "execution_count": null,
   "id": "f960c1b4",
   "metadata": {},
   "outputs": [],
   "source": []
  }
 ],
 "metadata": {
  "kernelspec": {
   "display_name": "Python 3 (ipykernel)",
   "language": "python",
   "name": "python3"
  },
  "language_info": {
   "codemirror_mode": {
    "name": "ipython",
    "version": 3
   },
   "file_extension": ".py",
   "mimetype": "text/x-python",
   "name": "python",
   "nbconvert_exporter": "python",
   "pygments_lexer": "ipython3",
   "version": "3.10.0"
  }
 },
 "nbformat": 4,
 "nbformat_minor": 5
}
