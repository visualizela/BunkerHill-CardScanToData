{
 "cells": [
  {
   "cell_type": "code",
   "execution_count": 1,
   "id": "f0d6fa48",
   "metadata": {},
   "outputs": [],
   "source": [
    "from src.constants import PROJECT_ROOT_PATH"
   ]
  },
  {
   "cell_type": "code",
   "execution_count": 2,
   "id": "7f4c2dd8",
   "metadata": {},
   "outputs": [],
   "source": [
    "import os\n",
    "import shutil\n",
    "from tqdm import tqdm\n",
    "\n",
    "def find_images(folder_path, extensions=['.jpg', '.png', '.jpeg', '.gif', '.bmp']):\n",
    "    image_paths = []\n",
    "    for root, dirs, files in os.walk(folder_path):\n",
    "        for file in files:\n",
    "            if any(file.lower().endswith(ext) for ext in extensions):\n",
    "                image_paths.append(os.path.join(root, file))\n",
    "    return image_paths\n",
    "\n"
   ]
  },
  {
   "cell_type": "code",
   "execution_count": 3,
   "id": "54e23a9d",
   "metadata": {},
   "outputs": [],
   "source": [
    "# folder_path = \"data/sliced_cards/11-28-2023\"\n",
    "# images = find_images(folder_path)\n",
    "\n",
    "# new_folder_path = \"data/training_data\"\n",
    "# os.makedirs(new_folder_path, exist_ok=True)\n",
    "\n",
    "# for i, image_path in enumerate(images):\n",
    "#     new_image_path = os.path.join(new_folder_path, f\"{i:04d}.jpg\")\n",
    "#     shutil.copy(image_path, new_image_path)"
   ]
  },
  {
   "cell_type": "code",
   "execution_count": null,
   "id": "6d3ef347",
   "metadata": {},
   "outputs": [],
   "source": []
  },
  {
   "cell_type": "code",
   "execution_count": 4,
   "id": "619e7c39",
   "metadata": {},
   "outputs": [],
   "source": [
    "class_0_path = PROJECT_ROOT_PATH/ \"data/checkbox_model_training_data/empty\"\n",
    "class_1_path = PROJECT_ROOT_PATH/\"data/checkbox_model_training_data/checked\"\n",
    "\n",
    "class_0_images = find_images(class_0_path)\n",
    "class_1_images = find_images(class_1_path)\n",
    "\n",
    "class_0_classifications = [0] * len(class_0_images)\n",
    "class_1_classifications = [1] * len(class_1_images)"
   ]
  },
  {
   "cell_type": "code",
   "execution_count": 5,
   "id": "0700be03",
   "metadata": {},
   "outputs": [
    {
     "name": "stdout",
     "output_type": "stream",
     "text": [
      "Accuracy: 0.9901960784313726\n"
     ]
    }
   ],
   "source": [
    "import numpy as np\n",
    "from PIL import Image\n",
    "from sklearn.model_selection import train_test_split\n",
    "from sklearn.svm import SVC\n",
    "\n",
    "# Load and preprocess images\n",
    "def load_images(image_paths):\n",
    "    images = []\n",
    "    for path in image_paths:\n",
    "        img = Image.open(path).convert('L')  # Convert to grayscale\n",
    "        img = img.resize((25, 25))  # Resize image\n",
    "        img_array = np.array(img).flatten()  # Flatten image\n",
    "        images.append(img_array)\n",
    "    return images\n",
    "\n",
    "# Paths to your images and corresponding labels\n",
    "image_paths = class_0_images + class_1_images\n",
    "labels = class_0_classifications + class_1_classifications\n",
    "\n",
    "images = load_images(image_paths)\n",
    "\n",
    "# Split dataset\n",
    "X_train, X_test, y_train, y_test = train_test_split(images, labels, test_size=0.3)\n",
    "\n",
    "# Initialize classifier\n",
    "classifier = SVC()\n",
    "\n",
    "# Train classifier\n",
    "classifier.fit(X_train, y_train)\n",
    "\n",
    "# Evaluate classifier\n",
    "accuracy = classifier.score(X_test, y_test)\n",
    "print(f\"Accuracy: {accuracy}\")\n"
   ]
  },
  {
   "cell_type": "code",
   "execution_count": 6,
   "id": "8c838be8",
   "metadata": {},
   "outputs": [],
   "source": [
    "import pickle\n",
    "\n",
    "model_path = PROJECT_ROOT_PATH / 'static/checkbox_model_3.pkl'\n",
    "if model_path.exists():\n",
    "    proceed = input(f\"Model {model_path} already exists. Do you want to overwrite it? (y/n): \")\n",
    "    if proceed.lower() != 'y':\n",
    "        print(\"Operation cancelled by the user.\")\n",
    "        raise SystemExit\n",
    "\n",
    "\n",
    "# Save the trained model\n",
    "with open(model_path, 'wb') as f:\n",
    "    pickle.dump(classifier, f)\n",
    "\n",
    "# Load the trained model\n",
    "with open(model_path, 'rb') as f:\n",
    "    loaded_classifier = pickle.load(f)\n"
   ]
  },
  {
   "cell_type": "code",
   "execution_count": 8,
   "id": "2a9f15b7",
   "metadata": {},
   "outputs": [],
   "source": [
    "final_test_folder = PROJECT_ROOT_PATH/\"data/06_Segments/included_in_rent/cook_fuel\"\n",
    "final_test_paths = find_images(final_test_folder)\n",
    "final_test_images = load_images(final_test_paths)\n",
    "\n",
    "classifier.predict(final_test_images)\n",
    "\n",
    "os.makedirs(PROJECT_ROOT_PATH/'pred_0/', exist_ok=True)\n",
    "os.makedirs(PROJECT_ROOT_PATH/'pred_1/', exist_ok=True)\n",
    "\n",
    "predictions = classifier.predict(final_test_images)\n",
    "for i, pred in enumerate(predictions):\n",
    "    if pred == 0:\n",
    "        shutil.copy(final_test_paths[i], PROJECT_ROOT_PATH/'pred_0/')\n",
    "    else:\n",
    "        shutil.copy(final_test_paths[i], PROJECT_ROOT_PATH/'pred_1/')\n"
   ]
  },
  {
   "cell_type": "code",
   "execution_count": null,
   "id": "9721f886",
   "metadata": {},
   "outputs": [],
   "source": []
  }
 ],
 "metadata": {
  "kernelspec": {
   "display_name": "Python 3 (ipykernel)",
   "language": "python",
   "name": "python3"
  },
  "language_info": {
   "codemirror_mode": {
    "name": "ipython",
    "version": 3
   },
   "file_extension": ".py",
   "mimetype": "text/x-python",
   "name": "python",
   "nbconvert_exporter": "python",
   "pygments_lexer": "ipython3",
   "version": "3.10.0"
  }
 },
 "nbformat": 4,
 "nbformat_minor": 5
}
